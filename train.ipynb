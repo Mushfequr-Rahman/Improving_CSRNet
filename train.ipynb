{
 "cells": [
  {
   "cell_type": "code",
   "execution_count": 1,
   "metadata": {},
   "outputs": [],
   "source": [
    "import numpy as np\n",
    "import time\n",
    "import torch\n",
    "import torch.nn as nn\n",
    "import os\n",
    "import sys\n",
    "from tqdm import tqdm\n",
    "\n",
    "from config import Config\n",
    "from model import CSRNet\n",
    "from dataset import create_train_dataloader,create_test_dataloader\n",
    "from utils import denormalize"
   ]
  },
  {
   "cell_type": "code",
   "execution_count": null,
   "metadata": {},
   "outputs": [
    {
     "name": "stderr",
     "output_type": "stream",
     "text": [
      "/Users/jwdjj/opt/anaconda3/lib/python3.7/site-packages/torch/nn/_reduction.py:43: UserWarning: size_average and reduce args will be deprecated, please use reduction='sum' instead.\n",
      "  warnings.warn(warning.format(ret))\n",
      "\r",
      "  0%|          | 0/300 [00:00<?, ?it/s]"
     ]
    },
    {
     "name": "stdout",
     "output_type": "stream",
     "text": [
      "Before backend torch.Size([1, 512, 96, 128])\n",
      "After backend torch.Size([1, 64, 96, 128])\n",
      "After output layer:  torch.Size([1, 1, 96, 128])\n",
      "Final out torch.Size([1, 1, 768, 1024])\n"
     ]
    },
    {
     "name": "stderr",
     "output_type": "stream",
     "text": [
      "\r",
      "  0%|          | 1/300 [00:22<1:49:54, 22.05s/it]"
     ]
    },
    {
     "name": "stdout",
     "output_type": "stream",
     "text": [
      "Before backend torch.Size([1, 512, 50, 74])\n",
      "After backend torch.Size([1, 64, 50, 74])\n",
      "After output layer:  torch.Size([1, 1, 50, 74])\n",
      "Final out torch.Size([1, 1, 400, 592])\n"
     ]
    },
    {
     "name": "stderr",
     "output_type": "stream",
     "text": [
      "\r",
      "  1%|          | 2/300 [00:28<1:26:21, 17.39s/it]"
     ]
    },
    {
     "name": "stdout",
     "output_type": "stream",
     "text": [
      "Before backend torch.Size([1, 512, 80, 128])\n",
      "After backend torch.Size([1, 64, 80, 128])\n",
      "After output layer:  torch.Size([1, 1, 80, 128])\n",
      "Final out torch.Size([1, 1, 640, 1024])\n"
     ]
    },
    {
     "name": "stderr",
     "output_type": "stream",
     "text": [
      "\r",
      "  1%|          | 3/300 [00:52<1:35:17, 19.25s/it]"
     ]
    },
    {
     "name": "stdout",
     "output_type": "stream",
     "text": [
      "Before backend torch.Size([1, 512, 54, 128])\n",
      "After backend torch.Size([1, 64, 54, 128])\n",
      "After output layer:  torch.Size([1, 1, 54, 128])\n",
      "Final out torch.Size([1, 1, 432, 1024])\n"
     ]
    },
    {
     "name": "stderr",
     "output_type": "stream",
     "text": [
      "\r",
      "  1%|▏         | 4/300 [01:05<1:26:09, 17.46s/it]"
     ]
    },
    {
     "name": "stdout",
     "output_type": "stream",
     "text": [
      "There is a grayscale image.\n",
      "Before backend torch.Size([1, 512, 92, 128])\n",
      "After backend torch.Size([1, 64, 92, 128])\n",
      "After output layer:  torch.Size([1, 1, 92, 128])\n",
      "Final out torch.Size([1, 1, 736, 1024])\n"
     ]
    },
    {
     "name": "stderr",
     "output_type": "stream",
     "text": [
      "\r",
      "  2%|▏         | 5/300 [01:28<1:33:42, 19.06s/it]"
     ]
    },
    {
     "name": "stdout",
     "output_type": "stream",
     "text": [
      "There is a grayscale image.\n",
      "Before backend torch.Size([1, 512, 84, 128])\n",
      "After backend torch.Size([1, 64, 84, 128])\n",
      "After output layer:  torch.Size([1, 1, 84, 128])\n",
      "Final out torch.Size([1, 1, 672, 1024])\n"
     ]
    },
    {
     "name": "stderr",
     "output_type": "stream",
     "text": [
      "\r",
      "  2%|▏         | 6/300 [01:51<1:39:26, 20.29s/it]"
     ]
    },
    {
     "name": "stdout",
     "output_type": "stream",
     "text": [
      "Before backend torch.Size([1, 512, 42, 62])\n",
      "After backend torch.Size([1, 64, 42, 62])\n",
      "After output layer:  torch.Size([1, 1, 42, 62])\n",
      "Final out torch.Size([1, 1, 336, 496])\n"
     ]
    },
    {
     "name": "stderr",
     "output_type": "stream",
     "text": [
      "\r",
      "  2%|▏         | 7/300 [01:56<1:16:17, 15.62s/it]"
     ]
    },
    {
     "name": "stdout",
     "output_type": "stream",
     "text": [
      "Before backend torch.Size([1, 512, 80, 100])\n",
      "After backend torch.Size([1, 64, 80, 100])\n",
      "After output layer:  torch.Size([1, 1, 80, 100])\n",
      "Final out torch.Size([1, 1, 640, 800])\n"
     ]
    },
    {
     "name": "stderr",
     "output_type": "stream",
     "text": [
      "\r",
      "  3%|▎         | 8/300 [02:10<1:14:34, 15.32s/it]"
     ]
    },
    {
     "name": "stdout",
     "output_type": "stream",
     "text": [
      "Before backend torch.Size([1, 512, 84, 128])\n",
      "After backend torch.Size([1, 64, 84, 128])\n",
      "After output layer:  torch.Size([1, 1, 84, 128])\n",
      "Final out torch.Size([1, 1, 672, 1024])\n"
     ]
    },
    {
     "name": "stderr",
     "output_type": "stream",
     "text": [
      "\r",
      "  3%|▎         | 9/300 [02:31<1:22:22, 16.98s/it]"
     ]
    },
    {
     "name": "stdout",
     "output_type": "stream",
     "text": [
      "Before backend torch.Size([1, 512, 50, 80])\n",
      "After backend torch.Size([1, 64, 50, 80])\n",
      "After output layer:  torch.Size([1, 1, 50, 80])\n",
      "Final out torch.Size([1, 1, 400, 640])\n"
     ]
    },
    {
     "name": "stderr",
     "output_type": "stream",
     "text": [
      "\r",
      "  3%|▎         | 10/300 [02:38<1:08:05, 14.09s/it]"
     ]
    },
    {
     "name": "stdout",
     "output_type": "stream",
     "text": [
      "Before backend torch.Size([1, 512, 84, 128])\n",
      "After backend torch.Size([1, 64, 84, 128])\n",
      "After output layer:  torch.Size([1, 1, 84, 128])\n",
      "Final out torch.Size([1, 1, 672, 1024])\n"
     ]
    },
    {
     "name": "stderr",
     "output_type": "stream",
     "text": [
      "\r",
      "  4%|▎         | 11/300 [02:58<1:16:06, 15.80s/it]"
     ]
    },
    {
     "name": "stdout",
     "output_type": "stream",
     "text": [
      "Before backend torch.Size([1, 512, 48, 62])\n",
      "After backend torch.Size([1, 64, 48, 62])\n",
      "After output layer:  torch.Size([1, 1, 48, 62])\n",
      "Final out torch.Size([1, 1, 384, 496])\n"
     ]
    },
    {
     "name": "stderr",
     "output_type": "stream",
     "text": [
      "\r",
      "  4%|▍         | 12/300 [03:04<1:00:49, 12.67s/it]"
     ]
    },
    {
     "name": "stdout",
     "output_type": "stream",
     "text": [
      "Before backend torch.Size([1, 512, 84, 128])\n",
      "After backend torch.Size([1, 64, 84, 128])\n",
      "After output layer:  torch.Size([1, 1, 84, 128])\n",
      "Final out torch.Size([1, 1, 672, 1024])\n"
     ]
    },
    {
     "name": "stderr",
     "output_type": "stream",
     "text": [
      "\r",
      "  4%|▍         | 13/300 [03:24<1:12:18, 15.12s/it]"
     ]
    },
    {
     "name": "stdout",
     "output_type": "stream",
     "text": [
      "Before backend torch.Size([1, 512, 82, 124])\n",
      "After backend torch.Size([1, 64, 82, 124])\n",
      "After output layer:  torch.Size([1, 1, 82, 124])\n",
      "Final out torch.Size([1, 1, 656, 992])\n"
     ]
    },
    {
     "name": "stderr",
     "output_type": "stream",
     "text": [
      "\r",
      "  5%|▍         | 14/300 [03:43<1:16:38, 16.08s/it]"
     ]
    },
    {
     "name": "stdout",
     "output_type": "stream",
     "text": [
      "Before backend torch.Size([1, 512, 72, 128])\n",
      "After backend torch.Size([1, 64, 72, 128])\n",
      "After output layer:  torch.Size([1, 1, 72, 128])\n",
      "Final out torch.Size([1, 1, 576, 1024])\n"
     ]
    },
    {
     "name": "stderr",
     "output_type": "stream",
     "text": [
      "\r",
      "  5%|▌         | 15/300 [04:00<1:18:25, 16.51s/it]"
     ]
    },
    {
     "name": "stdout",
     "output_type": "stream",
     "text": [
      "Before backend torch.Size([1, 512, 42, 126])\n",
      "After backend torch.Size([1, 64, 42, 126])\n",
      "After output layer:  torch.Size([1, 1, 42, 126])\n",
      "Final out torch.Size([1, 1, 336, 1008])\n"
     ]
    },
    {
     "name": "stderr",
     "output_type": "stream",
     "text": [
      "\r",
      "  5%|▌         | 16/300 [04:10<1:08:25, 14.46s/it]"
     ]
    },
    {
     "name": "stdout",
     "output_type": "stream",
     "text": [
      "Before backend torch.Size([1, 512, 96, 128])\n",
      "After backend torch.Size([1, 64, 96, 128])\n",
      "After output layer:  torch.Size([1, 1, 96, 128])\n",
      "Final out torch.Size([1, 1, 768, 1024])\n"
     ]
    },
    {
     "name": "stderr",
     "output_type": "stream",
     "text": [
      "\r",
      "  6%|▌         | 17/300 [04:35<1:23:23, 17.68s/it]"
     ]
    },
    {
     "name": "stdout",
     "output_type": "stream",
     "text": [
      "Before backend torch.Size([1, 512, 84, 128])\n",
      "After backend torch.Size([1, 64, 84, 128])\n",
      "After output layer:  torch.Size([1, 1, 84, 128])\n",
      "Final out torch.Size([1, 1, 672, 1024])\n"
     ]
    },
    {
     "name": "stderr",
     "output_type": "stream",
     "text": [
      "\r",
      "  6%|▌         | 18/300 [04:59<1:31:34, 19.48s/it]"
     ]
    },
    {
     "name": "stdout",
     "output_type": "stream",
     "text": [
      "Before backend torch.Size([1, 512, 48, 72])\n",
      "After backend torch.Size([1, 64, 48, 72])\n",
      "After output layer:  torch.Size([1, 1, 48, 72])\n",
      "Final out torch.Size([1, 1, 384, 576])\n"
     ]
    },
    {
     "name": "stderr",
     "output_type": "stream",
     "text": [
      "\r",
      "  6%|▋         | 19/300 [05:05<1:12:51, 15.56s/it]"
     ]
    },
    {
     "name": "stdout",
     "output_type": "stream",
     "text": [
      "Before backend torch.Size([1, 512, 74, 112])\n",
      "After backend torch.Size([1, 64, 74, 112])\n",
      "After output layer:  torch.Size([1, 1, 74, 112])\n",
      "Final out torch.Size([1, 1, 592, 896])\n"
     ]
    },
    {
     "name": "stderr",
     "output_type": "stream",
     "text": [
      "\r",
      "  7%|▋         | 20/300 [05:23<1:15:43, 16.23s/it]"
     ]
    },
    {
     "name": "stdout",
     "output_type": "stream",
     "text": [
      "Before backend torch.Size([1, 512, 96, 128])\n",
      "After backend torch.Size([1, 64, 96, 128])\n",
      "After output layer:  torch.Size([1, 1, 96, 128])\n",
      "Final out torch.Size([1, 1, 768, 1024])\n"
     ]
    },
    {
     "name": "stderr",
     "output_type": "stream",
     "text": [
      "\r",
      "  7%|▋         | 21/300 [05:47<1:26:43, 18.65s/it]"
     ]
    },
    {
     "name": "stdout",
     "output_type": "stream",
     "text": [
      "Before backend torch.Size([1, 512, 84, 128])\n",
      "After backend torch.Size([1, 64, 84, 128])\n",
      "After output layer:  torch.Size([1, 1, 84, 128])\n",
      "Final out torch.Size([1, 1, 672, 1024])\n"
     ]
    },
    {
     "name": "stderr",
     "output_type": "stream",
     "text": [
      "\r",
      "  7%|▋         | 22/300 [06:09<1:30:08, 19.46s/it]"
     ]
    },
    {
     "name": "stdout",
     "output_type": "stream",
     "text": [
      "Before backend torch.Size([1, 512, 74, 128])\n",
      "After backend torch.Size([1, 64, 74, 128])\n",
      "After output layer:  torch.Size([1, 1, 74, 128])\n",
      "Final out torch.Size([1, 1, 592, 1024])\n"
     ]
    },
    {
     "name": "stderr",
     "output_type": "stream",
     "text": [
      "\r",
      "  8%|▊         | 23/300 [06:27<1:27:48, 19.02s/it]"
     ]
    },
    {
     "name": "stdout",
     "output_type": "stream",
     "text": [
      "Before backend torch.Size([1, 512, 84, 128])\n",
      "After backend torch.Size([1, 64, 84, 128])\n",
      "After output layer:  torch.Size([1, 1, 84, 128])\n",
      "Final out torch.Size([1, 1, 672, 1024])\n"
     ]
    },
    {
     "name": "stderr",
     "output_type": "stream",
     "text": [
      "\r",
      "  8%|▊         | 24/300 [06:47<1:29:46, 19.52s/it]"
     ]
    },
    {
     "name": "stdout",
     "output_type": "stream",
     "text": [
      "Before backend torch.Size([1, 512, 74, 100])\n",
      "After backend torch.Size([1, 64, 74, 100])\n",
      "After output layer:  torch.Size([1, 1, 74, 100])\n",
      "Final out torch.Size([1, 1, 592, 800])\n"
     ]
    },
    {
     "name": "stderr",
     "output_type": "stream",
     "text": [
      "\r",
      "  8%|▊         | 25/300 [07:01<1:21:22, 17.76s/it]"
     ]
    },
    {
     "name": "stdout",
     "output_type": "stream",
     "text": [
      "Before backend torch.Size([1, 512, 84, 128])\n",
      "After backend torch.Size([1, 64, 84, 128])\n",
      "After output layer:  torch.Size([1, 1, 84, 128])\n",
      "Final out torch.Size([1, 1, 672, 1024])\n"
     ]
    },
    {
     "name": "stderr",
     "output_type": "stream",
     "text": [
      "\r",
      "  9%|▊         | 26/300 [07:23<1:27:16, 19.11s/it]"
     ]
    },
    {
     "name": "stdout",
     "output_type": "stream",
     "text": [
      "Before backend torch.Size([1, 512, 40, 128])\n",
      "After backend torch.Size([1, 64, 40, 128])\n",
      "After output layer:  torch.Size([1, 1, 40, 128])\n",
      "Final out torch.Size([1, 1, 320, 1024])\n"
     ]
    },
    {
     "name": "stderr",
     "output_type": "stream",
     "text": [
      "\r",
      "  9%|▉         | 27/300 [07:33<1:13:41, 16.19s/it]"
     ]
    },
    {
     "name": "stdout",
     "output_type": "stream",
     "text": [
      "Before backend torch.Size([1, 512, 84, 128])\n",
      "After backend torch.Size([1, 64, 84, 128])\n",
      "After output layer:  torch.Size([1, 1, 84, 128])\n",
      "Final out torch.Size([1, 1, 672, 1024])\n"
     ]
    },
    {
     "name": "stderr",
     "output_type": "stream",
     "text": [
      "\r",
      "  9%|▉         | 28/300 [07:54<1:20:00, 17.65s/it]"
     ]
    },
    {
     "name": "stdout",
     "output_type": "stream",
     "text": [
      "Before backend torch.Size([1, 512, 84, 128])\n",
      "After backend torch.Size([1, 64, 84, 128])\n",
      "After output layer:  torch.Size([1, 1, 84, 128])\n",
      "Final out torch.Size([1, 1, 672, 1024])\n"
     ]
    },
    {
     "name": "stderr",
     "output_type": "stream",
     "text": [
      "\r",
      " 10%|▉         | 29/300 [08:13<1:22:35, 18.28s/it]"
     ]
    },
    {
     "name": "stdout",
     "output_type": "stream",
     "text": [
      "Before backend torch.Size([1, 512, 64, 128])\n",
      "After backend torch.Size([1, 64, 64, 128])\n",
      "After output layer:  torch.Size([1, 1, 64, 128])\n",
      "Final out torch.Size([1, 1, 512, 1024])\n"
     ]
    },
    {
     "name": "stderr",
     "output_type": "stream",
     "text": [
      "\r",
      " 10%|█         | 30/300 [08:30<1:19:34, 17.68s/it]"
     ]
    },
    {
     "name": "stdout",
     "output_type": "stream",
     "text": [
      "Before backend torch.Size([1, 512, 82, 128])\n",
      "After backend torch.Size([1, 64, 82, 128])\n",
      "After output layer:  torch.Size([1, 1, 82, 128])\n",
      "Final out torch.Size([1, 1, 656, 1024])\n"
     ]
    },
    {
     "name": "stderr",
     "output_type": "stream",
     "text": [
      "\r",
      " 10%|█         | 31/300 [08:51<1:24:33, 18.86s/it]"
     ]
    },
    {
     "name": "stdout",
     "output_type": "stream",
     "text": [
      "Before backend torch.Size([1, 512, 80, 128])\n",
      "After backend torch.Size([1, 64, 80, 128])\n",
      "After output layer:  torch.Size([1, 1, 80, 128])\n",
      "Final out torch.Size([1, 1, 640, 1024])\n"
     ]
    },
    {
     "name": "stderr",
     "output_type": "stream",
     "text": [
      "\r",
      " 11%|█         | 32/300 [09:13<1:28:12, 19.75s/it]"
     ]
    },
    {
     "name": "stdout",
     "output_type": "stream",
     "text": [
      "Before backend torch.Size([1, 512, 52, 78])\n",
      "After backend torch.Size([1, 64, 52, 78])\n",
      "After output layer:  torch.Size([1, 1, 52, 78])\n",
      "Final out torch.Size([1, 1, 416, 624])\n"
     ]
    },
    {
     "name": "stderr",
     "output_type": "stream",
     "text": [
      "\r",
      " 11%|█         | 33/300 [09:21<1:11:54, 16.16s/it]"
     ]
    },
    {
     "name": "stdout",
     "output_type": "stream",
     "text": [
      "Before backend torch.Size([1, 512, 58, 44])\n",
      "After backend torch.Size([1, 64, 58, 44])\n",
      "After output layer:  torch.Size([1, 1, 58, 44])\n",
      "Final out torch.Size([1, 1, 464, 352])\n"
     ]
    },
    {
     "name": "stderr",
     "output_type": "stream",
     "text": [
      "\r",
      " 11%|█▏        | 34/300 [09:25<55:54, 12.61s/it]  "
     ]
    },
    {
     "name": "stdout",
     "output_type": "stream",
     "text": [
      "There is a grayscale image.\n",
      "Before backend torch.Size([1, 512, 80, 128])\n",
      "After backend torch.Size([1, 64, 80, 128])\n",
      "After output layer:  torch.Size([1, 1, 80, 128])\n",
      "Final out torch.Size([1, 1, 640, 1024])\n"
     ]
    },
    {
     "name": "stderr",
     "output_type": "stream",
     "text": [
      "\r",
      " 12%|█▏        | 35/300 [09:47<1:07:53, 15.37s/it]"
     ]
    },
    {
     "name": "stdout",
     "output_type": "stream",
     "text": [
      "Before backend torch.Size([1, 512, 84, 128])\n",
      "After backend torch.Size([1, 64, 84, 128])\n",
      "After output layer:  torch.Size([1, 1, 84, 128])\n",
      "Final out torch.Size([1, 1, 672, 1024])\n"
     ]
    },
    {
     "name": "stderr",
     "output_type": "stream",
     "text": [
      "\r",
      " 12%|█▏        | 36/300 [10:09<1:16:40, 17.43s/it]"
     ]
    },
    {
     "name": "stdout",
     "output_type": "stream",
     "text": [
      "Before backend torch.Size([1, 512, 84, 128])\n",
      "After backend torch.Size([1, 64, 84, 128])\n",
      "After output layer:  torch.Size([1, 1, 84, 128])\n",
      "Final out torch.Size([1, 1, 672, 1024])\n"
     ]
    },
    {
     "name": "stderr",
     "output_type": "stream",
     "text": [
      "\r",
      " 12%|█▏        | 37/300 [10:31<1:22:15, 18.76s/it]"
     ]
    },
    {
     "name": "stdout",
     "output_type": "stream",
     "text": [
      "Before backend torch.Size([1, 512, 64, 128])\n",
      "After backend torch.Size([1, 64, 64, 128])\n",
      "After output layer:  torch.Size([1, 1, 64, 128])\n",
      "Final out torch.Size([1, 1, 512, 1024])\n"
     ]
    },
    {
     "name": "stderr",
     "output_type": "stream",
     "text": [
      "\r",
      " 13%|█▎        | 38/300 [10:48<1:19:41, 18.25s/it]"
     ]
    },
    {
     "name": "stdout",
     "output_type": "stream",
     "text": [
      "Before backend torch.Size([1, 512, 32, 50])\n",
      "After backend torch.Size([1, 64, 32, 50])\n",
      "After output layer:  torch.Size([1, 1, 32, 50])\n",
      "Final out torch.Size([1, 1, 256, 400])\n"
     ]
    },
    {
     "name": "stderr",
     "output_type": "stream",
     "text": [
      "\r",
      " 13%|█▎        | 39/300 [10:52<59:53, 13.77s/it]  "
     ]
    },
    {
     "name": "stdout",
     "output_type": "stream",
     "text": [
      "Before backend torch.Size([1, 512, 84, 128])\n",
      "After backend torch.Size([1, 64, 84, 128])\n",
      "After output layer:  torch.Size([1, 1, 84, 128])\n",
      "Final out torch.Size([1, 1, 672, 1024])\n"
     ]
    },
    {
     "name": "stderr",
     "output_type": "stream",
     "text": [
      "\r",
      " 13%|█▎        | 40/300 [11:14<1:10:48, 16.34s/it]"
     ]
    },
    {
     "name": "stdout",
     "output_type": "stream",
     "text": [
      "Before backend torch.Size([1, 512, 82, 128])\n",
      "After backend torch.Size([1, 64, 82, 128])\n",
      "After output layer:  torch.Size([1, 1, 82, 128])\n",
      "Final out torch.Size([1, 1, 656, 1024])\n"
     ]
    },
    {
     "name": "stderr",
     "output_type": "stream",
     "text": [
      "\r",
      " 14%|█▎        | 41/300 [11:34<1:15:20, 17.45s/it]"
     ]
    },
    {
     "name": "stdout",
     "output_type": "stream",
     "text": [
      "Before backend torch.Size([1, 512, 84, 128])\n",
      "After backend torch.Size([1, 64, 84, 128])\n",
      "After output layer:  torch.Size([1, 1, 84, 128])\n",
      "Final out torch.Size([1, 1, 672, 1024])\n"
     ]
    },
    {
     "name": "stderr",
     "output_type": "stream",
     "text": [
      "\r",
      " 14%|█▍        | 42/300 [11:54<1:19:03, 18.38s/it]"
     ]
    },
    {
     "name": "stdout",
     "output_type": "stream",
     "text": [
      "Before backend torch.Size([1, 512, 94, 128])\n",
      "After backend torch.Size([1, 64, 94, 128])\n",
      "After output layer:  torch.Size([1, 1, 94, 128])\n",
      "Final out torch.Size([1, 1, 752, 1024])\n"
     ]
    },
    {
     "name": "stderr",
     "output_type": "stream",
     "text": [
      "\r",
      " 14%|█▍        | 43/300 [12:19<1:26:52, 20.28s/it]"
     ]
    },
    {
     "name": "stdout",
     "output_type": "stream",
     "text": [
      "Before backend torch.Size([1, 512, 58, 46])\n",
      "After backend torch.Size([1, 64, 58, 46])\n",
      "After output layer:  torch.Size([1, 1, 58, 46])\n",
      "Final out torch.Size([1, 1, 464, 368])\n"
     ]
    },
    {
     "name": "stderr",
     "output_type": "stream",
     "text": [
      "\r",
      " 15%|█▍        | 44/300 [12:25<1:07:22, 15.79s/it]"
     ]
    },
    {
     "name": "stdout",
     "output_type": "stream",
     "text": [
      "Before backend torch.Size([1, 512, 96, 128])\n",
      "After backend torch.Size([1, 64, 96, 128])\n",
      "After output layer:  torch.Size([1, 1, 96, 128])\n",
      "Final out torch.Size([1, 1, 768, 1024])\n"
     ]
    },
    {
     "name": "stderr",
     "output_type": "stream",
     "text": [
      "\r",
      " 15%|█▌        | 45/300 [12:52<1:21:31, 19.18s/it]"
     ]
    },
    {
     "name": "stdout",
     "output_type": "stream",
     "text": [
      "Before backend torch.Size([1, 512, 102, 128])\n",
      "After backend torch.Size([1, 64, 102, 128])\n",
      "After output layer:  torch.Size([1, 1, 102, 128])\n",
      "Final out torch.Size([1, 1, 816, 1024])\n"
     ]
    },
    {
     "name": "stderr",
     "output_type": "stream",
     "text": [
      "\r",
      " 15%|█▌        | 46/300 [13:19<1:31:16, 21.56s/it]"
     ]
    },
    {
     "name": "stdout",
     "output_type": "stream",
     "text": [
      "Before backend torch.Size([1, 512, 56, 36])\n",
      "After backend torch.Size([1, 64, 56, 36])\n",
      "After output layer:  torch.Size([1, 1, 56, 36])\n",
      "Final out torch.Size([1, 1, 448, 288])\n"
     ]
    },
    {
     "name": "stderr",
     "output_type": "stream",
     "text": [
      "\r",
      " 16%|█▌        | 47/300 [13:22<1:08:24, 16.22s/it]"
     ]
    },
    {
     "name": "stdout",
     "output_type": "stream",
     "text": [
      "Before backend torch.Size([1, 512, 52, 76])\n",
      "After backend torch.Size([1, 64, 52, 76])\n",
      "After output layer:  torch.Size([1, 1, 52, 76])\n",
      "Final out torch.Size([1, 1, 416, 608])\n"
     ]
    },
    {
     "name": "stderr",
     "output_type": "stream",
     "text": [
      "\r",
      " 16%|█▌        | 48/300 [13:30<57:16, 13.64s/it]  "
     ]
    },
    {
     "name": "stdout",
     "output_type": "stream",
     "text": [
      "Before backend torch.Size([1, 512, 84, 128])\n",
      "After backend torch.Size([1, 64, 84, 128])\n",
      "After output layer:  torch.Size([1, 1, 84, 128])\n",
      "Final out torch.Size([1, 1, 672, 1024])\n"
     ]
    },
    {
     "name": "stderr",
     "output_type": "stream",
     "text": [
      "\r",
      " 16%|█▋        | 49/300 [13:52<1:07:54, 16.23s/it]"
     ]
    },
    {
     "name": "stdout",
     "output_type": "stream",
     "text": [
      "Before backend torch.Size([1, 512, 76, 126])\n",
      "After backend torch.Size([1, 64, 76, 126])\n",
      "After output layer:  torch.Size([1, 1, 76, 126])\n",
      "Final out torch.Size([1, 1, 608, 1008])\n"
     ]
    },
    {
     "name": "stderr",
     "output_type": "stream",
     "text": [
      "\r",
      " 17%|█▋        | 50/300 [14:12<1:11:29, 17.16s/it]"
     ]
    },
    {
     "name": "stdout",
     "output_type": "stream",
     "text": [
      "Before backend torch.Size([1, 512, 86, 128])\n",
      "After backend torch.Size([1, 64, 86, 128])\n",
      "After output layer:  torch.Size([1, 1, 86, 128])\n",
      "Final out torch.Size([1, 1, 688, 1024])\n"
     ]
    },
    {
     "name": "stderr",
     "output_type": "stream",
     "text": [
      "\r",
      " 17%|█▋        | 51/300 [14:35<1:18:52, 19.01s/it]"
     ]
    },
    {
     "name": "stdout",
     "output_type": "stream",
     "text": [
      "Before backend torch.Size([1, 512, 96, 128])\n",
      "After backend torch.Size([1, 64, 96, 128])\n",
      "After output layer:  torch.Size([1, 1, 96, 128])\n",
      "Final out torch.Size([1, 1, 768, 1024])\n"
     ]
    },
    {
     "name": "stderr",
     "output_type": "stream",
     "text": [
      "\r",
      " 17%|█▋        | 52/300 [14:57<1:22:24, 19.94s/it]"
     ]
    },
    {
     "name": "stdout",
     "output_type": "stream",
     "text": [
      "Before backend torch.Size([1, 512, 46, 62])\n",
      "After backend torch.Size([1, 64, 46, 62])\n",
      "After output layer:  torch.Size([1, 1, 46, 62])\n",
      "Final out torch.Size([1, 1, 368, 496])\n"
     ]
    },
    {
     "name": "stderr",
     "output_type": "stream",
     "text": [
      "\r",
      " 18%|█▊        | 53/300 [15:02<1:03:26, 15.41s/it]"
     ]
    },
    {
     "name": "stdout",
     "output_type": "stream",
     "text": [
      "Before backend torch.Size([1, 512, 96, 128])\n",
      "After backend torch.Size([1, 64, 96, 128])\n",
      "After output layer:  torch.Size([1, 1, 96, 128])\n",
      "Final out torch.Size([1, 1, 768, 1024])\n"
     ]
    },
    {
     "name": "stderr",
     "output_type": "stream",
     "text": [
      "\r",
      " 18%|█▊        | 54/300 [15:23<1:09:54, 17.05s/it]"
     ]
    },
    {
     "name": "stdout",
     "output_type": "stream",
     "text": [
      "Before backend torch.Size([1, 512, 62, 94])\n",
      "After backend torch.Size([1, 64, 62, 94])\n",
      "After output layer:  torch.Size([1, 1, 62, 94])\n",
      "Final out torch.Size([1, 1, 496, 752])\n"
     ]
    },
    {
     "name": "stderr",
     "output_type": "stream",
     "text": [
      "\r",
      " 18%|█▊        | 55/300 [15:32<1:00:07, 14.73s/it]"
     ]
    },
    {
     "name": "stdout",
     "output_type": "stream",
     "text": [
      "Before backend torch.Size([1, 512, 48, 78])\n",
      "After backend torch.Size([1, 64, 48, 78])\n",
      "After output layer:  torch.Size([1, 1, 48, 78])\n",
      "Final out torch.Size([1, 1, 384, 624])\n"
     ]
    },
    {
     "name": "stderr",
     "output_type": "stream",
     "text": [
      "\r",
      " 19%|█▊        | 56/300 [15:38<49:15, 12.11s/it]  "
     ]
    },
    {
     "name": "stdout",
     "output_type": "stream",
     "text": [
      "Before backend torch.Size([1, 512, 32, 62])\n",
      "After backend torch.Size([1, 64, 32, 62])\n",
      "After output layer:  torch.Size([1, 1, 32, 62])\n",
      "Final out torch.Size([1, 1, 256, 496])\n"
     ]
    },
    {
     "name": "stderr",
     "output_type": "stream",
     "text": [
      "\r",
      " 19%|█▉        | 57/300 [15:42<38:25,  9.49s/it]"
     ]
    },
    {
     "name": "stdout",
     "output_type": "stream",
     "text": [
      "Before backend torch.Size([1, 512, 82, 102])\n",
      "After backend torch.Size([1, 64, 82, 102])\n",
      "After output layer:  torch.Size([1, 1, 82, 102])\n",
      "Final out torch.Size([1, 1, 656, 816])\n"
     ]
    },
    {
     "name": "stderr",
     "output_type": "stream",
     "text": [
      "\r",
      " 19%|█▉        | 58/300 [15:56<44:00, 10.91s/it]"
     ]
    },
    {
     "name": "stdout",
     "output_type": "stream",
     "text": [
      "Before backend torch.Size([1, 512, 68, 116])\n",
      "After backend torch.Size([1, 64, 68, 116])\n",
      "After output layer:  torch.Size([1, 1, 68, 116])\n",
      "Final out torch.Size([1, 1, 544, 928])\n"
     ]
    },
    {
     "name": "stderr",
     "output_type": "stream",
     "text": [
      "\r",
      " 20%|█▉        | 59/300 [16:09<46:40, 11.62s/it]"
     ]
    },
    {
     "name": "stdout",
     "output_type": "stream",
     "text": [
      "Before backend torch.Size([1, 512, 22, 58])\n",
      "After backend torch.Size([1, 64, 22, 58])\n",
      "After output layer:  torch.Size([1, 1, 22, 58])\n",
      "Final out torch.Size([1, 1, 176, 464])\n"
     ]
    },
    {
     "name": "stderr",
     "output_type": "stream",
     "text": [
      "\r",
      " 20%|██        | 60/300 [16:11<35:00,  8.75s/it]"
     ]
    },
    {
     "name": "stdout",
     "output_type": "stream",
     "text": [
      "Before backend torch.Size([1, 512, 98, 128])\n",
      "After backend torch.Size([1, 64, 98, 128])\n",
      "After output layer:  torch.Size([1, 1, 98, 128])\n",
      "Final out torch.Size([1, 1, 784, 1024])\n"
     ]
    },
    {
     "name": "stderr",
     "output_type": "stream",
     "text": [
      "\r",
      " 20%|██        | 61/300 [16:32<49:43, 12.48s/it]"
     ]
    },
    {
     "name": "stdout",
     "output_type": "stream",
     "text": [
      "Before backend torch.Size([1, 512, 84, 128])\n",
      "After backend torch.Size([1, 64, 84, 128])\n",
      "After output layer:  torch.Size([1, 1, 84, 128])\n",
      "Final out torch.Size([1, 1, 672, 1024])\n"
     ]
    },
    {
     "name": "stderr",
     "output_type": "stream",
     "text": [
      "\r",
      " 21%|██        | 62/300 [16:52<58:36, 14.77s/it]"
     ]
    },
    {
     "name": "stdout",
     "output_type": "stream",
     "text": [
      "Before backend torch.Size([1, 512, 50, 76])\n",
      "After backend torch.Size([1, 64, 50, 76])\n",
      "After output layer:  torch.Size([1, 1, 50, 76])\n",
      "Final out torch.Size([1, 1, 400, 608])\n"
     ]
    },
    {
     "name": "stderr",
     "output_type": "stream",
     "text": [
      "\r",
      " 21%|██        | 63/300 [16:59<48:09, 12.19s/it]"
     ]
    },
    {
     "name": "stdout",
     "output_type": "stream",
     "text": [
      "Before backend torch.Size([1, 512, 84, 128])\n",
      "After backend torch.Size([1, 64, 84, 128])\n",
      "After output layer:  torch.Size([1, 1, 84, 128])\n",
      "Final out torch.Size([1, 1, 672, 1024])\n"
     ]
    },
    {
     "name": "stderr",
     "output_type": "stream",
     "text": [
      "\r",
      " 21%|██▏       | 64/300 [17:16<54:38, 13.89s/it]"
     ]
    },
    {
     "name": "stdout",
     "output_type": "stream",
     "text": [
      "Before backend torch.Size([1, 512, 82, 120])\n",
      "After backend torch.Size([1, 64, 82, 120])\n",
      "After output layer:  torch.Size([1, 1, 82, 120])\n",
      "Final out torch.Size([1, 1, 656, 960])\n"
     ]
    },
    {
     "name": "stderr",
     "output_type": "stream",
     "text": [
      "\r",
      " 22%|██▏       | 65/300 [17:33<57:00, 14.56s/it]"
     ]
    },
    {
     "name": "stdout",
     "output_type": "stream",
     "text": [
      "Before backend torch.Size([1, 512, 128, 104])\n",
      "After backend torch.Size([1, 64, 128, 104])\n",
      "After output layer:  torch.Size([1, 1, 128, 104])\n",
      "Final out torch.Size([1, 1, 1024, 832])\n"
     ]
    },
    {
     "name": "stderr",
     "output_type": "stream",
     "text": [
      "\r",
      " 22%|██▏       | 66/300 [17:55<1:06:00, 16.93s/it]"
     ]
    },
    {
     "name": "stdout",
     "output_type": "stream",
     "text": [
      "Before backend torch.Size([1, 512, 84, 128])\n",
      "After backend torch.Size([1, 64, 84, 128])\n",
      "After output layer:  torch.Size([1, 1, 84, 128])\n",
      "Final out torch.Size([1, 1, 672, 1024])\n"
     ]
    },
    {
     "name": "stderr",
     "output_type": "stream",
     "text": [
      "\r",
      " 22%|██▏       | 67/300 [18:14<1:08:01, 17.52s/it]"
     ]
    },
    {
     "name": "stdout",
     "output_type": "stream",
     "text": [
      "Before backend torch.Size([1, 512, 66, 128])\n",
      "After backend torch.Size([1, 64, 66, 128])\n",
      "After output layer:  torch.Size([1, 1, 66, 128])\n",
      "Final out torch.Size([1, 1, 528, 1024])\n"
     ]
    },
    {
     "name": "stderr",
     "output_type": "stream",
     "text": [
      "\r",
      " 23%|██▎       | 68/300 [18:29<1:04:45, 16.75s/it]"
     ]
    },
    {
     "name": "stdout",
     "output_type": "stream",
     "text": [
      "Before backend torch.Size([1, 512, 42, 76])\n",
      "After backend torch.Size([1, 64, 42, 76])\n",
      "After output layer:  torch.Size([1, 1, 42, 76])\n",
      "Final out torch.Size([1, 1, 336, 608])\n"
     ]
    },
    {
     "name": "stderr",
     "output_type": "stream",
     "text": [
      "\r",
      " 23%|██▎       | 69/300 [18:34<51:12, 13.30s/it]  "
     ]
    },
    {
     "name": "stdout",
     "output_type": "stream",
     "text": [
      "Before backend torch.Size([1, 512, 80, 128])\n",
      "After backend torch.Size([1, 64, 80, 128])\n",
      "After output layer:  torch.Size([1, 1, 80, 128])\n",
      "Final out torch.Size([1, 1, 640, 1024])\n"
     ]
    },
    {
     "name": "stderr",
     "output_type": "stream",
     "text": [
      "\r",
      " 23%|██▎       | 70/300 [18:53<57:31, 15.01s/it]"
     ]
    },
    {
     "name": "stdout",
     "output_type": "stream",
     "text": [
      "Before backend torch.Size([1, 512, 42, 76])\n",
      "After backend torch.Size([1, 64, 42, 76])\n",
      "After output layer:  torch.Size([1, 1, 42, 76])\n",
      "Final out torch.Size([1, 1, 336, 608])\n"
     ]
    },
    {
     "name": "stderr",
     "output_type": "stream",
     "text": [
      "\r",
      " 24%|██▎       | 71/300 [18:58<46:16, 12.12s/it]"
     ]
    },
    {
     "name": "stdout",
     "output_type": "stream",
     "text": [
      "Before backend torch.Size([1, 512, 48, 72])\n",
      "After backend torch.Size([1, 64, 48, 72])\n",
      "After output layer:  torch.Size([1, 1, 48, 72])\n",
      "Final out torch.Size([1, 1, 384, 576])\n"
     ]
    },
    {
     "name": "stderr",
     "output_type": "stream",
     "text": [
      "\r",
      " 24%|██▍       | 72/300 [19:05<39:08, 10.30s/it]"
     ]
    },
    {
     "name": "stdout",
     "output_type": "stream",
     "text": [
      "Before backend torch.Size([1, 512, 32, 50])\n",
      "After backend torch.Size([1, 64, 32, 50])\n",
      "After output layer:  torch.Size([1, 1, 32, 50])\n",
      "Final out torch.Size([1, 1, 256, 400])\n"
     ]
    },
    {
     "name": "stderr",
     "output_type": "stream",
     "text": [
      "\r",
      " 24%|██▍       | 73/300 [19:08<30:45,  8.13s/it]"
     ]
    },
    {
     "name": "stdout",
     "output_type": "stream",
     "text": [
      "Before backend torch.Size([1, 512, 80, 60])\n",
      "After backend torch.Size([1, 64, 80, 60])\n",
      "After output layer:  torch.Size([1, 1, 80, 60])\n",
      "Final out torch.Size([1, 1, 640, 480])\n"
     ]
    },
    {
     "name": "stderr",
     "output_type": "stream",
     "text": [
      "\r",
      " 25%|██▍       | 74/300 [19:16<30:28,  8.09s/it]"
     ]
    },
    {
     "name": "stdout",
     "output_type": "stream",
     "text": [
      "Before backend torch.Size([1, 512, 96, 128])\n",
      "After backend torch.Size([1, 64, 96, 128])\n",
      "After output layer:  torch.Size([1, 1, 96, 128])\n",
      "Final out torch.Size([1, 1, 768, 1024])\n"
     ]
    },
    {
     "name": "stderr",
     "output_type": "stream",
     "text": [
      "\r",
      " 25%|██▌       | 75/300 [19:38<45:53, 12.24s/it]"
     ]
    },
    {
     "name": "stdout",
     "output_type": "stream",
     "text": [
      "Before backend torch.Size([1, 512, 96, 128])\n",
      "After backend torch.Size([1, 64, 96, 128])\n",
      "After output layer:  torch.Size([1, 1, 96, 128])\n",
      "Final out torch.Size([1, 1, 768, 1024])\n"
     ]
    },
    {
     "name": "stderr",
     "output_type": "stream",
     "text": [
      "\r",
      " 25%|██▌       | 76/300 [19:59<56:11, 15.05s/it]"
     ]
    },
    {
     "name": "stdout",
     "output_type": "stream",
     "text": [
      "Before backend torch.Size([1, 512, 86, 128])\n",
      "After backend torch.Size([1, 64, 86, 128])\n",
      "After output layer:  torch.Size([1, 1, 86, 128])\n",
      "Final out torch.Size([1, 1, 688, 1024])\n"
     ]
    },
    {
     "name": "stderr",
     "output_type": "stream",
     "text": [
      "\r",
      " 26%|██▌       | 77/300 [20:19<1:01:48, 16.63s/it]"
     ]
    },
    {
     "name": "stdout",
     "output_type": "stream",
     "text": [
      "Before backend torch.Size([1, 512, 76, 128])\n",
      "After backend torch.Size([1, 64, 76, 128])\n",
      "After output layer:  torch.Size([1, 1, 76, 128])\n",
      "Final out torch.Size([1, 1, 608, 1024])\n"
     ]
    },
    {
     "name": "stderr",
     "output_type": "stream",
     "text": [
      "\r",
      " 26%|██▌       | 78/300 [20:36<1:01:46, 16.69s/it]"
     ]
    },
    {
     "name": "stdout",
     "output_type": "stream",
     "text": [
      "Before backend torch.Size([1, 512, 80, 128])\n",
      "After backend torch.Size([1, 64, 80, 128])\n",
      "After output layer:  torch.Size([1, 1, 80, 128])\n",
      "Final out torch.Size([1, 1, 640, 1024])\n"
     ]
    },
    {
     "name": "stderr",
     "output_type": "stream",
     "text": [
      "\r",
      " 26%|██▋       | 79/300 [20:53<1:01:46, 16.77s/it]"
     ]
    },
    {
     "name": "stdout",
     "output_type": "stream",
     "text": [
      "Before backend torch.Size([1, 512, 88, 128])\n",
      "After backend torch.Size([1, 64, 88, 128])\n",
      "After output layer:  torch.Size([1, 1, 88, 128])\n",
      "Final out torch.Size([1, 1, 704, 1024])\n"
     ]
    },
    {
     "name": "stderr",
     "output_type": "stream",
     "text": [
      "\r",
      " 27%|██▋       | 80/300 [21:12<1:03:56, 17.44s/it]"
     ]
    },
    {
     "name": "stdout",
     "output_type": "stream",
     "text": [
      "Before backend torch.Size([1, 512, 32, 44])\n",
      "After backend torch.Size([1, 64, 32, 44])\n",
      "After output layer:  torch.Size([1, 1, 32, 44])\n",
      "Final out torch.Size([1, 1, 256, 352])\n"
     ]
    },
    {
     "name": "stderr",
     "output_type": "stream",
     "text": [
      "\r",
      " 27%|██▋       | 81/300 [21:15<47:08, 12.92s/it]  "
     ]
    },
    {
     "name": "stdout",
     "output_type": "stream",
     "text": [
      "Before backend torch.Size([1, 512, 96, 128])\n",
      "After backend torch.Size([1, 64, 96, 128])\n",
      "After output layer:  torch.Size([1, 1, 96, 128])\n",
      "Final out torch.Size([1, 1, 768, 1024])\n"
     ]
    },
    {
     "name": "stderr",
     "output_type": "stream",
     "text": [
      "\r",
      " 27%|██▋       | 82/300 [21:35<55:10, 15.18s/it]"
     ]
    },
    {
     "name": "stdout",
     "output_type": "stream",
     "text": [
      "There is a grayscale image.\n",
      "Before backend torch.Size([1, 512, 58, 74])\n",
      "After backend torch.Size([1, 64, 58, 74])\n",
      "After output layer:  torch.Size([1, 1, 58, 74])\n",
      "Final out torch.Size([1, 1, 464, 592])\n"
     ]
    },
    {
     "name": "stderr",
     "output_type": "stream",
     "text": [
      "\r",
      " 28%|██▊       | 83/300 [21:42<45:56, 12.71s/it]"
     ]
    },
    {
     "name": "stdout",
     "output_type": "stream",
     "text": [
      "Before backend torch.Size([1, 512, 88, 128])\n",
      "After backend torch.Size([1, 64, 88, 128])\n",
      "After output layer:  torch.Size([1, 1, 88, 128])\n",
      "Final out torch.Size([1, 1, 704, 1024])\n"
     ]
    },
    {
     "name": "stderr",
     "output_type": "stream",
     "text": [
      "\r",
      " 28%|██▊       | 84/300 [22:02<53:09, 14.77s/it]"
     ]
    },
    {
     "name": "stdout",
     "output_type": "stream",
     "text": [
      "Before backend torch.Size([1, 512, 100, 86])\n",
      "After backend torch.Size([1, 64, 100, 86])\n",
      "After output layer:  torch.Size([1, 1, 100, 86])\n",
      "Final out torch.Size([1, 1, 800, 688])\n"
     ]
    },
    {
     "name": "stderr",
     "output_type": "stream",
     "text": [
      "\r",
      " 28%|██▊       | 85/300 [22:17<53:45, 15.00s/it]"
     ]
    },
    {
     "name": "stdout",
     "output_type": "stream",
     "text": [
      "Before backend torch.Size([1, 512, 34, 86])\n",
      "After backend torch.Size([1, 64, 34, 86])\n",
      "After output layer:  torch.Size([1, 1, 34, 86])\n",
      "Final out torch.Size([1, 1, 272, 688])\n"
     ]
    },
    {
     "name": "stderr",
     "output_type": "stream",
     "text": [
      "\r",
      " 29%|██▊       | 86/300 [22:22<42:17, 11.86s/it]"
     ]
    },
    {
     "name": "stdout",
     "output_type": "stream",
     "text": [
      "Before backend torch.Size([1, 512, 80, 128])\n",
      "After backend torch.Size([1, 64, 80, 128])\n",
      "After output layer:  torch.Size([1, 1, 80, 128])\n",
      "Final out torch.Size([1, 1, 640, 1024])\n"
     ]
    },
    {
     "name": "stderr",
     "output_type": "stream",
     "text": [
      "\r",
      " 29%|██▉       | 87/300 [22:39<47:36, 13.41s/it]"
     ]
    },
    {
     "name": "stdout",
     "output_type": "stream",
     "text": [
      "Before backend torch.Size([1, 512, 74, 128])\n",
      "After backend torch.Size([1, 64, 74, 128])\n",
      "After output layer:  torch.Size([1, 1, 74, 128])\n",
      "Final out torch.Size([1, 1, 592, 1024])\n"
     ]
    },
    {
     "name": "stderr",
     "output_type": "stream",
     "text": [
      "\r",
      " 29%|██▉       | 88/300 [22:56<51:50, 14.67s/it]"
     ]
    },
    {
     "name": "stdout",
     "output_type": "stream",
     "text": [
      "Before backend torch.Size([1, 512, 84, 128])\n",
      "After backend torch.Size([1, 64, 84, 128])\n",
      "After output layer:  torch.Size([1, 1, 84, 128])\n",
      "Final out torch.Size([1, 1, 672, 1024])\n"
     ]
    },
    {
     "name": "stderr",
     "output_type": "stream",
     "text": [
      "\r",
      " 30%|██▉       | 89/300 [23:15<55:37, 15.82s/it]"
     ]
    },
    {
     "name": "stdout",
     "output_type": "stream",
     "text": [
      "Before backend torch.Size([1, 512, 36, 52])\n",
      "After backend torch.Size([1, 64, 36, 52])\n",
      "After output layer:  torch.Size([1, 1, 36, 52])\n",
      "Final out torch.Size([1, 1, 288, 416])\n"
     ]
    },
    {
     "name": "stderr",
     "output_type": "stream",
     "text": [
      "\r",
      " 30%|███       | 90/300 [23:18<42:00, 12.00s/it]"
     ]
    },
    {
     "name": "stdout",
     "output_type": "stream",
     "text": [
      "Before backend torch.Size([1, 512, 82, 128])\n",
      "After backend torch.Size([1, 64, 82, 128])\n",
      "After output layer:  torch.Size([1, 1, 82, 128])\n",
      "Final out torch.Size([1, 1, 656, 1024])\n"
     ]
    },
    {
     "name": "stderr",
     "output_type": "stream",
     "text": [
      "\r",
      " 30%|███       | 91/300 [23:38<49:47, 14.29s/it]"
     ]
    },
    {
     "name": "stdout",
     "output_type": "stream",
     "text": [
      "Before backend torch.Size([1, 512, 46, 128])\n",
      "After backend torch.Size([1, 64, 46, 128])\n",
      "After output layer:  torch.Size([1, 1, 46, 128])\n",
      "Final out torch.Size([1, 1, 368, 1024])\n"
     ]
    },
    {
     "name": "stderr",
     "output_type": "stream",
     "text": [
      "\r",
      " 31%|███       | 92/300 [23:47<44:37, 12.87s/it]"
     ]
    },
    {
     "name": "stdout",
     "output_type": "stream",
     "text": [
      "Before backend torch.Size([1, 512, 84, 128])\n",
      "After backend torch.Size([1, 64, 84, 128])\n",
      "After output layer:  torch.Size([1, 1, 84, 128])\n",
      "Final out torch.Size([1, 1, 672, 1024])\n"
     ]
    },
    {
     "name": "stderr",
     "output_type": "stream",
     "text": [
      "\r",
      " 31%|███       | 93/300 [24:06<50:16, 14.57s/it]"
     ]
    },
    {
     "name": "stdout",
     "output_type": "stream",
     "text": [
      "Before backend torch.Size([1, 512, 84, 128])\n",
      "After backend torch.Size([1, 64, 84, 128])\n",
      "After output layer:  torch.Size([1, 1, 84, 128])\n",
      "Final out torch.Size([1, 1, 672, 1024])\n"
     ]
    },
    {
     "name": "stderr",
     "output_type": "stream",
     "text": [
      "\r",
      " 31%|███▏      | 94/300 [24:25<55:16, 16.10s/it]"
     ]
    },
    {
     "name": "stdout",
     "output_type": "stream",
     "text": [
      "Before backend torch.Size([1, 512, 34, 50])\n",
      "After backend torch.Size([1, 64, 34, 50])\n",
      "After output layer:  torch.Size([1, 1, 34, 50])\n",
      "Final out torch.Size([1, 1, 272, 400])\n"
     ]
    },
    {
     "name": "stderr",
     "output_type": "stream",
     "text": [
      "\r",
      " 32%|███▏      | 95/300 [24:28<41:24, 12.12s/it]"
     ]
    },
    {
     "name": "stdout",
     "output_type": "stream",
     "text": [
      "Before backend torch.Size([1, 512, 36, 54])\n",
      "After backend torch.Size([1, 64, 36, 54])\n",
      "After output layer:  torch.Size([1, 1, 36, 54])\n",
      "Final out torch.Size([1, 1, 288, 432])\n"
     ]
    },
    {
     "name": "stderr",
     "output_type": "stream",
     "text": [
      "\r",
      " 32%|███▏      | 96/300 [24:32<32:28,  9.55s/it]"
     ]
    },
    {
     "name": "stdout",
     "output_type": "stream",
     "text": [
      "Before backend torch.Size([1, 512, 52, 80])\n",
      "After backend torch.Size([1, 64, 52, 80])\n",
      "After output layer:  torch.Size([1, 1, 52, 80])\n",
      "Final out torch.Size([1, 1, 416, 640])\n"
     ]
    },
    {
     "name": "stderr",
     "output_type": "stream",
     "text": [
      "\r",
      " 32%|███▏      | 97/300 [24:39<29:46,  8.80s/it]"
     ]
    },
    {
     "name": "stdout",
     "output_type": "stream",
     "text": [
      "Before backend torch.Size([1, 512, 84, 128])\n",
      "After backend torch.Size([1, 64, 84, 128])\n",
      "After output layer:  torch.Size([1, 1, 84, 128])\n",
      "Final out torch.Size([1, 1, 672, 1024])\n"
     ]
    },
    {
     "name": "stderr",
     "output_type": "stream",
     "text": [
      "\r",
      " 33%|███▎      | 98/300 [24:57<39:30, 11.74s/it]"
     ]
    },
    {
     "name": "stdout",
     "output_type": "stream",
     "text": [
      "Before backend torch.Size([1, 512, 46, 128])\n",
      "After backend torch.Size([1, 64, 46, 128])\n",
      "After output layer:  torch.Size([1, 1, 46, 128])\n",
      "Final out torch.Size([1, 1, 368, 1024])\n"
     ]
    },
    {
     "name": "stderr",
     "output_type": "stream",
     "text": [
      "\r",
      " 33%|███▎      | 99/300 [25:07<37:36, 11.23s/it]"
     ]
    },
    {
     "name": "stdout",
     "output_type": "stream",
     "text": [
      "Before backend torch.Size([1, 512, 86, 128])\n",
      "After backend torch.Size([1, 64, 86, 128])\n",
      "After output layer:  torch.Size([1, 1, 86, 128])\n",
      "Final out torch.Size([1, 1, 688, 1024])\n"
     ]
    },
    {
     "name": "stderr",
     "output_type": "stream",
     "text": [
      "\r",
      " 33%|███▎      | 100/300 [25:27<45:25, 13.63s/it]"
     ]
    },
    {
     "name": "stdout",
     "output_type": "stream",
     "text": [
      "Before backend torch.Size([1, 512, 96, 128])\n",
      "After backend torch.Size([1, 64, 96, 128])\n",
      "After output layer:  torch.Size([1, 1, 96, 128])\n",
      "Final out torch.Size([1, 1, 768, 1024])\n"
     ]
    },
    {
     "name": "stderr",
     "output_type": "stream",
     "text": [
      "\r",
      " 34%|███▎      | 101/300 [25:48<53:12, 16.04s/it]"
     ]
    },
    {
     "name": "stdout",
     "output_type": "stream",
     "text": [
      "Before backend torch.Size([1, 512, 82, 120])\n",
      "After backend torch.Size([1, 64, 82, 120])\n",
      "After output layer:  torch.Size([1, 1, 82, 120])\n",
      "Final out torch.Size([1, 1, 656, 960])\n"
     ]
    },
    {
     "name": "stderr",
     "output_type": "stream",
     "text": [
      "\r",
      " 34%|███▍      | 102/300 [26:05<53:57, 16.35s/it]"
     ]
    },
    {
     "name": "stdout",
     "output_type": "stream",
     "text": [
      "Before backend torch.Size([1, 512, 96, 128])\n",
      "After backend torch.Size([1, 64, 96, 128])\n",
      "After output layer:  torch.Size([1, 1, 96, 128])\n",
      "Final out torch.Size([1, 1, 768, 1024])\n"
     ]
    },
    {
     "name": "stderr",
     "output_type": "stream",
     "text": [
      "\r",
      " 34%|███▍      | 103/300 [26:27<58:40, 17.87s/it]"
     ]
    },
    {
     "name": "stdout",
     "output_type": "stream",
     "text": [
      "Before backend torch.Size([1, 512, 44, 58])\n",
      "After backend torch.Size([1, 64, 44, 58])\n",
      "After output layer:  torch.Size([1, 1, 44, 58])\n",
      "Final out torch.Size([1, 1, 352, 464])\n"
     ]
    },
    {
     "name": "stderr",
     "output_type": "stream",
     "text": [
      "\r",
      " 35%|███▍      | 104/300 [26:31<45:12, 13.84s/it]"
     ]
    },
    {
     "name": "stdout",
     "output_type": "stream",
     "text": [
      "Before backend torch.Size([1, 512, 86, 124])\n",
      "After backend torch.Size([1, 64, 86, 124])\n",
      "After output layer:  torch.Size([1, 1, 86, 124])\n",
      "Final out torch.Size([1, 1, 688, 992])\n"
     ]
    },
    {
     "name": "stderr",
     "output_type": "stream",
     "text": [
      "\r",
      " 35%|███▌      | 105/300 [26:49<49:12, 15.14s/it]"
     ]
    },
    {
     "name": "stdout",
     "output_type": "stream",
     "text": [
      "Before backend torch.Size([1, 512, 102, 128])\n",
      "After backend torch.Size([1, 64, 102, 128])\n",
      "After output layer:  torch.Size([1, 1, 102, 128])\n",
      "Final out torch.Size([1, 1, 816, 1024])\n"
     ]
    },
    {
     "name": "stderr",
     "output_type": "stream",
     "text": [
      "\r",
      " 35%|███▌      | 106/300 [27:13<57:06, 17.66s/it]"
     ]
    },
    {
     "name": "stdout",
     "output_type": "stream",
     "text": [
      "Before backend torch.Size([1, 512, 56, 100])\n",
      "After backend torch.Size([1, 64, 56, 100])\n",
      "After output layer:  torch.Size([1, 1, 56, 100])\n",
      "Final out torch.Size([1, 1, 448, 800])\n"
     ]
    },
    {
     "name": "stderr",
     "output_type": "stream",
     "text": [
      "\r",
      " 36%|███▌      | 107/300 [27:22<48:26, 15.06s/it]"
     ]
    },
    {
     "name": "stdout",
     "output_type": "stream",
     "text": [
      "Before backend torch.Size([1, 512, 48, 74])\n",
      "After backend torch.Size([1, 64, 48, 74])\n",
      "After output layer:  torch.Size([1, 1, 48, 74])\n",
      "Final out torch.Size([1, 1, 384, 592])\n"
     ]
    },
    {
     "name": "stderr",
     "output_type": "stream",
     "text": [
      "\r",
      " 36%|███▌      | 108/300 [27:28<39:24, 12.31s/it]"
     ]
    },
    {
     "name": "stdout",
     "output_type": "stream",
     "text": [
      "Before backend torch.Size([1, 512, 84, 128])\n",
      "After backend torch.Size([1, 64, 84, 128])\n",
      "After output layer:  torch.Size([1, 1, 84, 128])\n",
      "Final out torch.Size([1, 1, 672, 1024])\n"
     ]
    },
    {
     "name": "stderr",
     "output_type": "stream",
     "text": [
      "\r",
      " 36%|███▋      | 109/300 [27:46<45:15, 14.22s/it]"
     ]
    },
    {
     "name": "stdout",
     "output_type": "stream",
     "text": [
      "Before backend torch.Size([1, 512, 58, 88])\n",
      "After backend torch.Size([1, 64, 58, 88])\n",
      "After output layer:  torch.Size([1, 1, 58, 88])\n",
      "Final out torch.Size([1, 1, 464, 704])\n"
     ]
    },
    {
     "name": "stderr",
     "output_type": "stream",
     "text": [
      "\r",
      " 37%|███▋      | 110/300 [27:55<39:35, 12.50s/it]"
     ]
    },
    {
     "name": "stdout",
     "output_type": "stream",
     "text": [
      "Before backend torch.Size([1, 512, 64, 128])\n",
      "After backend torch.Size([1, 64, 64, 128])\n",
      "After output layer:  torch.Size([1, 1, 64, 128])\n",
      "Final out torch.Size([1, 1, 512, 1024])\n"
     ]
    },
    {
     "name": "stderr",
     "output_type": "stream",
     "text": [
      "\r",
      " 37%|███▋      | 111/300 [28:10<41:41, 13.23s/it]"
     ]
    },
    {
     "name": "stdout",
     "output_type": "stream",
     "text": [
      "Before backend torch.Size([1, 512, 46, 74])\n",
      "After backend torch.Size([1, 64, 46, 74])\n",
      "After output layer:  torch.Size([1, 1, 46, 74])\n",
      "Final out torch.Size([1, 1, 368, 592])\n"
     ]
    },
    {
     "name": "stderr",
     "output_type": "stream",
     "text": [
      "\r",
      " 37%|███▋      | 112/300 [28:16<34:21, 10.96s/it]"
     ]
    },
    {
     "name": "stdout",
     "output_type": "stream",
     "text": [
      "Before backend torch.Size([1, 512, 50, 70])\n",
      "After backend torch.Size([1, 64, 50, 70])\n",
      "After output layer:  torch.Size([1, 1, 50, 70])\n",
      "Final out torch.Size([1, 1, 400, 560])\n"
     ]
    },
    {
     "name": "stderr",
     "output_type": "stream",
     "text": [
      "\r",
      " 38%|███▊      | 113/300 [28:21<29:27,  9.45s/it]"
     ]
    },
    {
     "name": "stdout",
     "output_type": "stream",
     "text": [
      "Before backend torch.Size([1, 512, 84, 128])\n",
      "After backend torch.Size([1, 64, 84, 128])\n",
      "After output layer:  torch.Size([1, 1, 84, 128])\n",
      "Final out torch.Size([1, 1, 672, 1024])\n"
     ]
    },
    {
     "name": "stderr",
     "output_type": "stream",
     "text": [
      "\r",
      " 38%|███▊      | 114/300 [28:40<38:04, 12.28s/it]"
     ]
    },
    {
     "name": "stdout",
     "output_type": "stream",
     "text": [
      "Before backend torch.Size([1, 512, 84, 128])\n",
      "After backend torch.Size([1, 64, 84, 128])\n",
      "After output layer:  torch.Size([1, 1, 84, 128])\n",
      "Final out torch.Size([1, 1, 672, 1024])\n"
     ]
    },
    {
     "name": "stderr",
     "output_type": "stream",
     "text": [
      "\r",
      " 38%|███▊      | 115/300 [28:59<43:52, 14.23s/it]"
     ]
    },
    {
     "name": "stdout",
     "output_type": "stream",
     "text": [
      "Before backend torch.Size([1, 512, 84, 128])\n",
      "After backend torch.Size([1, 64, 84, 128])\n",
      "After output layer:  torch.Size([1, 1, 84, 128])\n",
      "Final out torch.Size([1, 1, 672, 1024])\n"
     ]
    },
    {
     "name": "stderr",
     "output_type": "stream",
     "text": [
      "\r",
      " 39%|███▊      | 116/300 [29:18<48:04, 15.68s/it]"
     ]
    },
    {
     "name": "stdout",
     "output_type": "stream",
     "text": [
      "Before backend torch.Size([1, 512, 96, 128])\n",
      "After backend torch.Size([1, 64, 96, 128])\n",
      "After output layer:  torch.Size([1, 1, 96, 128])\n",
      "Final out torch.Size([1, 1, 768, 1024])\n"
     ]
    },
    {
     "name": "stderr",
     "output_type": "stream",
     "text": [
      "\r",
      " 39%|███▉      | 117/300 [29:40<53:36, 17.57s/it]"
     ]
    },
    {
     "name": "stdout",
     "output_type": "stream",
     "text": [
      "Before backend torch.Size([1, 512, 86, 128])\n",
      "After backend torch.Size([1, 64, 86, 128])\n",
      "After output layer:  torch.Size([1, 1, 86, 128])\n",
      "Final out torch.Size([1, 1, 688, 1024])\n"
     ]
    },
    {
     "name": "stderr",
     "output_type": "stream",
     "text": [
      "\r",
      " 39%|███▉      | 118/300 [30:00<55:12, 18.20s/it]"
     ]
    },
    {
     "name": "stdout",
     "output_type": "stream",
     "text": [
      "Before backend torch.Size([1, 512, 46, 70])\n",
      "After backend torch.Size([1, 64, 46, 70])\n",
      "After output layer:  torch.Size([1, 1, 46, 70])\n",
      "Final out torch.Size([1, 1, 368, 560])\n"
     ]
    },
    {
     "name": "stderr",
     "output_type": "stream",
     "text": [
      "\r",
      " 40%|███▉      | 119/300 [30:06<43:39, 14.47s/it]"
     ]
    },
    {
     "name": "stdout",
     "output_type": "stream",
     "text": [
      "Before backend torch.Size([1, 512, 76, 128])\n",
      "After backend torch.Size([1, 64, 76, 128])\n",
      "After output layer:  torch.Size([1, 1, 76, 128])\n",
      "Final out torch.Size([1, 1, 608, 1024])\n"
     ]
    },
    {
     "name": "stderr",
     "output_type": "stream",
     "text": [
      "\r",
      " 40%|████      | 120/300 [30:23<46:19, 15.44s/it]"
     ]
    },
    {
     "name": "stdout",
     "output_type": "stream",
     "text": [
      "Before backend torch.Size([1, 512, 82, 128])\n",
      "After backend torch.Size([1, 64, 82, 128])\n",
      "After output layer:  torch.Size([1, 1, 82, 128])\n",
      "Final out torch.Size([1, 1, 656, 1024])\n"
     ]
    },
    {
     "name": "stderr",
     "output_type": "stream",
     "text": [
      "\r",
      " 40%|████      | 121/300 [30:43<49:47, 16.69s/it]"
     ]
    },
    {
     "name": "stdout",
     "output_type": "stream",
     "text": [
      "Before backend torch.Size([1, 512, 50, 54])\n",
      "After backend torch.Size([1, 64, 50, 54])\n",
      "After output layer:  torch.Size([1, 1, 50, 54])\n",
      "Final out torch.Size([1, 1, 400, 432])\n"
     ]
    },
    {
     "name": "stderr",
     "output_type": "stream",
     "text": [
      "\r",
      " 41%|████      | 122/300 [30:47<38:37, 13.02s/it]"
     ]
    },
    {
     "name": "stdout",
     "output_type": "stream",
     "text": [
      "Before backend torch.Size([1, 512, 76, 128])\n",
      "After backend torch.Size([1, 64, 76, 128])\n",
      "After output layer:  torch.Size([1, 1, 76, 128])\n",
      "Final out torch.Size([1, 1, 608, 1024])\n"
     ]
    },
    {
     "name": "stderr",
     "output_type": "stream",
     "text": [
      "\r",
      " 41%|████      | 123/300 [31:05<42:20, 14.35s/it]"
     ]
    },
    {
     "name": "stdout",
     "output_type": "stream",
     "text": [
      "Before backend torch.Size([1, 512, 128, 128])\n",
      "After backend torch.Size([1, 64, 128, 128])\n",
      "After output layer:  torch.Size([1, 1, 128, 128])\n",
      "Final out torch.Size([1, 1, 1024, 1024])\n"
     ]
    },
    {
     "name": "stderr",
     "output_type": "stream",
     "text": [
      "\r",
      " 41%|████▏     | 124/300 [31:36<56:49, 19.37s/it]"
     ]
    },
    {
     "name": "stdout",
     "output_type": "stream",
     "text": [
      "Before backend torch.Size([1, 512, 46, 68])\n",
      "After backend torch.Size([1, 64, 46, 68])\n",
      "After output layer:  torch.Size([1, 1, 46, 68])\n",
      "Final out torch.Size([1, 1, 368, 544])\n"
     ]
    },
    {
     "name": "stderr",
     "output_type": "stream",
     "text": [
      "\r",
      " 42%|████▏     | 125/300 [31:41<44:23, 15.22s/it]"
     ]
    },
    {
     "name": "stdout",
     "output_type": "stream",
     "text": [
      "Before backend torch.Size([1, 512, 96, 128])\n",
      "After backend torch.Size([1, 64, 96, 128])\n",
      "After output layer:  torch.Size([1, 1, 96, 128])\n",
      "Final out torch.Size([1, 1, 768, 1024])\n"
     ]
    },
    {
     "name": "stderr",
     "output_type": "stream",
     "text": [
      "\r",
      " 42%|████▏     | 126/300 [32:04<50:15, 17.33s/it]"
     ]
    },
    {
     "name": "stdout",
     "output_type": "stream",
     "text": [
      "Before backend torch.Size([1, 512, 84, 128])\n",
      "After backend torch.Size([1, 64, 84, 128])\n",
      "After output layer:  torch.Size([1, 1, 84, 128])\n",
      "Final out torch.Size([1, 1, 672, 1024])\n"
     ]
    },
    {
     "name": "stderr",
     "output_type": "stream",
     "text": [
      "\r",
      " 42%|████▏     | 127/300 [32:24<52:19, 18.15s/it]"
     ]
    },
    {
     "name": "stdout",
     "output_type": "stream",
     "text": [
      "Before backend torch.Size([1, 512, 36, 60])\n",
      "After backend torch.Size([1, 64, 36, 60])\n",
      "After output layer:  torch.Size([1, 1, 36, 60])\n",
      "Final out torch.Size([1, 1, 288, 480])\n"
     ]
    },
    {
     "name": "stderr",
     "output_type": "stream",
     "text": [
      "\r",
      " 43%|████▎     | 128/300 [32:27<39:23, 13.74s/it]"
     ]
    },
    {
     "name": "stdout",
     "output_type": "stream",
     "text": [
      "Before backend torch.Size([1, 512, 96, 128])\n",
      "After backend torch.Size([1, 64, 96, 128])\n",
      "After output layer:  torch.Size([1, 1, 96, 128])\n",
      "Final out torch.Size([1, 1, 768, 1024])\n"
     ]
    },
    {
     "name": "stderr",
     "output_type": "stream",
     "text": [
      "\r",
      " 43%|████▎     | 129/300 [32:48<45:18, 15.90s/it]"
     ]
    },
    {
     "name": "stdout",
     "output_type": "stream",
     "text": [
      "Before backend torch.Size([1, 512, 86, 128])\n",
      "After backend torch.Size([1, 64, 86, 128])\n",
      "After output layer:  torch.Size([1, 1, 86, 128])\n",
      "Final out torch.Size([1, 1, 688, 1024])\n"
     ]
    },
    {
     "name": "stderr",
     "output_type": "stream",
     "text": [
      "\r",
      " 43%|████▎     | 130/300 [33:07<47:23, 16.73s/it]"
     ]
    },
    {
     "name": "stdout",
     "output_type": "stream",
     "text": [
      "Before backend torch.Size([1, 512, 80, 56])\n",
      "After backend torch.Size([1, 64, 80, 56])\n",
      "After output layer:  torch.Size([1, 1, 80, 56])\n",
      "Final out torch.Size([1, 1, 640, 448])\n"
     ]
    },
    {
     "name": "stderr",
     "output_type": "stream",
     "text": [
      "\r",
      " 44%|████▎     | 131/300 [33:14<39:11, 13.91s/it]"
     ]
    },
    {
     "name": "stdout",
     "output_type": "stream",
     "text": [
      "Before backend torch.Size([1, 512, 96, 128])\n",
      "After backend torch.Size([1, 64, 96, 128])\n",
      "After output layer:  torch.Size([1, 1, 96, 128])\n",
      "Final out torch.Size([1, 1, 768, 1024])\n"
     ]
    },
    {
     "name": "stderr",
     "output_type": "stream",
     "text": [
      "\r",
      " 44%|████▍     | 132/300 [33:36<45:39, 16.30s/it]"
     ]
    },
    {
     "name": "stdout",
     "output_type": "stream",
     "text": [
      "Before backend torch.Size([1, 512, 86, 128])\n",
      "After backend torch.Size([1, 64, 86, 128])\n",
      "After output layer:  torch.Size([1, 1, 86, 128])\n",
      "Final out torch.Size([1, 1, 688, 1024])\n"
     ]
    },
    {
     "name": "stderr",
     "output_type": "stream",
     "text": [
      "\r",
      " 44%|████▍     | 133/300 [33:56<48:18, 17.35s/it]"
     ]
    },
    {
     "name": "stdout",
     "output_type": "stream",
     "text": [
      "Before backend torch.Size([1, 512, 54, 86])\n",
      "After backend torch.Size([1, 64, 54, 86])\n",
      "After output layer:  torch.Size([1, 1, 54, 86])\n",
      "Final out torch.Size([1, 1, 432, 688])\n"
     ]
    },
    {
     "name": "stderr",
     "output_type": "stream",
     "text": [
      "\r",
      " 45%|████▍     | 134/300 [34:04<40:19, 14.57s/it]"
     ]
    },
    {
     "name": "stdout",
     "output_type": "stream",
     "text": [
      "Before backend torch.Size([1, 512, 52, 76])\n",
      "After backend torch.Size([1, 64, 52, 76])\n",
      "After output layer:  torch.Size([1, 1, 52, 76])\n",
      "Final out torch.Size([1, 1, 416, 608])\n"
     ]
    },
    {
     "name": "stderr",
     "output_type": "stream",
     "text": [
      "\r",
      " 45%|████▌     | 135/300 [34:11<34:02, 12.38s/it]"
     ]
    },
    {
     "name": "stdout",
     "output_type": "stream",
     "text": [
      "Before backend torch.Size([1, 512, 84, 128])\n",
      "After backend torch.Size([1, 64, 84, 128])\n",
      "After output layer:  torch.Size([1, 1, 84, 128])\n",
      "Final out torch.Size([1, 1, 672, 1024])\n"
     ]
    },
    {
     "name": "stderr",
     "output_type": "stream",
     "text": [
      "\r",
      " 45%|████▌     | 136/300 [34:30<38:45, 14.18s/it]"
     ]
    },
    {
     "name": "stdout",
     "output_type": "stream",
     "text": [
      "Before backend torch.Size([1, 512, 84, 128])\n",
      "After backend torch.Size([1, 64, 84, 128])\n",
      "After output layer:  torch.Size([1, 1, 84, 128])\n",
      "Final out torch.Size([1, 1, 672, 1024])\n"
     ]
    },
    {
     "name": "stderr",
     "output_type": "stream",
     "text": [
      "\r",
      " 46%|████▌     | 137/300 [34:47<41:11, 15.17s/it]"
     ]
    },
    {
     "name": "stdout",
     "output_type": "stream",
     "text": [
      "Before backend torch.Size([1, 512, 82, 120])\n",
      "After backend torch.Size([1, 64, 82, 120])\n",
      "After output layer:  torch.Size([1, 1, 82, 120])\n",
      "Final out torch.Size([1, 1, 656, 960])\n"
     ]
    },
    {
     "name": "stderr",
     "output_type": "stream",
     "text": [
      "\r",
      " 46%|████▌     | 138/300 [35:04<42:25, 15.71s/it]"
     ]
    },
    {
     "name": "stdout",
     "output_type": "stream",
     "text": [
      "Before backend torch.Size([1, 512, 96, 128])\n",
      "After backend torch.Size([1, 64, 96, 128])\n",
      "After output layer:  torch.Size([1, 1, 96, 128])\n",
      "Final out torch.Size([1, 1, 768, 1024])\n"
     ]
    },
    {
     "name": "stderr",
     "output_type": "stream",
     "text": [
      "\r",
      " 46%|████▋     | 139/300 [35:25<46:27, 17.31s/it]"
     ]
    },
    {
     "name": "stdout",
     "output_type": "stream",
     "text": [
      "Before backend torch.Size([1, 512, 56, 80])\n",
      "After backend torch.Size([1, 64, 56, 80])\n",
      "After output layer:  torch.Size([1, 1, 56, 80])\n",
      "Final out torch.Size([1, 1, 448, 640])\n"
     ]
    },
    {
     "name": "stderr",
     "output_type": "stream",
     "text": [
      "\r",
      " 47%|████▋     | 140/300 [35:33<38:26, 14.42s/it]"
     ]
    },
    {
     "name": "stdout",
     "output_type": "stream",
     "text": [
      "Before backend torch.Size([1, 512, 84, 128])\n",
      "After backend torch.Size([1, 64, 84, 128])\n",
      "After output layer:  torch.Size([1, 1, 84, 128])\n",
      "Final out torch.Size([1, 1, 672, 1024])\n"
     ]
    },
    {
     "name": "stderr",
     "output_type": "stream",
     "text": [
      "\r",
      " 47%|████▋     | 141/300 [35:52<41:46, 15.77s/it]"
     ]
    },
    {
     "name": "stdout",
     "output_type": "stream",
     "text": [
      "Before backend torch.Size([1, 512, 70, 104])\n",
      "After backend torch.Size([1, 64, 70, 104])\n",
      "After output layer:  torch.Size([1, 1, 70, 104])\n",
      "Final out torch.Size([1, 1, 560, 832])\n"
     ]
    },
    {
     "name": "stderr",
     "output_type": "stream",
     "text": [
      "\r",
      " 47%|████▋     | 142/300 [36:03<37:56, 14.41s/it]"
     ]
    },
    {
     "name": "stdout",
     "output_type": "stream",
     "text": [
      "Before backend torch.Size([1, 512, 98, 128])\n",
      "After backend torch.Size([1, 64, 98, 128])\n",
      "After output layer:  torch.Size([1, 1, 98, 128])\n",
      "Final out torch.Size([1, 1, 784, 1024])\n"
     ]
    },
    {
     "name": "stderr",
     "output_type": "stream",
     "text": [
      "\r",
      " 48%|████▊     | 143/300 [36:25<43:36, 16.67s/it]"
     ]
    },
    {
     "name": "stdout",
     "output_type": "stream",
     "text": [
      "Before backend torch.Size([1, 512, 72, 128])\n",
      "After backend torch.Size([1, 64, 72, 128])\n",
      "After output layer:  torch.Size([1, 1, 72, 128])\n",
      "Final out torch.Size([1, 1, 576, 1024])\n"
     ]
    },
    {
     "name": "stderr",
     "output_type": "stream",
     "text": [
      "\r",
      " 48%|████▊     | 144/300 [36:41<43:18, 16.66s/it]"
     ]
    },
    {
     "name": "stdout",
     "output_type": "stream",
     "text": [
      "Before backend torch.Size([1, 512, 44, 68])\n",
      "After backend torch.Size([1, 64, 44, 68])\n",
      "After output layer:  torch.Size([1, 1, 44, 68])\n",
      "Final out torch.Size([1, 1, 352, 544])\n"
     ]
    },
    {
     "name": "stderr",
     "output_type": "stream",
     "text": [
      "\r",
      " 48%|████▊     | 145/300 [36:47<34:10, 13.23s/it]"
     ]
    },
    {
     "name": "stdout",
     "output_type": "stream",
     "text": [
      "Before backend torch.Size([1, 512, 62, 60])\n",
      "After backend torch.Size([1, 64, 62, 60])\n",
      "After output layer:  torch.Size([1, 1, 62, 60])\n",
      "Final out torch.Size([1, 1, 496, 480])\n"
     ]
    },
    {
     "name": "stderr",
     "output_type": "stream",
     "text": [
      "\r",
      " 49%|████▊     | 146/300 [36:53<28:37, 11.15s/it]"
     ]
    },
    {
     "name": "stdout",
     "output_type": "stream",
     "text": [
      "Before backend torch.Size([1, 512, 118, 128])\n",
      "After backend torch.Size([1, 64, 118, 128])\n",
      "After output layer:  torch.Size([1, 1, 118, 128])\n",
      "Final out torch.Size([1, 1, 944, 1024])\n"
     ]
    },
    {
     "name": "stderr",
     "output_type": "stream",
     "text": [
      "\r",
      " 49%|████▉     | 147/300 [37:19<40:04, 15.71s/it]"
     ]
    },
    {
     "name": "stdout",
     "output_type": "stream",
     "text": [
      "Before backend torch.Size([1, 512, 58, 90])\n",
      "After backend torch.Size([1, 64, 58, 90])\n",
      "After output layer:  torch.Size([1, 1, 58, 90])\n",
      "Final out torch.Size([1, 1, 464, 720])\n"
     ]
    },
    {
     "name": "stderr",
     "output_type": "stream",
     "text": [
      "\r",
      " 49%|████▉     | 148/300 [37:28<34:28, 13.61s/it]"
     ]
    },
    {
     "name": "stdout",
     "output_type": "stream",
     "text": [
      "Before backend torch.Size([1, 512, 34, 54])\n",
      "After backend torch.Size([1, 64, 34, 54])\n",
      "After output layer:  torch.Size([1, 1, 34, 54])\n",
      "Final out torch.Size([1, 1, 272, 432])\n"
     ]
    },
    {
     "name": "stderr",
     "output_type": "stream",
     "text": [
      "\r",
      " 50%|████▉     | 149/300 [37:31<26:24, 10.49s/it]"
     ]
    },
    {
     "name": "stdout",
     "output_type": "stream",
     "text": [
      "Before backend torch.Size([1, 512, 40, 74])\n",
      "After backend torch.Size([1, 64, 40, 74])\n",
      "After output layer:  torch.Size([1, 1, 40, 74])\n",
      "Final out torch.Size([1, 1, 320, 592])\n"
     ]
    },
    {
     "name": "stderr",
     "output_type": "stream",
     "text": [
      "\r",
      " 50%|█████     | 150/300 [37:36<22:11,  8.88s/it]"
     ]
    },
    {
     "name": "stdout",
     "output_type": "stream",
     "text": [
      "Before backend torch.Size([1, 512, 96, 128])\n",
      "After backend torch.Size([1, 64, 96, 128])\n",
      "After output layer:  torch.Size([1, 1, 96, 128])\n",
      "Final out torch.Size([1, 1, 768, 1024])\n"
     ]
    },
    {
     "name": "stderr",
     "output_type": "stream",
     "text": [
      "\r",
      " 50%|█████     | 151/300 [38:00<33:04, 13.32s/it]"
     ]
    },
    {
     "name": "stdout",
     "output_type": "stream",
     "text": [
      "Before backend torch.Size([1, 512, 44, 80])\n",
      "After backend torch.Size([1, 64, 44, 80])\n",
      "After output layer:  torch.Size([1, 1, 44, 80])\n",
      "Final out torch.Size([1, 1, 352, 640])\n"
     ]
    },
    {
     "name": "stderr",
     "output_type": "stream",
     "text": [
      "\r",
      " 51%|█████     | 152/300 [38:06<27:42, 11.23s/it]"
     ]
    },
    {
     "name": "stdout",
     "output_type": "stream",
     "text": [
      "Before backend torch.Size([1, 512, 128, 128])\n",
      "After backend torch.Size([1, 64, 128, 128])\n",
      "After output layer:  torch.Size([1, 1, 128, 128])\n",
      "Final out torch.Size([1, 1, 1024, 1024])\n"
     ]
    },
    {
     "name": "stderr",
     "output_type": "stream",
     "text": [
      "\r",
      " 51%|█████     | 153/300 [38:37<41:26, 16.91s/it]"
     ]
    },
    {
     "name": "stdout",
     "output_type": "stream",
     "text": [
      "Before backend torch.Size([1, 512, 62, 128])\n",
      "After backend torch.Size([1, 64, 62, 128])\n",
      "After output layer:  torch.Size([1, 1, 62, 128])\n",
      "Final out torch.Size([1, 1, 496, 1024])\n"
     ]
    },
    {
     "name": "stderr",
     "output_type": "stream",
     "text": [
      "\r",
      " 51%|█████▏    | 154/300 [38:50<38:53, 15.98s/it]"
     ]
    },
    {
     "name": "stdout",
     "output_type": "stream",
     "text": [
      "Before backend torch.Size([1, 512, 68, 128])\n",
      "After backend torch.Size([1, 64, 68, 128])\n",
      "After output layer:  torch.Size([1, 1, 68, 128])\n",
      "Final out torch.Size([1, 1, 544, 1024])\n"
     ]
    },
    {
     "name": "stderr",
     "output_type": "stream",
     "text": [
      "\r",
      " 52%|█████▏    | 155/300 [39:06<38:23, 15.89s/it]"
     ]
    },
    {
     "name": "stdout",
     "output_type": "stream",
     "text": [
      "Before backend torch.Size([1, 512, 56, 96])\n",
      "After backend torch.Size([1, 64, 56, 96])\n",
      "After output layer:  torch.Size([1, 1, 56, 96])\n",
      "Final out torch.Size([1, 1, 448, 768])\n"
     ]
    },
    {
     "name": "stderr",
     "output_type": "stream",
     "text": [
      "\r",
      " 52%|█████▏    | 156/300 [39:15<33:11, 13.83s/it]"
     ]
    },
    {
     "name": "stdout",
     "output_type": "stream",
     "text": [
      "Before backend torch.Size([1, 512, 74, 128])\n",
      "After backend torch.Size([1, 64, 74, 128])\n",
      "After output layer:  torch.Size([1, 1, 74, 128])\n",
      "Final out torch.Size([1, 1, 592, 1024])\n"
     ]
    },
    {
     "name": "stderr",
     "output_type": "stream",
     "text": [
      "\r",
      " 52%|█████▏    | 157/300 [39:33<36:05, 15.14s/it]"
     ]
    },
    {
     "name": "stdout",
     "output_type": "stream",
     "text": [
      "Before backend torch.Size([1, 512, 84, 128])\n",
      "After backend torch.Size([1, 64, 84, 128])\n",
      "After output layer:  torch.Size([1, 1, 84, 128])\n",
      "Final out torch.Size([1, 1, 672, 1024])\n"
     ]
    },
    {
     "name": "stderr",
     "output_type": "stream",
     "text": [
      "\r",
      " 53%|█████▎    | 158/300 [39:53<39:19, 16.62s/it]"
     ]
    },
    {
     "name": "stdout",
     "output_type": "stream",
     "text": [
      "Before backend torch.Size([1, 512, 74, 100])\n",
      "After backend torch.Size([1, 64, 74, 100])\n",
      "After output layer:  torch.Size([1, 1, 74, 100])\n",
      "Final out torch.Size([1, 1, 592, 800])\n"
     ]
    },
    {
     "name": "stderr",
     "output_type": "stream",
     "text": [
      "\r",
      " 53%|█████▎    | 159/300 [40:08<37:37, 16.01s/it]"
     ]
    },
    {
     "name": "stdout",
     "output_type": "stream",
     "text": [
      "Before backend torch.Size([1, 512, 52, 78])\n",
      "After backend torch.Size([1, 64, 52, 78])\n",
      "After output layer:  torch.Size([1, 1, 52, 78])\n",
      "Final out torch.Size([1, 1, 416, 624])\n"
     ]
    },
    {
     "name": "stderr",
     "output_type": "stream",
     "text": [
      "\r",
      " 53%|█████▎    | 160/300 [40:16<31:43, 13.60s/it]"
     ]
    },
    {
     "name": "stdout",
     "output_type": "stream",
     "text": [
      "Before backend torch.Size([1, 512, 84, 128])\n",
      "After backend torch.Size([1, 64, 84, 128])\n",
      "After output layer:  torch.Size([1, 1, 84, 128])\n",
      "Final out torch.Size([1, 1, 672, 1024])\n"
     ]
    },
    {
     "name": "stderr",
     "output_type": "stream",
     "text": [
      "\r",
      " 54%|█████▎    | 161/300 [40:37<36:59, 15.97s/it]"
     ]
    },
    {
     "name": "stdout",
     "output_type": "stream",
     "text": [
      "Before backend torch.Size([1, 512, 100, 74])\n",
      "After backend torch.Size([1, 64, 100, 74])\n",
      "After output layer:  torch.Size([1, 1, 100, 74])\n",
      "Final out torch.Size([1, 1, 800, 592])\n"
     ]
    },
    {
     "name": "stderr",
     "output_type": "stream",
     "text": [
      "\r",
      " 54%|█████▍    | 162/300 [40:52<35:26, 15.41s/it]"
     ]
    },
    {
     "name": "stdout",
     "output_type": "stream",
     "text": [
      "There is a grayscale image.\n",
      "Before backend torch.Size([1, 512, 84, 128])\n",
      "After backend torch.Size([1, 64, 84, 128])\n",
      "After output layer:  torch.Size([1, 1, 84, 128])\n",
      "Final out torch.Size([1, 1, 672, 1024])\n"
     ]
    },
    {
     "name": "stderr",
     "output_type": "stream",
     "text": [
      "\r",
      " 54%|█████▍    | 163/300 [41:13<38:58, 17.07s/it]"
     ]
    },
    {
     "name": "stdout",
     "output_type": "stream",
     "text": [
      "Before backend torch.Size([1, 512, 44, 40])\n",
      "After backend torch.Size([1, 64, 44, 40])\n",
      "After output layer:  torch.Size([1, 1, 44, 40])\n",
      "Final out torch.Size([1, 1, 352, 320])\n"
     ]
    },
    {
     "name": "stderr",
     "output_type": "stream",
     "text": [
      "\r",
      " 55%|█████▍    | 164/300 [41:16<29:16, 12.92s/it]"
     ]
    },
    {
     "name": "stdout",
     "output_type": "stream",
     "text": [
      "Before backend torch.Size([1, 512, 96, 128])\n",
      "After backend torch.Size([1, 64, 96, 128])\n",
      "After output layer:  torch.Size([1, 1, 96, 128])\n",
      "Final out torch.Size([1, 1, 768, 1024])\n"
     ]
    },
    {
     "name": "stderr",
     "output_type": "stream",
     "text": [
      "\r",
      " 55%|█████▌    | 165/300 [41:38<35:08, 15.62s/it]"
     ]
    },
    {
     "name": "stdout",
     "output_type": "stream",
     "text": [
      "Before backend torch.Size([1, 512, 46, 62])\n",
      "After backend torch.Size([1, 64, 46, 62])\n",
      "After output layer:  torch.Size([1, 1, 46, 62])\n",
      "Final out torch.Size([1, 1, 368, 496])\n"
     ]
    },
    {
     "name": "stderr",
     "output_type": "stream",
     "text": [
      "\r",
      " 55%|█████▌    | 166/300 [41:43<28:06, 12.59s/it]"
     ]
    },
    {
     "name": "stdout",
     "output_type": "stream",
     "text": [
      "Before backend torch.Size([1, 512, 128, 96])\n",
      "After backend torch.Size([1, 64, 128, 96])\n",
      "After output layer:  torch.Size([1, 1, 128, 96])\n",
      "Final out torch.Size([1, 1, 1024, 768])\n"
     ]
    },
    {
     "name": "stderr",
     "output_type": "stream",
     "text": [
      "\r",
      " 56%|█████▌    | 167/300 [42:05<34:03, 15.37s/it]"
     ]
    },
    {
     "name": "stdout",
     "output_type": "stream",
     "text": [
      "Before backend torch.Size([1, 512, 36, 54])\n",
      "After backend torch.Size([1, 64, 36, 54])\n",
      "After output layer:  torch.Size([1, 1, 36, 54])\n",
      "Final out torch.Size([1, 1, 288, 432])\n"
     ]
    },
    {
     "name": "stderr",
     "output_type": "stream",
     "text": [
      "\r",
      " 56%|█████▌    | 168/300 [42:09<26:12, 11.91s/it]"
     ]
    },
    {
     "name": "stdout",
     "output_type": "stream",
     "text": [
      "Before backend torch.Size([1, 512, 48, 128])\n",
      "After backend torch.Size([1, 64, 48, 128])\n",
      "After output layer:  torch.Size([1, 1, 48, 128])\n",
      "Final out torch.Size([1, 1, 384, 1024])\n"
     ]
    },
    {
     "name": "stderr",
     "output_type": "stream",
     "text": [
      "\r",
      " 56%|█████▋    | 169/300 [42:19<24:57, 11.43s/it]"
     ]
    },
    {
     "name": "stdout",
     "output_type": "stream",
     "text": [
      "Before backend torch.Size([1, 512, 42, 70])\n",
      "After backend torch.Size([1, 64, 42, 70])\n",
      "After output layer:  torch.Size([1, 1, 42, 70])\n",
      "Final out torch.Size([1, 1, 336, 560])\n"
     ]
    },
    {
     "name": "stderr",
     "output_type": "stream",
     "text": [
      "\r",
      " 57%|█████▋    | 170/300 [42:24<20:32,  9.48s/it]"
     ]
    },
    {
     "name": "stdout",
     "output_type": "stream",
     "text": [
      "Before backend torch.Size([1, 512, 66, 100])\n",
      "After backend torch.Size([1, 64, 66, 100])\n",
      "After output layer:  torch.Size([1, 1, 66, 100])\n",
      "Final out torch.Size([1, 1, 528, 800])\n"
     ]
    },
    {
     "name": "stderr",
     "output_type": "stream",
     "text": [
      "\r",
      " 57%|█████▋    | 171/300 [42:35<21:11,  9.86s/it]"
     ]
    },
    {
     "name": "stdout",
     "output_type": "stream",
     "text": [
      "Before backend torch.Size([1, 512, 70, 128])\n",
      "After backend torch.Size([1, 64, 70, 128])\n",
      "After output layer:  torch.Size([1, 1, 70, 128])\n",
      "Final out torch.Size([1, 1, 560, 1024])\n"
     ]
    },
    {
     "name": "stderr",
     "output_type": "stream",
     "text": [
      "\r",
      " 57%|█████▋    | 172/300 [42:51<24:46, 11.62s/it]"
     ]
    },
    {
     "name": "stdout",
     "output_type": "stream",
     "text": [
      "Before backend torch.Size([1, 512, 96, 128])\n",
      "After backend torch.Size([1, 64, 96, 128])\n",
      "After output layer:  torch.Size([1, 1, 96, 128])\n",
      "Final out torch.Size([1, 1, 768, 1024])\n"
     ]
    },
    {
     "name": "stderr",
     "output_type": "stream",
     "text": [
      "\r",
      " 58%|█████▊    | 173/300 [43:14<31:47, 15.02s/it]"
     ]
    },
    {
     "name": "stdout",
     "output_type": "stream",
     "text": [
      "Before backend torch.Size([1, 512, 96, 128])\n",
      "After backend torch.Size([1, 64, 96, 128])\n",
      "After output layer:  torch.Size([1, 1, 96, 128])\n",
      "Final out torch.Size([1, 1, 768, 1024])\n"
     ]
    },
    {
     "name": "stderr",
     "output_type": "stream",
     "text": [
      "\r",
      " 58%|█████▊    | 174/300 [43:36<36:09, 17.22s/it]"
     ]
    },
    {
     "name": "stdout",
     "output_type": "stream",
     "text": [
      "Before backend torch.Size([1, 512, 66, 100])\n",
      "After backend torch.Size([1, 64, 66, 100])\n",
      "After output layer:  torch.Size([1, 1, 66, 100])\n",
      "Final out torch.Size([1, 1, 528, 800])\n"
     ]
    },
    {
     "name": "stderr",
     "output_type": "stream",
     "text": [
      "\r",
      " 58%|█████▊    | 175/300 [43:48<32:26, 15.57s/it]"
     ]
    },
    {
     "name": "stdout",
     "output_type": "stream",
     "text": [
      "Before backend torch.Size([1, 512, 84, 128])\n",
      "After backend torch.Size([1, 64, 84, 128])\n",
      "After output layer:  torch.Size([1, 1, 84, 128])\n",
      "Final out torch.Size([1, 1, 672, 1024])\n"
     ]
    },
    {
     "name": "stderr",
     "output_type": "stream",
     "text": [
      "\r",
      " 59%|█████▊    | 176/300 [44:07<34:38, 16.76s/it]"
     ]
    },
    {
     "name": "stdout",
     "output_type": "stream",
     "text": [
      "Before backend torch.Size([1, 512, 82, 120])\n",
      "After backend torch.Size([1, 64, 82, 120])\n",
      "After output layer:  torch.Size([1, 1, 82, 120])\n",
      "Final out torch.Size([1, 1, 656, 960])\n"
     ]
    },
    {
     "name": "stderr",
     "output_type": "stream",
     "text": [
      "\r",
      " 59%|█████▉    | 177/300 [44:25<35:19, 17.23s/it]"
     ]
    },
    {
     "name": "stdout",
     "output_type": "stream",
     "text": [
      "Before backend torch.Size([1, 512, 42, 74])\n",
      "After backend torch.Size([1, 64, 42, 74])\n",
      "After output layer:  torch.Size([1, 1, 42, 74])\n",
      "Final out torch.Size([1, 1, 336, 592])\n"
     ]
    },
    {
     "name": "stderr",
     "output_type": "stream",
     "text": [
      "\r",
      " 59%|█████▉    | 178/300 [44:31<27:55, 13.74s/it]"
     ]
    },
    {
     "name": "stdout",
     "output_type": "stream",
     "text": [
      "Before backend torch.Size([1, 512, 50, 76])\n",
      "After backend torch.Size([1, 64, 50, 76])\n",
      "After output layer:  torch.Size([1, 1, 50, 76])\n",
      "Final out torch.Size([1, 1, 400, 608])\n"
     ]
    },
    {
     "name": "stderr",
     "output_type": "stream",
     "text": [
      "\r",
      " 60%|█████▉    | 179/300 [44:38<23:47, 11.80s/it]"
     ]
    },
    {
     "name": "stdout",
     "output_type": "stream",
     "text": [
      "Before backend torch.Size([1, 512, 22, 52])\n",
      "After backend torch.Size([1, 64, 22, 52])\n",
      "After output layer:  torch.Size([1, 1, 22, 52])\n",
      "Final out torch.Size([1, 1, 176, 416])\n"
     ]
    },
    {
     "name": "stderr",
     "output_type": "stream",
     "text": [
      "\r",
      " 60%|██████    | 180/300 [44:40<17:47,  8.90s/it]"
     ]
    },
    {
     "name": "stdout",
     "output_type": "stream",
     "text": [
      "Before backend torch.Size([1, 512, 70, 104])\n",
      "After backend torch.Size([1, 64, 70, 104])\n",
      "After output layer:  torch.Size([1, 1, 70, 104])\n",
      "Final out torch.Size([1, 1, 560, 832])\n"
     ]
    },
    {
     "name": "stderr",
     "output_type": "stream",
     "text": [
      "\r",
      " 60%|██████    | 181/300 [44:54<20:31, 10.35s/it]"
     ]
    },
    {
     "name": "stdout",
     "output_type": "stream",
     "text": [
      "Before backend torch.Size([1, 512, 82, 120])\n",
      "After backend torch.Size([1, 64, 82, 120])\n",
      "After output layer:  torch.Size([1, 1, 82, 120])\n",
      "Final out torch.Size([1, 1, 656, 960])\n"
     ]
    },
    {
     "name": "stderr",
     "output_type": "stream",
     "text": [
      "\r",
      " 61%|██████    | 182/300 [45:13<25:27, 12.94s/it]"
     ]
    },
    {
     "name": "stdout",
     "output_type": "stream",
     "text": [
      "Before backend torch.Size([1, 512, 84, 128])\n",
      "After backend torch.Size([1, 64, 84, 128])\n",
      "After output layer:  torch.Size([1, 1, 84, 128])\n",
      "Final out torch.Size([1, 1, 672, 1024])\n"
     ]
    },
    {
     "name": "stderr",
     "output_type": "stream",
     "text": [
      "\r",
      " 61%|██████    | 183/300 [45:33<29:24, 15.08s/it]"
     ]
    },
    {
     "name": "stdout",
     "output_type": "stream",
     "text": [
      "Before backend torch.Size([1, 512, 96, 128])\n",
      "After backend torch.Size([1, 64, 96, 128])\n",
      "After output layer:  torch.Size([1, 1, 96, 128])\n",
      "Final out torch.Size([1, 1, 768, 1024])\n"
     ]
    },
    {
     "name": "stderr",
     "output_type": "stream",
     "text": [
      "\r",
      " 61%|██████▏   | 184/300 [45:56<33:45, 17.46s/it]"
     ]
    },
    {
     "name": "stdout",
     "output_type": "stream",
     "text": [
      "Before backend torch.Size([1, 512, 90, 128])\n",
      "After backend torch.Size([1, 64, 90, 128])\n",
      "After output layer:  torch.Size([1, 1, 90, 128])\n",
      "Final out torch.Size([1, 1, 720, 1024])\n"
     ]
    },
    {
     "name": "stderr",
     "output_type": "stream",
     "text": [
      "\r",
      " 62%|██████▏   | 185/300 [46:18<36:02, 18.81s/it]"
     ]
    },
    {
     "name": "stdout",
     "output_type": "stream",
     "text": [
      "Before backend torch.Size([1, 512, 96, 128])\n",
      "After backend torch.Size([1, 64, 96, 128])\n",
      "After output layer:  torch.Size([1, 1, 96, 128])\n",
      "Final out torch.Size([1, 1, 768, 1024])\n"
     ]
    },
    {
     "name": "stderr",
     "output_type": "stream",
     "text": [
      "\r",
      " 62%|██████▏   | 186/300 [46:40<37:23, 19.68s/it]"
     ]
    },
    {
     "name": "stdout",
     "output_type": "stream",
     "text": [
      "Before backend torch.Size([1, 512, 84, 128])\n",
      "After backend torch.Size([1, 64, 84, 128])\n",
      "After output layer:  torch.Size([1, 1, 84, 128])\n",
      "Final out torch.Size([1, 1, 672, 1024])\n"
     ]
    },
    {
     "name": "stderr",
     "output_type": "stream",
     "text": [
      "\r",
      " 62%|██████▏   | 187/300 [46:59<36:29, 19.38s/it]"
     ]
    },
    {
     "name": "stdout",
     "output_type": "stream",
     "text": [
      "Before backend torch.Size([1, 512, 74, 112])\n",
      "After backend torch.Size([1, 64, 74, 112])\n",
      "After output layer:  torch.Size([1, 1, 74, 112])\n",
      "Final out torch.Size([1, 1, 592, 896])\n"
     ]
    },
    {
     "name": "stderr",
     "output_type": "stream",
     "text": [
      "\r",
      " 63%|██████▎   | 188/300 [47:14<34:12, 18.32s/it]"
     ]
    },
    {
     "name": "stdout",
     "output_type": "stream",
     "text": [
      "Before backend torch.Size([1, 512, 100, 72])\n",
      "After backend torch.Size([1, 64, 100, 72])\n",
      "After output layer:  torch.Size([1, 1, 100, 72])\n",
      "Final out torch.Size([1, 1, 800, 576])\n"
     ]
    },
    {
     "name": "stderr",
     "output_type": "stream",
     "text": [
      "\r",
      " 63%|██████▎   | 189/300 [47:26<30:14, 16.34s/it]"
     ]
    },
    {
     "name": "stdout",
     "output_type": "stream",
     "text": [
      "Before backend torch.Size([1, 512, 84, 128])\n",
      "After backend torch.Size([1, 64, 84, 128])\n",
      "After output layer:  torch.Size([1, 1, 84, 128])\n",
      "Final out torch.Size([1, 1, 672, 1024])\n"
     ]
    },
    {
     "name": "stderr",
     "output_type": "stream",
     "text": [
      "\r",
      " 63%|██████▎   | 190/300 [47:45<31:05, 16.96s/it]"
     ]
    },
    {
     "name": "stdout",
     "output_type": "stream",
     "text": [
      "Before backend torch.Size([1, 512, 60, 80])\n",
      "After backend torch.Size([1, 64, 60, 80])\n",
      "After output layer:  torch.Size([1, 1, 60, 80])\n",
      "Final out torch.Size([1, 1, 480, 640])\n"
     ]
    },
    {
     "name": "stderr",
     "output_type": "stream",
     "text": [
      "\r",
      " 64%|██████▎   | 191/300 [47:52<25:47, 14.20s/it]"
     ]
    },
    {
     "name": "stdout",
     "output_type": "stream",
     "text": [
      "Before backend torch.Size([1, 512, 56, 74])\n",
      "After backend torch.Size([1, 64, 56, 74])\n",
      "After output layer:  torch.Size([1, 1, 56, 74])\n",
      "Final out torch.Size([1, 1, 448, 592])\n"
     ]
    },
    {
     "name": "stderr",
     "output_type": "stream",
     "text": [
      "\r",
      " 64%|██████▍   | 192/300 [47:59<21:44, 12.08s/it]"
     ]
    },
    {
     "name": "stdout",
     "output_type": "stream",
     "text": [
      "Before backend torch.Size([1, 512, 80, 128])\n",
      "After backend torch.Size([1, 64, 80, 128])\n",
      "After output layer:  torch.Size([1, 1, 80, 128])\n",
      "Final out torch.Size([1, 1, 640, 1024])\n"
     ]
    },
    {
     "name": "stderr",
     "output_type": "stream",
     "text": [
      "\r",
      " 64%|██████▍   | 193/300 [48:18<25:02, 14.04s/it]"
     ]
    },
    {
     "name": "stdout",
     "output_type": "stream",
     "text": [
      "Before backend torch.Size([1, 512, 102, 128])\n",
      "After backend torch.Size([1, 64, 102, 128])\n",
      "After output layer:  torch.Size([1, 1, 102, 128])\n",
      "Final out torch.Size([1, 1, 816, 1024])\n"
     ]
    },
    {
     "name": "stderr",
     "output_type": "stream",
     "text": [
      "\r",
      " 65%|██████▍   | 194/300 [48:42<29:53, 16.92s/it]"
     ]
    },
    {
     "name": "stdout",
     "output_type": "stream",
     "text": [
      "Before backend torch.Size([1, 512, 40, 54])\n",
      "After backend torch.Size([1, 64, 40, 54])\n",
      "After output layer:  torch.Size([1, 1, 40, 54])\n",
      "Final out torch.Size([1, 1, 320, 432])\n"
     ]
    },
    {
     "name": "stderr",
     "output_type": "stream",
     "text": [
      "\r",
      " 65%|██████▌   | 195/300 [48:45<22:40, 12.96s/it]"
     ]
    },
    {
     "name": "stdout",
     "output_type": "stream",
     "text": [
      "Before backend torch.Size([1, 512, 98, 128])\n",
      "After backend torch.Size([1, 64, 98, 128])\n",
      "After output layer:  torch.Size([1, 1, 98, 128])\n",
      "Final out torch.Size([1, 1, 784, 1024])\n"
     ]
    },
    {
     "name": "stderr",
     "output_type": "stream",
     "text": [
      "\r",
      " 65%|██████▌   | 196/300 [49:09<27:58, 16.14s/it]"
     ]
    },
    {
     "name": "stdout",
     "output_type": "stream",
     "text": [
      "Before backend torch.Size([1, 512, 96, 128])\n",
      "After backend torch.Size([1, 64, 96, 128])\n",
      "After output layer:  torch.Size([1, 1, 96, 128])\n",
      "Final out torch.Size([1, 1, 768, 1024])\n"
     ]
    },
    {
     "name": "stderr",
     "output_type": "stream",
     "text": [
      "\r",
      " 66%|██████▌   | 197/300 [49:31<30:41, 17.87s/it]"
     ]
    },
    {
     "name": "stdout",
     "output_type": "stream",
     "text": [
      "Before backend torch.Size([1, 512, 74, 128])\n",
      "After backend torch.Size([1, 64, 74, 128])\n",
      "After output layer:  torch.Size([1, 1, 74, 128])\n",
      "Final out torch.Size([1, 1, 592, 1024])\n"
     ]
    },
    {
     "name": "stderr",
     "output_type": "stream",
     "text": [
      "\r",
      " 66%|██████▌   | 198/300 [49:49<30:29, 17.94s/it]"
     ]
    },
    {
     "name": "stdout",
     "output_type": "stream",
     "text": [
      "Before backend torch.Size([1, 512, 60, 90])\n",
      "After backend torch.Size([1, 64, 60, 90])\n",
      "After output layer:  torch.Size([1, 1, 60, 90])\n",
      "Final out torch.Size([1, 1, 480, 720])\n"
     ]
    },
    {
     "name": "stderr",
     "output_type": "stream",
     "text": [
      "\r",
      " 66%|██████▋   | 199/300 [49:58<25:47, 15.32s/it]"
     ]
    },
    {
     "name": "stdout",
     "output_type": "stream",
     "text": [
      "Before backend torch.Size([1, 512, 88, 128])\n",
      "After backend torch.Size([1, 64, 88, 128])\n",
      "After output layer:  torch.Size([1, 1, 88, 128])\n",
      "Final out torch.Size([1, 1, 704, 1024])\n"
     ]
    },
    {
     "name": "stderr",
     "output_type": "stream",
     "text": [
      "\r",
      " 67%|██████▋   | 200/300 [50:20<28:47, 17.27s/it]"
     ]
    },
    {
     "name": "stdout",
     "output_type": "stream",
     "text": [
      "Before backend torch.Size([1, 512, 96, 128])\n",
      "After backend torch.Size([1, 64, 96, 128])\n",
      "After output layer:  torch.Size([1, 1, 96, 128])\n",
      "Final out torch.Size([1, 1, 768, 1024])\n"
     ]
    },
    {
     "name": "stderr",
     "output_type": "stream",
     "text": [
      "\r",
      " 67%|██████▋   | 201/300 [50:41<30:10, 18.28s/it]"
     ]
    },
    {
     "name": "stdout",
     "output_type": "stream",
     "text": [
      "Before backend torch.Size([1, 512, 82, 128])\n",
      "After backend torch.Size([1, 64, 82, 128])\n",
      "After output layer:  torch.Size([1, 1, 82, 128])\n",
      "Final out torch.Size([1, 1, 656, 1024])\n"
     ]
    },
    {
     "name": "stderr",
     "output_type": "stream",
     "text": [
      "\r",
      " 67%|██████▋   | 202/300 [51:00<30:23, 18.61s/it]"
     ]
    },
    {
     "name": "stdout",
     "output_type": "stream",
     "text": [
      "There is a grayscale image.\n",
      "Before backend torch.Size([1, 512, 34, 62])\n",
      "After backend torch.Size([1, 64, 34, 62])\n",
      "After output layer:  torch.Size([1, 1, 34, 62])\n",
      "Final out torch.Size([1, 1, 272, 496])\n"
     ]
    },
    {
     "name": "stderr",
     "output_type": "stream",
     "text": [
      "\r",
      " 68%|██████▊   | 203/300 [51:03<22:41, 14.03s/it]"
     ]
    },
    {
     "name": "stdout",
     "output_type": "stream",
     "text": [
      "Before backend torch.Size([1, 512, 86, 128])\n",
      "After backend torch.Size([1, 64, 86, 128])\n",
      "After output layer:  torch.Size([1, 1, 86, 128])\n",
      "Final out torch.Size([1, 1, 688, 1024])\n"
     ]
    },
    {
     "name": "stderr",
     "output_type": "stream",
     "text": [
      "\r",
      " 68%|██████▊   | 204/300 [51:23<25:13, 15.76s/it]"
     ]
    },
    {
     "name": "stdout",
     "output_type": "stream",
     "text": [
      "Before backend torch.Size([1, 512, 76, 76])\n",
      "After backend torch.Size([1, 64, 76, 76])\n",
      "After output layer:  torch.Size([1, 1, 76, 76])\n",
      "Final out torch.Size([1, 1, 608, 608])\n"
     ]
    },
    {
     "name": "stderr",
     "output_type": "stream",
     "text": [
      "\r",
      " 68%|██████▊   | 205/300 [51:33<22:02, 13.92s/it]"
     ]
    },
    {
     "name": "stdout",
     "output_type": "stream",
     "text": [
      "Before backend torch.Size([1, 512, 96, 128])\n",
      "After backend torch.Size([1, 64, 96, 128])\n",
      "After output layer:  torch.Size([1, 1, 96, 128])\n",
      "Final out torch.Size([1, 1, 768, 1024])\n"
     ]
    },
    {
     "name": "stderr",
     "output_type": "stream",
     "text": [
      "\r",
      " 69%|██████▊   | 206/300 [51:53<24:46, 15.81s/it]"
     ]
    },
    {
     "name": "stdout",
     "output_type": "stream",
     "text": [
      "Before backend torch.Size([1, 512, 128, 128])\n",
      "After backend torch.Size([1, 64, 128, 128])\n",
      "After output layer:  torch.Size([1, 1, 128, 128])\n",
      "Final out torch.Size([1, 1, 1024, 1024])\n"
     ]
    },
    {
     "name": "stderr",
     "output_type": "stream",
     "text": [
      "\r",
      " 69%|██████▉   | 207/300 [52:24<31:21, 20.23s/it]"
     ]
    },
    {
     "name": "stdout",
     "output_type": "stream",
     "text": [
      "Before backend torch.Size([1, 512, 96, 128])\n",
      "After backend torch.Size([1, 64, 96, 128])\n",
      "After output layer:  torch.Size([1, 1, 96, 128])\n",
      "Final out torch.Size([1, 1, 768, 1024])\n"
     ]
    },
    {
     "name": "stderr",
     "output_type": "stream",
     "text": [
      "\r",
      " 69%|██████▉   | 208/300 [52:45<31:21, 20.45s/it]"
     ]
    },
    {
     "name": "stdout",
     "output_type": "stream",
     "text": [
      "Before backend torch.Size([1, 512, 84, 128])\n",
      "After backend torch.Size([1, 64, 84, 128])\n",
      "After output layer:  torch.Size([1, 1, 84, 128])\n",
      "Final out torch.Size([1, 1, 672, 1024])\n"
     ]
    },
    {
     "name": "stderr",
     "output_type": "stream",
     "text": [
      "\r",
      " 70%|██████▉   | 209/300 [53:01<29:23, 19.38s/it]"
     ]
    },
    {
     "name": "stdout",
     "output_type": "stream",
     "text": [
      "Before backend torch.Size([1, 512, 84, 128])\n",
      "After backend torch.Size([1, 64, 84, 128])\n",
      "After output layer:  torch.Size([1, 1, 84, 128])\n",
      "Final out torch.Size([1, 1, 672, 1024])\n"
     ]
    },
    {
     "name": "stderr",
     "output_type": "stream",
     "text": [
      "\r",
      " 70%|███████   | 210/300 [53:18<27:41, 18.46s/it]"
     ]
    },
    {
     "name": "stdout",
     "output_type": "stream",
     "text": [
      "Before backend torch.Size([1, 512, 56, 82])\n",
      "After backend torch.Size([1, 64, 56, 82])\n",
      "After output layer:  torch.Size([1, 1, 56, 82])\n",
      "Final out torch.Size([1, 1, 448, 656])\n"
     ]
    },
    {
     "name": "stderr",
     "output_type": "stream",
     "text": [
      "\r",
      " 70%|███████   | 211/300 [53:25<22:10, 14.95s/it]"
     ]
    },
    {
     "name": "stdout",
     "output_type": "stream",
     "text": [
      "Before backend torch.Size([1, 512, 64, 128])\n",
      "After backend torch.Size([1, 64, 64, 128])\n",
      "After output layer:  torch.Size([1, 1, 64, 128])\n",
      "Final out torch.Size([1, 1, 512, 1024])\n"
     ]
    },
    {
     "name": "stderr",
     "output_type": "stream",
     "text": [
      "\r",
      " 71%|███████   | 212/300 [53:38<21:11, 14.45s/it]"
     ]
    },
    {
     "name": "stdout",
     "output_type": "stream",
     "text": [
      "Before backend torch.Size([1, 512, 62, 128])\n",
      "After backend torch.Size([1, 64, 62, 128])\n",
      "After output layer:  torch.Size([1, 1, 62, 128])\n",
      "Final out torch.Size([1, 1, 496, 1024])\n"
     ]
    },
    {
     "name": "stderr",
     "output_type": "stream",
     "text": [
      "\r",
      " 71%|███████   | 213/300 [53:51<20:18, 14.00s/it]"
     ]
    },
    {
     "name": "stdout",
     "output_type": "stream",
     "text": [
      "Before backend torch.Size([1, 512, 56, 88])\n",
      "After backend torch.Size([1, 64, 56, 88])\n",
      "After output layer:  torch.Size([1, 1, 56, 88])\n",
      "Final out torch.Size([1, 1, 448, 704])\n"
     ]
    },
    {
     "name": "stderr",
     "output_type": "stream",
     "text": [
      "\r",
      " 71%|███████▏  | 214/300 [53:58<17:09, 11.97s/it]"
     ]
    },
    {
     "name": "stdout",
     "output_type": "stream",
     "text": [
      "There is a grayscale image.\n",
      "Before backend torch.Size([1, 512, 98, 126])\n",
      "After backend torch.Size([1, 64, 98, 126])\n",
      "After output layer:  torch.Size([1, 1, 98, 126])\n",
      "Final out torch.Size([1, 1, 784, 1008])\n"
     ]
    },
    {
     "name": "stderr",
     "output_type": "stream",
     "text": [
      "\r",
      " 72%|███████▏  | 215/300 [54:17<20:06, 14.19s/it]"
     ]
    },
    {
     "name": "stdout",
     "output_type": "stream",
     "text": [
      "Before backend torch.Size([1, 512, 50, 74])\n",
      "After backend torch.Size([1, 64, 50, 74])\n",
      "After output layer:  torch.Size([1, 1, 50, 74])\n",
      "Final out torch.Size([1, 1, 400, 592])\n"
     ]
    },
    {
     "name": "stderr",
     "output_type": "stream",
     "text": [
      "\r",
      " 72%|███████▏  | 216/300 [54:23<16:23, 11.71s/it]"
     ]
    },
    {
     "name": "stdout",
     "output_type": "stream",
     "text": [
      "Before backend torch.Size([1, 512, 84, 128])\n",
      "After backend torch.Size([1, 64, 84, 128])\n",
      "After output layer:  torch.Size([1, 1, 84, 128])\n",
      "Final out torch.Size([1, 1, 672, 1024])\n"
     ]
    },
    {
     "name": "stderr",
     "output_type": "stream",
     "text": [
      "\r",
      " 72%|███████▏  | 217/300 [54:40<18:06, 13.09s/it]"
     ]
    },
    {
     "name": "stdout",
     "output_type": "stream",
     "text": [
      "Before backend torch.Size([1, 512, 96, 128])\n",
      "After backend torch.Size([1, 64, 96, 128])\n",
      "After output layer:  torch.Size([1, 1, 96, 128])\n",
      "Final out torch.Size([1, 1, 768, 1024])\n"
     ]
    },
    {
     "name": "stderr",
     "output_type": "stream",
     "text": [
      "\r",
      " 73%|███████▎  | 218/300 [54:59<20:21, 14.89s/it]"
     ]
    },
    {
     "name": "stdout",
     "output_type": "stream",
     "text": [
      "Before backend torch.Size([1, 512, 34, 116])\n",
      "After backend torch.Size([1, 64, 34, 116])\n",
      "After output layer:  torch.Size([1, 1, 34, 116])\n",
      "Final out torch.Size([1, 1, 272, 928])\n"
     ]
    },
    {
     "name": "stderr",
     "output_type": "stream",
     "text": [
      "\r",
      " 73%|███████▎  | 219/300 [55:04<16:24, 12.15s/it]"
     ]
    },
    {
     "name": "stdout",
     "output_type": "stream",
     "text": [
      "Before backend torch.Size([1, 512, 96, 128])\n",
      "After backend torch.Size([1, 64, 96, 128])\n",
      "After output layer:  torch.Size([1, 1, 96, 128])\n",
      "Final out torch.Size([1, 1, 768, 1024])\n"
     ]
    },
    {
     "name": "stderr",
     "output_type": "stream",
     "text": [
      "\r",
      " 73%|███████▎  | 220/300 [55:23<18:51, 14.15s/it]"
     ]
    },
    {
     "name": "stdout",
     "output_type": "stream",
     "text": [
      "Before backend torch.Size([1, 512, 84, 128])\n",
      "After backend torch.Size([1, 64, 84, 128])\n",
      "After output layer:  torch.Size([1, 1, 84, 128])\n",
      "Final out torch.Size([1, 1, 672, 1024])\n"
     ]
    },
    {
     "name": "stderr",
     "output_type": "stream",
     "text": [
      "\r",
      " 74%|███████▎  | 221/300 [55:40<19:29, 14.80s/it]"
     ]
    },
    {
     "name": "stdout",
     "output_type": "stream",
     "text": [
      "Before backend torch.Size([1, 512, 42, 76])\n",
      "After backend torch.Size([1, 64, 42, 76])\n",
      "After output layer:  torch.Size([1, 1, 42, 76])\n",
      "Final out torch.Size([1, 1, 336, 608])\n"
     ]
    },
    {
     "name": "stderr",
     "output_type": "stream",
     "text": [
      "\r",
      " 74%|███████▍  | 222/300 [55:45<15:28, 11.90s/it]"
     ]
    },
    {
     "name": "stdout",
     "output_type": "stream",
     "text": [
      "Before backend torch.Size([1, 512, 84, 128])\n",
      "After backend torch.Size([1, 64, 84, 128])\n",
      "After output layer:  torch.Size([1, 1, 84, 128])\n",
      "Final out torch.Size([1, 1, 672, 1024])\n"
     ]
    },
    {
     "name": "stderr",
     "output_type": "stream",
     "text": [
      "\r",
      " 74%|███████▍  | 223/300 [56:01<17:05, 13.31s/it]"
     ]
    },
    {
     "name": "stdout",
     "output_type": "stream",
     "text": [
      "Before backend torch.Size([1, 512, 58, 86])\n",
      "After backend torch.Size([1, 64, 58, 86])\n",
      "After output layer:  torch.Size([1, 1, 58, 86])\n",
      "Final out torch.Size([1, 1, 464, 688])\n"
     ]
    },
    {
     "name": "stderr",
     "output_type": "stream",
     "text": [
      "\r",
      " 75%|███████▍  | 224/300 [56:09<14:35, 11.52s/it]"
     ]
    },
    {
     "name": "stdout",
     "output_type": "stream",
     "text": [
      "Before backend torch.Size([1, 512, 78, 128])\n",
      "After backend torch.Size([1, 64, 78, 128])\n",
      "After output layer:  torch.Size([1, 1, 78, 128])\n",
      "Final out torch.Size([1, 1, 624, 1024])\n"
     ]
    },
    {
     "name": "stderr",
     "output_type": "stream",
     "text": [
      "\r",
      " 75%|███████▌  | 225/300 [56:24<15:58, 12.78s/it]"
     ]
    },
    {
     "name": "stdout",
     "output_type": "stream",
     "text": [
      "Before backend torch.Size([1, 512, 84, 128])\n",
      "After backend torch.Size([1, 64, 84, 128])\n",
      "After output layer:  torch.Size([1, 1, 84, 128])\n",
      "Final out torch.Size([1, 1, 672, 1024])\n"
     ]
    },
    {
     "name": "stderr",
     "output_type": "stream",
     "text": [
      "\r",
      " 75%|███████▌  | 226/300 [56:41<17:07, 13.89s/it]"
     ]
    },
    {
     "name": "stdout",
     "output_type": "stream",
     "text": [
      "Before backend torch.Size([1, 512, 80, 80])\n",
      "After backend torch.Size([1, 64, 80, 80])\n",
      "After output layer:  torch.Size([1, 1, 80, 80])\n",
      "Final out torch.Size([1, 1, 640, 640])\n"
     ]
    },
    {
     "name": "stderr",
     "output_type": "stream",
     "text": [
      "\r",
      " 76%|███████▌  | 227/300 [56:50<15:15, 12.54s/it]"
     ]
    },
    {
     "name": "stdout",
     "output_type": "stream",
     "text": [
      "Before backend torch.Size([1, 512, 96, 128])\n",
      "After backend torch.Size([1, 64, 96, 128])\n",
      "After output layer:  torch.Size([1, 1, 96, 128])\n",
      "Final out torch.Size([1, 1, 768, 1024])\n"
     ]
    },
    {
     "name": "stderr",
     "output_type": "stream",
     "text": [
      "\r",
      " 76%|███████▌  | 228/300 [57:10<17:29, 14.57s/it]"
     ]
    },
    {
     "name": "stdout",
     "output_type": "stream",
     "text": [
      "There is a grayscale image.\n",
      "Before backend torch.Size([1, 512, 50, 74])\n",
      "After backend torch.Size([1, 64, 50, 74])\n",
      "After output layer:  torch.Size([1, 1, 50, 74])\n",
      "Final out torch.Size([1, 1, 400, 592])\n"
     ]
    },
    {
     "name": "stderr",
     "output_type": "stream",
     "text": [
      "\r",
      " 76%|███████▋  | 229/300 [57:15<13:59, 11.82s/it]"
     ]
    },
    {
     "name": "stdout",
     "output_type": "stream",
     "text": [
      "Before backend torch.Size([1, 512, 92, 124])\n",
      "After backend torch.Size([1, 64, 92, 124])\n",
      "After output layer:  torch.Size([1, 1, 92, 124])\n",
      "Final out torch.Size([1, 1, 736, 992])\n"
     ]
    },
    {
     "name": "stderr",
     "output_type": "stream",
     "text": [
      "\r",
      " 77%|███████▋  | 230/300 [57:32<15:41, 13.45s/it]"
     ]
    },
    {
     "name": "stdout",
     "output_type": "stream",
     "text": [
      "Before backend torch.Size([1, 512, 64, 128])\n",
      "After backend torch.Size([1, 64, 64, 128])\n",
      "After output layer:  torch.Size([1, 1, 64, 128])\n",
      "Final out torch.Size([1, 1, 512, 1024])\n"
     ]
    },
    {
     "name": "stderr",
     "output_type": "stream",
     "text": [
      "\r",
      " 77%|███████▋  | 231/300 [57:45<15:05, 13.13s/it]"
     ]
    },
    {
     "name": "stdout",
     "output_type": "stream",
     "text": [
      "Before backend torch.Size([1, 512, 66, 128])\n",
      "After backend torch.Size([1, 64, 66, 128])\n",
      "After output layer:  torch.Size([1, 1, 66, 128])\n",
      "Final out torch.Size([1, 1, 528, 1024])\n"
     ]
    },
    {
     "name": "stderr",
     "output_type": "stream",
     "text": [
      "\r",
      " 77%|███████▋  | 232/300 [57:58<15:05, 13.31s/it]"
     ]
    },
    {
     "name": "stdout",
     "output_type": "stream",
     "text": [
      "Before backend torch.Size([1, 512, 84, 128])\n",
      "After backend torch.Size([1, 64, 84, 128])\n",
      "After output layer:  torch.Size([1, 1, 84, 128])\n",
      "Final out torch.Size([1, 1, 672, 1024])\n"
     ]
    },
    {
     "name": "stderr",
     "output_type": "stream",
     "text": [
      "\r",
      " 78%|███████▊  | 233/300 [58:15<15:52, 14.22s/it]"
     ]
    },
    {
     "name": "stdout",
     "output_type": "stream",
     "text": [
      "Before backend torch.Size([1, 512, 72, 128])\n",
      "After backend torch.Size([1, 64, 72, 128])\n",
      "After output layer:  torch.Size([1, 1, 72, 128])\n",
      "Final out torch.Size([1, 1, 576, 1024])\n"
     ]
    },
    {
     "name": "stderr",
     "output_type": "stream",
     "text": [
      "\r",
      " 78%|███████▊  | 234/300 [58:30<15:56, 14.49s/it]"
     ]
    },
    {
     "name": "stdout",
     "output_type": "stream",
     "text": [
      "Before backend torch.Size([1, 512, 72, 128])\n",
      "After backend torch.Size([1, 64, 72, 128])\n",
      "After output layer:  torch.Size([1, 1, 72, 128])\n",
      "Final out torch.Size([1, 1, 576, 1024])\n"
     ]
    },
    {
     "name": "stderr",
     "output_type": "stream",
     "text": [
      "\r",
      " 78%|███████▊  | 235/300 [58:44<15:33, 14.36s/it]"
     ]
    },
    {
     "name": "stdout",
     "output_type": "stream",
     "text": [
      "Before backend torch.Size([1, 512, 76, 120])\n",
      "After backend torch.Size([1, 64, 76, 120])\n",
      "After output layer:  torch.Size([1, 1, 76, 120])\n",
      "Final out torch.Size([1, 1, 608, 960])\n"
     ]
    },
    {
     "name": "stderr",
     "output_type": "stream",
     "text": [
      "\r",
      " 79%|███████▊  | 236/300 [58:58<15:15, 14.31s/it]"
     ]
    },
    {
     "name": "stdout",
     "output_type": "stream",
     "text": [
      "Before backend torch.Size([1, 512, 68, 128])\n",
      "After backend torch.Size([1, 64, 68, 128])\n",
      "After output layer:  torch.Size([1, 1, 68, 128])\n",
      "Final out torch.Size([1, 1, 544, 1024])\n"
     ]
    },
    {
     "name": "stderr",
     "output_type": "stream",
     "text": [
      "\r",
      " 79%|███████▉  | 237/300 [59:13<15:09, 14.44s/it]"
     ]
    },
    {
     "name": "stdout",
     "output_type": "stream",
     "text": [
      "Before backend torch.Size([1, 512, 72, 128])\n",
      "After backend torch.Size([1, 64, 72, 128])\n",
      "After output layer:  torch.Size([1, 1, 72, 128])\n",
      "Final out torch.Size([1, 1, 576, 1024])\n"
     ]
    },
    {
     "name": "stderr",
     "output_type": "stream",
     "text": [
      "\r",
      " 79%|███████▉  | 238/300 [59:27<14:51, 14.39s/it]"
     ]
    },
    {
     "name": "stdout",
     "output_type": "stream",
     "text": [
      "Before backend torch.Size([1, 512, 84, 128])\n",
      "After backend torch.Size([1, 64, 84, 128])\n",
      "After output layer:  torch.Size([1, 1, 84, 128])\n",
      "Final out torch.Size([1, 1, 672, 1024])\n"
     ]
    },
    {
     "name": "stderr",
     "output_type": "stream",
     "text": [
      "\r",
      " 80%|███████▉  | 239/300 [59:47<16:19, 16.05s/it]"
     ]
    },
    {
     "name": "stdout",
     "output_type": "stream",
     "text": [
      "There is a grayscale image.\n",
      "Before backend torch.Size([1, 512, 48, 72])\n",
      "After backend torch.Size([1, 64, 48, 72])\n",
      "After output layer:  torch.Size([1, 1, 48, 72])\n",
      "Final out torch.Size([1, 1, 384, 576])\n"
     ]
    },
    {
     "name": "stderr",
     "output_type": "stream",
     "text": [
      "\r",
      " 80%|████████  | 240/300 [59:53<13:00, 13.00s/it]"
     ]
    },
    {
     "name": "stdout",
     "output_type": "stream",
     "text": [
      "Before backend torch.Size([1, 512, 40, 128])\n",
      "After backend torch.Size([1, 64, 40, 128])\n",
      "After output layer:  torch.Size([1, 1, 40, 128])\n",
      "Final out torch.Size([1, 1, 320, 1024])\n"
     ]
    },
    {
     "name": "stderr",
     "output_type": "stream",
     "text": [
      "\r",
      " 80%|████████  | 241/300 [1:00:02<11:40, 11.87s/it]"
     ]
    },
    {
     "name": "stdout",
     "output_type": "stream",
     "text": [
      "Before backend torch.Size([1, 512, 82, 128])\n",
      "After backend torch.Size([1, 64, 82, 128])\n",
      "After output layer:  torch.Size([1, 1, 82, 128])\n",
      "Final out torch.Size([1, 1, 656, 1024])\n"
     ]
    },
    {
     "name": "stderr",
     "output_type": "stream",
     "text": [
      "\r",
      " 81%|████████  | 242/300 [1:00:22<13:49, 14.30s/it]"
     ]
    },
    {
     "name": "stdout",
     "output_type": "stream",
     "text": [
      "Before backend torch.Size([1, 512, 36, 50])\n",
      "After backend torch.Size([1, 64, 36, 50])\n",
      "After output layer:  torch.Size([1, 1, 36, 50])\n",
      "Final out torch.Size([1, 1, 288, 400])\n"
     ]
    },
    {
     "name": "stderr",
     "output_type": "stream",
     "text": [
      "\r",
      " 81%|████████  | 243/300 [1:00:25<10:23, 10.93s/it]"
     ]
    },
    {
     "name": "stdout",
     "output_type": "stream",
     "text": [
      "Before backend torch.Size([1, 512, 78, 120])\n",
      "After backend torch.Size([1, 64, 78, 120])\n",
      "After output layer:  torch.Size([1, 1, 78, 120])\n",
      "Final out torch.Size([1, 1, 624, 960])\n"
     ]
    },
    {
     "name": "stderr",
     "output_type": "stream",
     "text": [
      "\r",
      " 81%|████████▏ | 244/300 [1:00:42<11:47, 12.64s/it]"
     ]
    },
    {
     "name": "stdout",
     "output_type": "stream",
     "text": [
      "Before backend torch.Size([1, 512, 96, 128])\n",
      "After backend torch.Size([1, 64, 96, 128])\n",
      "After output layer:  torch.Size([1, 1, 96, 128])\n",
      "Final out torch.Size([1, 1, 768, 1024])\n"
     ]
    },
    {
     "name": "stderr",
     "output_type": "stream",
     "text": [
      "\r",
      " 82%|████████▏ | 245/300 [1:01:02<13:37, 14.87s/it]"
     ]
    },
    {
     "name": "stdout",
     "output_type": "stream",
     "text": [
      "Before backend torch.Size([1, 512, 70, 128])\n",
      "After backend torch.Size([1, 64, 70, 128])\n",
      "After output layer:  torch.Size([1, 1, 70, 128])\n",
      "Final out torch.Size([1, 1, 560, 1024])\n"
     ]
    },
    {
     "name": "stderr",
     "output_type": "stream",
     "text": [
      "\r",
      " 82%|████████▏ | 246/300 [1:01:17<13:20, 14.82s/it]"
     ]
    },
    {
     "name": "stdout",
     "output_type": "stream",
     "text": [
      "Before backend torch.Size([1, 512, 66, 100])\n",
      "After backend torch.Size([1, 64, 66, 100])\n",
      "After output layer:  torch.Size([1, 1, 66, 100])\n",
      "Final out torch.Size([1, 1, 528, 800])\n"
     ]
    },
    {
     "name": "stderr",
     "output_type": "stream",
     "text": [
      "\r",
      " 82%|████████▏ | 247/300 [1:01:28<12:09, 13.77s/it]"
     ]
    },
    {
     "name": "stdout",
     "output_type": "stream",
     "text": [
      "Before backend torch.Size([1, 512, 50, 66])\n",
      "After backend torch.Size([1, 64, 50, 66])\n",
      "After output layer:  torch.Size([1, 1, 50, 66])\n",
      "Final out torch.Size([1, 1, 400, 528])\n"
     ]
    },
    {
     "name": "stderr",
     "output_type": "stream",
     "text": [
      "\r",
      " 83%|████████▎ | 248/300 [1:01:33<09:42, 11.20s/it]"
     ]
    },
    {
     "name": "stdout",
     "output_type": "stream",
     "text": [
      "Before backend torch.Size([1, 512, 34, 46])\n",
      "After backend torch.Size([1, 64, 34, 46])\n",
      "After output layer:  torch.Size([1, 1, 34, 46])\n",
      "Final out torch.Size([1, 1, 272, 368])\n"
     ]
    },
    {
     "name": "stderr",
     "output_type": "stream",
     "text": [
      "\r",
      " 83%|████████▎ | 249/300 [1:01:36<07:19,  8.61s/it]"
     ]
    },
    {
     "name": "stdout",
     "output_type": "stream",
     "text": [
      "Before backend torch.Size([1, 512, 74, 112])\n",
      "After backend torch.Size([1, 64, 74, 112])\n",
      "After output layer:  torch.Size([1, 1, 74, 112])\n",
      "Final out torch.Size([1, 1, 592, 896])\n"
     ]
    },
    {
     "name": "stderr",
     "output_type": "stream",
     "text": [
      "\r",
      " 83%|████████▎ | 250/300 [1:01:50<08:29, 10.19s/it]"
     ]
    },
    {
     "name": "stdout",
     "output_type": "stream",
     "text": [
      "Before backend torch.Size([1, 512, 74, 100])\n",
      "After backend torch.Size([1, 64, 74, 100])\n",
      "After output layer:  torch.Size([1, 1, 74, 100])\n",
      "Final out torch.Size([1, 1, 592, 800])\n"
     ]
    },
    {
     "name": "stderr",
     "output_type": "stream",
     "text": [
      "\r",
      " 84%|████████▎ | 251/300 [1:02:02<08:56, 10.95s/it]"
     ]
    },
    {
     "name": "stdout",
     "output_type": "stream",
     "text": [
      "Before backend torch.Size([1, 512, 96, 128])\n",
      "After backend torch.Size([1, 64, 96, 128])\n",
      "After output layer:  torch.Size([1, 1, 96, 128])\n",
      "Final out torch.Size([1, 1, 768, 1024])\n"
     ]
    },
    {
     "name": "stderr",
     "output_type": "stream",
     "text": [
      "\r",
      " 84%|████████▍ | 252/300 [1:02:22<10:47, 13.49s/it]"
     ]
    },
    {
     "name": "stdout",
     "output_type": "stream",
     "text": [
      "Before backend torch.Size([1, 512, 70, 118])\n",
      "After backend torch.Size([1, 64, 70, 118])\n",
      "After output layer:  torch.Size([1, 1, 70, 118])\n",
      "Final out torch.Size([1, 1, 560, 944])\n"
     ]
    },
    {
     "name": "stderr",
     "output_type": "stream",
     "text": [
      "\r",
      " 84%|████████▍ | 253/300 [1:02:34<10:21, 13.23s/it]"
     ]
    },
    {
     "name": "stdout",
     "output_type": "stream",
     "text": [
      "Before backend torch.Size([1, 512, 60, 90])\n",
      "After backend torch.Size([1, 64, 60, 90])\n",
      "After output layer:  torch.Size([1, 1, 60, 90])\n",
      "Final out torch.Size([1, 1, 480, 720])\n"
     ]
    },
    {
     "name": "stderr",
     "output_type": "stream",
     "text": [
      "\r",
      " 85%|████████▍ | 254/300 [1:02:42<08:57, 11.68s/it]"
     ]
    },
    {
     "name": "stdout",
     "output_type": "stream",
     "text": [
      "Before backend torch.Size([1, 512, 84, 128])\n",
      "After backend torch.Size([1, 64, 84, 128])\n",
      "After output layer:  torch.Size([1, 1, 84, 128])\n",
      "Final out torch.Size([1, 1, 672, 1024])\n"
     ]
    },
    {
     "name": "stderr",
     "output_type": "stream",
     "text": [
      "\r",
      " 85%|████████▌ | 255/300 [1:03:00<10:07, 13.51s/it]"
     ]
    },
    {
     "name": "stdout",
     "output_type": "stream",
     "text": [
      "Before backend torch.Size([1, 512, 122, 122])\n",
      "After backend torch.Size([1, 64, 122, 122])\n",
      "After output layer:  torch.Size([1, 1, 122, 122])\n",
      "Final out torch.Size([1, 1, 976, 976])\n"
     ]
    },
    {
     "name": "stderr",
     "output_type": "stream",
     "text": [
      "\r",
      " 85%|████████▌ | 256/300 [1:03:24<12:08, 16.55s/it]"
     ]
    },
    {
     "name": "stdout",
     "output_type": "stream",
     "text": [
      "Before backend torch.Size([1, 512, 96, 128])\n",
      "After backend torch.Size([1, 64, 96, 128])\n",
      "After output layer:  torch.Size([1, 1, 96, 128])\n",
      "Final out torch.Size([1, 1, 768, 1024])\n"
     ]
    },
    {
     "name": "stderr",
     "output_type": "stream",
     "text": [
      "\r",
      " 86%|████████▌ | 257/300 [1:03:43<12:20, 17.21s/it]"
     ]
    },
    {
     "name": "stdout",
     "output_type": "stream",
     "text": [
      "Before backend torch.Size([1, 512, 96, 128])\n",
      "After backend torch.Size([1, 64, 96, 128])\n",
      "After output layer:  torch.Size([1, 1, 96, 128])\n",
      "Final out torch.Size([1, 1, 768, 1024])\n"
     ]
    },
    {
     "name": "stderr",
     "output_type": "stream",
     "text": [
      "\r",
      " 86%|████████▌ | 258/300 [1:04:03<12:39, 18.09s/it]"
     ]
    },
    {
     "name": "stdout",
     "output_type": "stream",
     "text": [
      "There is a grayscale image.\n",
      "Before backend torch.Size([1, 512, 92, 128])\n",
      "After backend torch.Size([1, 64, 92, 128])\n",
      "After output layer:  torch.Size([1, 1, 92, 128])\n",
      "Final out torch.Size([1, 1, 736, 1024])\n"
     ]
    },
    {
     "name": "stderr",
     "output_type": "stream",
     "text": [
      "\r",
      " 86%|████████▋ | 259/300 [1:04:25<13:09, 19.26s/it]"
     ]
    },
    {
     "name": "stdout",
     "output_type": "stream",
     "text": [
      "Before backend torch.Size([1, 512, 54, 92])\n",
      "After backend torch.Size([1, 64, 54, 92])\n",
      "After output layer:  torch.Size([1, 1, 54, 92])\n",
      "Final out torch.Size([1, 1, 432, 736])\n"
     ]
    },
    {
     "name": "stderr",
     "output_type": "stream",
     "text": [
      "\r",
      " 87%|████████▋ | 260/300 [1:04:33<10:39, 15.98s/it]"
     ]
    },
    {
     "name": "stdout",
     "output_type": "stream",
     "text": [
      "Before backend torch.Size([1, 512, 96, 128])\n",
      "After backend torch.Size([1, 64, 96, 128])\n",
      "After output layer:  torch.Size([1, 1, 96, 128])\n",
      "Final out torch.Size([1, 1, 768, 1024])\n"
     ]
    },
    {
     "name": "stderr",
     "output_type": "stream",
     "text": [
      "\r",
      " 87%|████████▋ | 261/300 [1:04:54<11:26, 17.59s/it]"
     ]
    },
    {
     "name": "stdout",
     "output_type": "stream",
     "text": [
      "Before backend torch.Size([1, 512, 96, 128])\n",
      "After backend torch.Size([1, 64, 96, 128])\n",
      "After output layer:  torch.Size([1, 1, 96, 128])\n",
      "Final out torch.Size([1, 1, 768, 1024])\n"
     ]
    },
    {
     "name": "stderr",
     "output_type": "stream",
     "text": [
      "\r",
      " 87%|████████▋ | 262/300 [1:05:16<11:49, 18.67s/it]"
     ]
    },
    {
     "name": "stdout",
     "output_type": "stream",
     "text": [
      "Before backend torch.Size([1, 512, 64, 100])\n",
      "After backend torch.Size([1, 64, 64, 100])\n",
      "After output layer:  torch.Size([1, 1, 64, 100])\n",
      "Final out torch.Size([1, 1, 512, 800])\n"
     ]
    },
    {
     "name": "stderr",
     "output_type": "stream",
     "text": [
      "\r",
      " 88%|████████▊ | 263/300 [1:05:26<09:54, 16.08s/it]"
     ]
    },
    {
     "name": "stdout",
     "output_type": "stream",
     "text": [
      "Before backend torch.Size([1, 512, 84, 128])\n",
      "After backend torch.Size([1, 64, 84, 128])\n",
      "After output layer:  torch.Size([1, 1, 84, 128])\n",
      "Final out torch.Size([1, 1, 672, 1024])\n"
     ]
    },
    {
     "name": "stderr",
     "output_type": "stream",
     "text": [
      "\r",
      " 88%|████████▊ | 264/300 [1:05:46<10:23, 17.31s/it]"
     ]
    },
    {
     "name": "stdout",
     "output_type": "stream",
     "text": [
      "There is a grayscale image.\n",
      "Before backend torch.Size([1, 512, 92, 124])\n",
      "After backend torch.Size([1, 64, 92, 124])\n",
      "After output layer:  torch.Size([1, 1, 92, 124])\n",
      "Final out torch.Size([1, 1, 736, 992])\n"
     ]
    },
    {
     "name": "stderr",
     "output_type": "stream",
     "text": [
      "\r",
      " 88%|████████▊ | 265/300 [1:06:05<10:27, 17.94s/it]"
     ]
    },
    {
     "name": "stdout",
     "output_type": "stream",
     "text": [
      "Before backend torch.Size([1, 512, 94, 128])\n",
      "After backend torch.Size([1, 64, 94, 128])\n",
      "After output layer:  torch.Size([1, 1, 94, 128])\n",
      "Final out torch.Size([1, 1, 752, 1024])\n"
     ]
    },
    {
     "name": "stderr",
     "output_type": "stream",
     "text": [
      "\r",
      " 89%|████████▊ | 266/300 [1:06:26<10:38, 18.79s/it]"
     ]
    },
    {
     "name": "stdout",
     "output_type": "stream",
     "text": [
      "Before backend torch.Size([1, 512, 78, 128])\n",
      "After backend torch.Size([1, 64, 78, 128])\n",
      "After output layer:  torch.Size([1, 1, 78, 128])\n",
      "Final out torch.Size([1, 1, 624, 1024])\n"
     ]
    },
    {
     "name": "stderr",
     "output_type": "stream",
     "text": [
      "\r",
      " 89%|████████▉ | 267/300 [1:06:43<10:02, 18.25s/it]"
     ]
    },
    {
     "name": "stdout",
     "output_type": "stream",
     "text": [
      "Before backend torch.Size([1, 512, 84, 128])\n",
      "After backend torch.Size([1, 64, 84, 128])\n",
      "After output layer:  torch.Size([1, 1, 84, 128])\n",
      "Final out torch.Size([1, 1, 672, 1024])\n"
     ]
    },
    {
     "name": "stderr",
     "output_type": "stream",
     "text": [
      "\r",
      " 89%|████████▉ | 268/300 [1:07:00<09:36, 18.01s/it]"
     ]
    },
    {
     "name": "stdout",
     "output_type": "stream",
     "text": [
      "Before backend torch.Size([1, 512, 86, 92])\n",
      "After backend torch.Size([1, 64, 86, 92])\n",
      "After output layer:  torch.Size([1, 1, 86, 92])\n",
      "Final out torch.Size([1, 1, 688, 736])\n"
     ]
    },
    {
     "name": "stderr",
     "output_type": "stream",
     "text": [
      "\r",
      " 90%|████████▉ | 269/300 [1:07:12<08:19, 16.12s/it]"
     ]
    },
    {
     "name": "stdout",
     "output_type": "stream",
     "text": [
      "Before backend torch.Size([1, 512, 96, 128])\n",
      "After backend torch.Size([1, 64, 96, 128])\n",
      "After output layer:  torch.Size([1, 1, 96, 128])\n",
      "Final out torch.Size([1, 1, 768, 1024])\n"
     ]
    },
    {
     "name": "stderr",
     "output_type": "stream",
     "text": [
      "\r",
      " 90%|█████████ | 270/300 [1:07:32<08:41, 17.37s/it]"
     ]
    },
    {
     "name": "stdout",
     "output_type": "stream",
     "text": [
      "Before backend torch.Size([1, 512, 78, 122])\n",
      "After backend torch.Size([1, 64, 78, 122])\n",
      "After output layer:  torch.Size([1, 1, 78, 122])\n",
      "Final out torch.Size([1, 1, 624, 976])\n"
     ]
    },
    {
     "name": "stderr",
     "output_type": "stream",
     "text": [
      "\r",
      " 90%|█████████ | 271/300 [1:07:48<08:09, 16.86s/it]"
     ]
    },
    {
     "name": "stdout",
     "output_type": "stream",
     "text": [
      "Before backend torch.Size([1, 512, 62, 48])\n",
      "After backend torch.Size([1, 64, 62, 48])\n",
      "After output layer:  torch.Size([1, 1, 62, 48])\n",
      "Final out torch.Size([1, 1, 496, 384])\n"
     ]
    },
    {
     "name": "stderr",
     "output_type": "stream",
     "text": [
      "\r",
      " 91%|█████████ | 272/300 [1:07:53<06:10, 13.24s/it]"
     ]
    },
    {
     "name": "stdout",
     "output_type": "stream",
     "text": [
      "Before backend torch.Size([1, 512, 84, 128])\n",
      "After backend torch.Size([1, 64, 84, 128])\n",
      "After output layer:  torch.Size([1, 1, 84, 128])\n",
      "Final out torch.Size([1, 1, 672, 1024])\n"
     ]
    },
    {
     "name": "stderr",
     "output_type": "stream",
     "text": [
      "\r",
      " 91%|█████████ | 273/300 [1:08:11<06:33, 14.59s/it]"
     ]
    },
    {
     "name": "stdout",
     "output_type": "stream",
     "text": [
      "Before backend torch.Size([1, 512, 96, 128])\n",
      "After backend torch.Size([1, 64, 96, 128])\n",
      "After output layer:  torch.Size([1, 1, 96, 128])\n",
      "Final out torch.Size([1, 1, 768, 1024])\n"
     ]
    },
    {
     "name": "stderr",
     "output_type": "stream",
     "text": [
      "\r",
      " 91%|█████████▏| 274/300 [1:08:31<07:02, 16.25s/it]"
     ]
    },
    {
     "name": "stdout",
     "output_type": "stream",
     "text": [
      "Before backend torch.Size([1, 512, 76, 124])\n",
      "After backend torch.Size([1, 64, 76, 124])\n",
      "After output layer:  torch.Size([1, 1, 76, 124])\n",
      "Final out torch.Size([1, 1, 608, 992])\n"
     ]
    },
    {
     "name": "stderr",
     "output_type": "stream",
     "text": [
      "\r",
      " 92%|█████████▏| 275/300 [1:08:46<06:37, 15.91s/it]"
     ]
    },
    {
     "name": "stdout",
     "output_type": "stream",
     "text": [
      "Before backend torch.Size([1, 512, 82, 124])\n",
      "After backend torch.Size([1, 64, 82, 124])\n",
      "After output layer:  torch.Size([1, 1, 82, 124])\n",
      "Final out torch.Size([1, 1, 656, 992])\n"
     ]
    },
    {
     "name": "stderr",
     "output_type": "stream",
     "text": [
      "\r",
      " 92%|█████████▏| 276/300 [1:09:02<06:25, 16.05s/it]"
     ]
    },
    {
     "name": "stdout",
     "output_type": "stream",
     "text": [
      "Before backend torch.Size([1, 512, 84, 128])\n",
      "After backend torch.Size([1, 64, 84, 128])\n",
      "After output layer:  torch.Size([1, 1, 84, 128])\n",
      "Final out torch.Size([1, 1, 672, 1024])\n"
     ]
    },
    {
     "name": "stderr",
     "output_type": "stream",
     "text": [
      "\r",
      " 92%|█████████▏| 277/300 [1:09:20<06:20, 16.56s/it]"
     ]
    },
    {
     "name": "stdout",
     "output_type": "stream",
     "text": [
      "Before backend torch.Size([1, 512, 56, 84])\n",
      "After backend torch.Size([1, 64, 56, 84])\n",
      "After output layer:  torch.Size([1, 1, 56, 84])\n",
      "Final out torch.Size([1, 1, 448, 672])\n"
     ]
    },
    {
     "name": "stderr",
     "output_type": "stream",
     "text": [
      "\r",
      " 93%|█████████▎| 278/300 [1:09:27<05:02, 13.75s/it]"
     ]
    },
    {
     "name": "stdout",
     "output_type": "stream",
     "text": [
      "Before backend torch.Size([1, 512, 72, 96])\n",
      "After backend torch.Size([1, 64, 72, 96])\n",
      "After output layer:  torch.Size([1, 1, 72, 96])\n",
      "Final out torch.Size([1, 1, 576, 768])\n"
     ]
    },
    {
     "name": "stderr",
     "output_type": "stream",
     "text": [
      "\r",
      " 93%|█████████▎| 279/300 [1:09:38<04:30, 12.88s/it]"
     ]
    },
    {
     "name": "stdout",
     "output_type": "stream",
     "text": [
      "Before backend torch.Size([1, 512, 50, 50])\n",
      "After backend torch.Size([1, 64, 50, 50])\n",
      "After output layer:  torch.Size([1, 1, 50, 50])\n",
      "Final out torch.Size([1, 1, 400, 400])\n"
     ]
    },
    {
     "name": "stderr",
     "output_type": "stream",
     "text": [
      "\r",
      " 93%|█████████▎| 280/300 [1:09:42<03:25, 10.26s/it]"
     ]
    },
    {
     "name": "stdout",
     "output_type": "stream",
     "text": [
      "Before backend torch.Size([1, 512, 72, 104])\n",
      "After backend torch.Size([1, 64, 72, 104])\n",
      "After output layer:  torch.Size([1, 1, 72, 104])\n",
      "Final out torch.Size([1, 1, 576, 832])\n"
     ]
    },
    {
     "name": "stderr",
     "output_type": "stream",
     "text": [
      "\r",
      " 94%|█████████▎| 281/300 [1:09:54<03:23, 10.71s/it]"
     ]
    },
    {
     "name": "stdout",
     "output_type": "stream",
     "text": [
      "Before backend torch.Size([1, 512, 72, 128])\n",
      "After backend torch.Size([1, 64, 72, 128])\n",
      "After output layer:  torch.Size([1, 1, 72, 128])\n",
      "Final out torch.Size([1, 1, 576, 1024])\n"
     ]
    },
    {
     "name": "stderr",
     "output_type": "stream",
     "text": [
      "\r",
      " 94%|█████████▍| 282/300 [1:10:10<03:43, 12.41s/it]"
     ]
    },
    {
     "name": "stdout",
     "output_type": "stream",
     "text": [
      "Before backend torch.Size([1, 512, 96, 128])\n",
      "After backend torch.Size([1, 64, 96, 128])\n",
      "After output layer:  torch.Size([1, 1, 96, 128])\n",
      "Final out torch.Size([1, 1, 768, 1024])\n"
     ]
    },
    {
     "name": "stderr",
     "output_type": "stream",
     "text": [
      "\r",
      " 94%|█████████▍| 283/300 [1:10:30<04:09, 14.70s/it]"
     ]
    },
    {
     "name": "stdout",
     "output_type": "stream",
     "text": [
      "Before backend torch.Size([1, 512, 84, 128])\n",
      "After backend torch.Size([1, 64, 84, 128])\n",
      "After output layer:  torch.Size([1, 1, 84, 128])\n",
      "Final out torch.Size([1, 1, 672, 1024])\n"
     ]
    },
    {
     "name": "stderr",
     "output_type": "stream",
     "text": [
      "\r",
      " 95%|█████████▍| 284/300 [1:10:48<04:07, 15.48s/it]"
     ]
    },
    {
     "name": "stdout",
     "output_type": "stream",
     "text": [
      "Before backend torch.Size([1, 512, 100, 74])\n",
      "After backend torch.Size([1, 64, 100, 74])\n",
      "After output layer:  torch.Size([1, 1, 100, 74])\n",
      "Final out torch.Size([1, 1, 800, 592])\n"
     ]
    },
    {
     "name": "stderr",
     "output_type": "stream",
     "text": [
      "\r",
      " 95%|█████████▌| 285/300 [1:11:00<03:39, 14.61s/it]"
     ]
    },
    {
     "name": "stdout",
     "output_type": "stream",
     "text": [
      "Before backend torch.Size([1, 512, 96, 128])\n",
      "After backend torch.Size([1, 64, 96, 128])\n",
      "After output layer:  torch.Size([1, 1, 96, 128])\n",
      "Final out torch.Size([1, 1, 768, 1024])\n"
     ]
    },
    {
     "name": "stderr",
     "output_type": "stream",
     "text": [
      "\r",
      " 95%|█████████▌| 286/300 [1:11:22<03:53, 16.71s/it]"
     ]
    },
    {
     "name": "stdout",
     "output_type": "stream",
     "text": [
      "Before backend torch.Size([1, 512, 84, 128])\n",
      "After backend torch.Size([1, 64, 84, 128])\n",
      "After output layer:  torch.Size([1, 1, 84, 128])\n",
      "Final out torch.Size([1, 1, 672, 1024])\n"
     ]
    },
    {
     "name": "stderr",
     "output_type": "stream",
     "text": [
      "\r",
      " 96%|█████████▌| 287/300 [1:11:40<03:41, 17.03s/it]"
     ]
    },
    {
     "name": "stdout",
     "output_type": "stream",
     "text": [
      "Before backend torch.Size([1, 512, 84, 128])\n",
      "After backend torch.Size([1, 64, 84, 128])\n",
      "After output layer:  torch.Size([1, 1, 84, 128])\n",
      "Final out torch.Size([1, 1, 672, 1024])\n"
     ]
    },
    {
     "name": "stderr",
     "output_type": "stream",
     "text": [
      "\r",
      " 96%|█████████▌| 288/300 [1:11:57<03:25, 17.09s/it]"
     ]
    },
    {
     "name": "stdout",
     "output_type": "stream",
     "text": [
      "Before backend torch.Size([1, 512, 56, 120])\n",
      "After backend torch.Size([1, 64, 56, 120])\n",
      "After output layer:  torch.Size([1, 1, 56, 120])\n",
      "Final out torch.Size([1, 1, 448, 960])\n"
     ]
    },
    {
     "name": "stderr",
     "output_type": "stream",
     "text": [
      "\r",
      " 96%|█████████▋| 289/300 [1:12:08<02:47, 15.22s/it]"
     ]
    },
    {
     "name": "stdout",
     "output_type": "stream",
     "text": [
      "Before backend torch.Size([1, 512, 52, 78])\n",
      "After backend torch.Size([1, 64, 52, 78])\n",
      "After output layer:  torch.Size([1, 1, 52, 78])\n",
      "Final out torch.Size([1, 1, 416, 624])\n"
     ]
    },
    {
     "name": "stderr",
     "output_type": "stream",
     "text": [
      "\r",
      " 97%|█████████▋| 290/300 [1:12:15<02:08, 12.82s/it]"
     ]
    },
    {
     "name": "stdout",
     "output_type": "stream",
     "text": [
      "Before backend torch.Size([1, 512, 62, 82])\n",
      "After backend torch.Size([1, 64, 62, 82])\n",
      "After output layer:  torch.Size([1, 1, 62, 82])\n",
      "Final out torch.Size([1, 1, 496, 656])\n"
     ]
    },
    {
     "name": "stderr",
     "output_type": "stream",
     "text": [
      "\r",
      " 97%|█████████▋| 291/300 [1:12:23<01:42, 11.40s/it]"
     ]
    },
    {
     "name": "stdout",
     "output_type": "stream",
     "text": [
      "Before backend torch.Size([1, 512, 54, 80])\n",
      "After backend torch.Size([1, 64, 54, 80])\n",
      "After output layer:  torch.Size([1, 1, 54, 80])\n",
      "Final out torch.Size([1, 1, 432, 640])\n"
     ]
    },
    {
     "name": "stderr",
     "output_type": "stream",
     "text": [
      "\r",
      " 97%|█████████▋| 292/300 [1:12:30<01:20, 10.06s/it]"
     ]
    },
    {
     "name": "stdout",
     "output_type": "stream",
     "text": [
      "Before backend torch.Size([1, 512, 82, 124])\n",
      "After backend torch.Size([1, 64, 82, 124])\n",
      "After output layer:  torch.Size([1, 1, 82, 124])\n",
      "Final out torch.Size([1, 1, 656, 992])\n"
     ]
    },
    {
     "name": "stderr",
     "output_type": "stream",
     "text": [
      "\r",
      " 98%|█████████▊| 293/300 [1:12:47<01:25, 12.22s/it]"
     ]
    },
    {
     "name": "stdout",
     "output_type": "stream",
     "text": [
      "Before backend torch.Size([1, 512, 48, 86])\n",
      "After backend torch.Size([1, 64, 48, 86])\n",
      "After output layer:  torch.Size([1, 1, 48, 86])\n",
      "Final out torch.Size([1, 1, 384, 688])\n"
     ]
    },
    {
     "name": "stderr",
     "output_type": "stream",
     "text": [
      "\r",
      " 98%|█████████▊| 294/300 [1:12:54<01:03, 10.55s/it]"
     ]
    },
    {
     "name": "stdout",
     "output_type": "stream",
     "text": [
      "Before backend torch.Size([1, 512, 76, 114])\n",
      "After backend torch.Size([1, 64, 76, 114])\n",
      "After output layer:  torch.Size([1, 1, 76, 114])\n",
      "Final out torch.Size([1, 1, 608, 912])\n"
     ]
    },
    {
     "name": "stderr",
     "output_type": "stream",
     "text": [
      "\r",
      " 98%|█████████▊| 295/300 [1:13:08<00:58, 11.62s/it]"
     ]
    },
    {
     "name": "stdout",
     "output_type": "stream",
     "text": [
      "Before backend torch.Size([1, 512, 96, 128])\n",
      "After backend torch.Size([1, 64, 96, 128])\n",
      "After output layer:  torch.Size([1, 1, 96, 128])\n",
      "Final out torch.Size([1, 1, 768, 1024])\n"
     ]
    },
    {
     "name": "stderr",
     "output_type": "stream",
     "text": [
      "\r",
      " 99%|█████████▊| 296/300 [1:13:28<00:56, 14.21s/it]"
     ]
    },
    {
     "name": "stdout",
     "output_type": "stream",
     "text": [
      "Before backend torch.Size([1, 512, 84, 128])\n",
      "After backend torch.Size([1, 64, 84, 128])\n",
      "After output layer:  torch.Size([1, 1, 84, 128])\n",
      "Final out torch.Size([1, 1, 672, 1024])\n"
     ]
    },
    {
     "name": "stderr",
     "output_type": "stream",
     "text": [
      "\r",
      " 99%|█████████▉| 297/300 [1:13:48<00:47, 15.81s/it]"
     ]
    },
    {
     "name": "stdout",
     "output_type": "stream",
     "text": [
      "Before backend torch.Size([1, 512, 70, 106])\n",
      "After backend torch.Size([1, 64, 70, 106])\n",
      "After output layer:  torch.Size([1, 1, 70, 106])\n",
      "Final out torch.Size([1, 1, 560, 848])\n"
     ]
    },
    {
     "name": "stderr",
     "output_type": "stream",
     "text": [
      "\r",
      " 99%|█████████▉| 298/300 [1:14:00<00:29, 14.80s/it]"
     ]
    },
    {
     "name": "stdout",
     "output_type": "stream",
     "text": [
      "Before backend torch.Size([1, 512, 72, 128])\n",
      "After backend torch.Size([1, 64, 72, 128])\n",
      "After output layer:  torch.Size([1, 1, 72, 128])\n",
      "Final out torch.Size([1, 1, 576, 1024])\n"
     ]
    },
    {
     "name": "stderr",
     "output_type": "stream",
     "text": [
      "\r",
      "100%|█████████▉| 299/300 [1:14:15<00:14, 14.90s/it]"
     ]
    },
    {
     "name": "stdout",
     "output_type": "stream",
     "text": [
      "Before backend torch.Size([1, 512, 84, 128])\n",
      "After backend torch.Size([1, 64, 84, 128])\n",
      "After output layer:  torch.Size([1, 1, 84, 128])\n",
      "Final out torch.Size([1, 1, 672, 1024])\n"
     ]
    },
    {
     "name": "stderr",
     "output_type": "stream",
     "text": [
      "100%|██████████| 300/300 [1:14:33<00:00, 14.91s/it]\n",
      "  0%|          | 0/182 [00:00<?, ?it/s]"
     ]
    },
    {
     "name": "stdout",
     "output_type": "stream",
     "text": [
      "Before backend torch.Size([1, 512, 96, 128])\n"
     ]
    },
    {
     "name": "stderr",
     "output_type": "stream",
     "text": [
      "\r",
      "  1%|          | 1/182 [00:06<19:13,  6.37s/it]"
     ]
    },
    {
     "name": "stdout",
     "output_type": "stream",
     "text": [
      "After backend torch.Size([1, 64, 96, 128])\n",
      "After output layer:  torch.Size([1, 1, 96, 128])\n",
      "Final out torch.Size([1, 1, 768, 1024])\n",
      "Before backend torch.Size([1, 512, 84, 128])\n"
     ]
    },
    {
     "name": "stderr",
     "output_type": "stream",
     "text": [
      "\r",
      "  1%|          | 2/182 [00:11<18:21,  6.12s/it]"
     ]
    },
    {
     "name": "stdout",
     "output_type": "stream",
     "text": [
      "After backend torch.Size([1, 64, 84, 128])\n",
      "After output layer:  torch.Size([1, 1, 84, 128])\n",
      "Final out torch.Size([1, 1, 672, 1024])\n",
      "Before backend torch.Size([1, 512, 74, 112])\n"
     ]
    },
    {
     "name": "stderr",
     "output_type": "stream",
     "text": [
      "\r",
      "  2%|▏         | 3/182 [00:16<17:19,  5.81s/it]"
     ]
    },
    {
     "name": "stdout",
     "output_type": "stream",
     "text": [
      "After backend torch.Size([1, 64, 74, 112])\n",
      "After output layer:  torch.Size([1, 1, 74, 112])\n",
      "Final out torch.Size([1, 1, 592, 896])\n",
      "Before backend torch.Size([1, 512, 82, 128])\n"
     ]
    },
    {
     "name": "stderr",
     "output_type": "stream",
     "text": [
      "\r",
      "  2%|▏         | 4/182 [00:23<17:49,  6.01s/it]"
     ]
    },
    {
     "name": "stdout",
     "output_type": "stream",
     "text": [
      "After backend torch.Size([1, 64, 82, 128])\n",
      "After output layer:  torch.Size([1, 1, 82, 128])\n",
      "Final out torch.Size([1, 1, 656, 1024])\n",
      "Before backend torch.Size([1, 512, 88, 128])\n"
     ]
    },
    {
     "name": "stderr",
     "output_type": "stream",
     "text": [
      "\r",
      "  3%|▎         | 5/182 [00:30<18:50,  6.39s/it]"
     ]
    },
    {
     "name": "stdout",
     "output_type": "stream",
     "text": [
      "After backend torch.Size([1, 64, 88, 128])\n",
      "After output layer:  torch.Size([1, 1, 88, 128])\n",
      "Final out torch.Size([1, 1, 704, 1024])\n"
     ]
    },
    {
     "name": "stderr",
     "output_type": "stream",
     "text": [
      "\r",
      "  3%|▎         | 6/182 [00:31<14:05,  4.81s/it]"
     ]
    },
    {
     "name": "stdout",
     "output_type": "stream",
     "text": [
      "Before backend torch.Size([1, 512, 34, 56])\n",
      "After backend torch.Size([1, 64, 34, 56])\n",
      "After output layer:  torch.Size([1, 1, 34, 56])\n",
      "Final out torch.Size([1, 1, 272, 448])\n",
      "Before backend torch.Size([1, 512, 48, 74])\n"
     ]
    },
    {
     "name": "stderr",
     "output_type": "stream",
     "text": [
      "\r",
      "  4%|▍         | 7/182 [00:34<11:44,  4.02s/it]"
     ]
    },
    {
     "name": "stdout",
     "output_type": "stream",
     "text": [
      "After backend torch.Size([1, 64, 48, 74])\n",
      "After output layer:  torch.Size([1, 1, 48, 74])\n",
      "Final out torch.Size([1, 1, 384, 592])\n",
      "Before backend torch.Size([1, 512, 84, 128])\n"
     ]
    },
    {
     "name": "stderr",
     "output_type": "stream",
     "text": [
      "\r",
      "  4%|▍         | 8/182 [00:39<13:01,  4.49s/it]"
     ]
    },
    {
     "name": "stdout",
     "output_type": "stream",
     "text": [
      "After backend torch.Size([1, 64, 84, 128])\n",
      "After output layer:  torch.Size([1, 1, 84, 128])\n",
      "Final out torch.Size([1, 1, 672, 1024])\n",
      "Before backend torch.Size([1, 512, 84, 128])\n"
     ]
    },
    {
     "name": "stderr",
     "output_type": "stream",
     "text": [
      "\r",
      "  5%|▍         | 9/182 [00:45<13:49,  4.79s/it]"
     ]
    },
    {
     "name": "stdout",
     "output_type": "stream",
     "text": [
      "After backend torch.Size([1, 64, 84, 128])\n",
      "After output layer:  torch.Size([1, 1, 84, 128])\n",
      "Final out torch.Size([1, 1, 672, 1024])\n",
      "Before backend torch.Size([1, 512, 72, 128])\n"
     ]
    },
    {
     "name": "stderr",
     "output_type": "stream",
     "text": [
      "\r",
      "  5%|▌         | 10/182 [00:49<13:43,  4.79s/it]"
     ]
    },
    {
     "name": "stdout",
     "output_type": "stream",
     "text": [
      "After backend torch.Size([1, 64, 72, 128])\n",
      "After output layer:  torch.Size([1, 1, 72, 128])\n",
      "Final out torch.Size([1, 1, 576, 1024])\n",
      "Before backend torch.Size([1, 512, 52, 78])\n"
     ]
    },
    {
     "name": "stderr",
     "output_type": "stream",
     "text": [
      "\r",
      "  6%|▌         | 11/182 [00:51<11:13,  3.94s/it]"
     ]
    },
    {
     "name": "stdout",
     "output_type": "stream",
     "text": [
      "After backend torch.Size([1, 64, 52, 78])\n",
      "After output layer:  torch.Size([1, 1, 52, 78])\n",
      "Final out torch.Size([1, 1, 416, 624])\n",
      "Before backend torch.Size([1, 512, 50, 112])\n"
     ]
    },
    {
     "name": "stderr",
     "output_type": "stream",
     "text": [
      "\r",
      "  7%|▋         | 12/182 [00:54<10:11,  3.60s/it]"
     ]
    },
    {
     "name": "stdout",
     "output_type": "stream",
     "text": [
      "After backend torch.Size([1, 64, 50, 112])\n",
      "After output layer:  torch.Size([1, 1, 50, 112])\n",
      "Final out torch.Size([1, 1, 400, 896])\n",
      "Before backend torch.Size([1, 512, 96, 128])\n"
     ]
    },
    {
     "name": "stderr",
     "output_type": "stream",
     "text": [
      "\r",
      "  7%|▋         | 13/182 [01:01<12:52,  4.57s/it]"
     ]
    },
    {
     "name": "stdout",
     "output_type": "stream",
     "text": [
      "After backend torch.Size([1, 64, 96, 128])\n",
      "After output layer:  torch.Size([1, 1, 96, 128])\n",
      "Final out torch.Size([1, 1, 768, 1024])\n",
      "Before backend torch.Size([1, 512, 84, 128])\n"
     ]
    },
    {
     "name": "stderr",
     "output_type": "stream",
     "text": [
      "\r",
      "  8%|▊         | 14/182 [01:07<13:52,  4.95s/it]"
     ]
    },
    {
     "name": "stdout",
     "output_type": "stream",
     "text": [
      "After backend torch.Size([1, 64, 84, 128])\n",
      "After output layer:  torch.Size([1, 1, 84, 128])\n",
      "Final out torch.Size([1, 1, 672, 1024])\n",
      "Before backend torch.Size([1, 512, 52, 80])\n"
     ]
    },
    {
     "name": "stderr",
     "output_type": "stream",
     "text": [
      "\r",
      "  8%|▊         | 15/182 [01:09<11:47,  4.24s/it]"
     ]
    },
    {
     "name": "stdout",
     "output_type": "stream",
     "text": [
      "After backend torch.Size([1, 64, 52, 80])\n",
      "After output layer:  torch.Size([1, 1, 52, 80])\n",
      "Final out torch.Size([1, 1, 416, 640])\n",
      "Before backend torch.Size([1, 512, 76, 50])\n"
     ]
    },
    {
     "name": "stderr",
     "output_type": "stream",
     "text": [
      "\r",
      "  9%|▉         | 16/182 [01:12<09:56,  3.60s/it]"
     ]
    },
    {
     "name": "stdout",
     "output_type": "stream",
     "text": [
      "After backend torch.Size([1, 64, 76, 50])\n",
      "After output layer:  torch.Size([1, 1, 76, 50])\n",
      "Final out torch.Size([1, 1, 608, 400])\n",
      "Before backend torch.Size([1, 512, 96, 120])\n"
     ]
    },
    {
     "name": "stderr",
     "output_type": "stream",
     "text": [
      "\r",
      "  9%|▉         | 17/182 [01:18<12:22,  4.50s/it]"
     ]
    },
    {
     "name": "stdout",
     "output_type": "stream",
     "text": [
      "After backend torch.Size([1, 64, 96, 120])\n",
      "After output layer:  torch.Size([1, 1, 96, 120])\n",
      "Final out torch.Size([1, 1, 768, 960])\n",
      "Before backend torch.Size([1, 512, 96, 128])\n"
     ]
    },
    {
     "name": "stderr",
     "output_type": "stream",
     "text": [
      "\r",
      " 10%|▉         | 18/182 [01:25<14:02,  5.14s/it]"
     ]
    },
    {
     "name": "stdout",
     "output_type": "stream",
     "text": [
      "After backend torch.Size([1, 64, 96, 128])\n",
      "After output layer:  torch.Size([1, 1, 96, 128])\n",
      "Final out torch.Size([1, 1, 768, 1024])\n",
      "Before backend torch.Size([1, 512, 96, 128])\n"
     ]
    },
    {
     "name": "stderr",
     "output_type": "stream",
     "text": [
      "\r",
      " 10%|█         | 19/182 [01:31<14:49,  5.45s/it]"
     ]
    },
    {
     "name": "stdout",
     "output_type": "stream",
     "text": [
      "After backend torch.Size([1, 64, 96, 128])\n",
      "After output layer:  torch.Size([1, 1, 96, 128])\n",
      "Final out torch.Size([1, 1, 768, 1024])\n",
      "Before backend torch.Size([1, 512, 52, 66])\n"
     ]
    },
    {
     "name": "stderr",
     "output_type": "stream",
     "text": [
      "\r",
      " 11%|█         | 20/182 [01:33<11:42,  4.34s/it]"
     ]
    },
    {
     "name": "stdout",
     "output_type": "stream",
     "text": [
      "After backend torch.Size([1, 64, 52, 66])\n",
      "After output layer:  torch.Size([1, 1, 52, 66])\n",
      "Final out torch.Size([1, 1, 416, 528])\n",
      "Before backend torch.Size([1, 512, 82, 128])\n"
     ]
    },
    {
     "name": "stderr",
     "output_type": "stream",
     "text": [
      "\r",
      " 12%|█▏        | 21/182 [01:38<12:23,  4.62s/it]"
     ]
    },
    {
     "name": "stdout",
     "output_type": "stream",
     "text": [
      "After backend torch.Size([1, 64, 82, 128])\n",
      "After output layer:  torch.Size([1, 1, 82, 128])\n",
      "Final out torch.Size([1, 1, 656, 1024])\n",
      "Before backend torch.Size([1, 512, 84, 128])\n"
     ]
    },
    {
     "name": "stderr",
     "output_type": "stream",
     "text": [
      "\r",
      " 12%|█▏        | 22/182 [01:43<13:00,  4.88s/it]"
     ]
    },
    {
     "name": "stdout",
     "output_type": "stream",
     "text": [
      "After backend torch.Size([1, 64, 84, 128])\n",
      "After output layer:  torch.Size([1, 1, 84, 128])\n",
      "Final out torch.Size([1, 1, 672, 1024])\n",
      "Before backend torch.Size([1, 512, 62, 128])\n"
     ]
    },
    {
     "name": "stderr",
     "output_type": "stream",
     "text": [
      "\r",
      " 13%|█▎        | 23/182 [01:48<13:02,  4.92s/it]"
     ]
    },
    {
     "name": "stdout",
     "output_type": "stream",
     "text": [
      "After backend torch.Size([1, 64, 62, 128])\n",
      "After output layer:  torch.Size([1, 1, 62, 128])\n",
      "Final out torch.Size([1, 1, 496, 1024])\n",
      "Before backend torch.Size([1, 512, 84, 128])\n"
     ]
    },
    {
     "name": "stderr",
     "output_type": "stream",
     "text": [
      "\r",
      " 13%|█▎        | 24/182 [01:54<13:20,  5.07s/it]"
     ]
    },
    {
     "name": "stdout",
     "output_type": "stream",
     "text": [
      "After backend torch.Size([1, 64, 84, 128])\n",
      "After output layer:  torch.Size([1, 1, 84, 128])\n",
      "Final out torch.Size([1, 1, 672, 1024])\n",
      "Before backend torch.Size([1, 512, 84, 128])\n"
     ]
    },
    {
     "name": "stderr",
     "output_type": "stream",
     "text": [
      "\r",
      " 14%|█▎        | 25/182 [01:59<13:28,  5.15s/it]"
     ]
    },
    {
     "name": "stdout",
     "output_type": "stream",
     "text": [
      "After backend torch.Size([1, 64, 84, 128])\n",
      "After output layer:  torch.Size([1, 1, 84, 128])\n",
      "Final out torch.Size([1, 1, 672, 1024])\n"
     ]
    },
    {
     "name": "stderr",
     "output_type": "stream",
     "text": [
      "\r",
      " 14%|█▍        | 26/182 [02:00<10:09,  3.91s/it]"
     ]
    },
    {
     "name": "stdout",
     "output_type": "stream",
     "text": [
      "Before backend torch.Size([1, 512, 54, 36])\n",
      "After backend torch.Size([1, 64, 54, 36])\n",
      "After output layer:  torch.Size([1, 1, 54, 36])\n",
      "Final out torch.Size([1, 1, 432, 288])\n",
      "Before backend torch.Size([1, 512, 84, 128])\n"
     ]
    },
    {
     "name": "stderr",
     "output_type": "stream",
     "text": [
      "\r",
      " 15%|█▍        | 27/182 [02:06<11:27,  4.44s/it]"
     ]
    },
    {
     "name": "stdout",
     "output_type": "stream",
     "text": [
      "After backend torch.Size([1, 64, 84, 128])\n",
      "After output layer:  torch.Size([1, 1, 84, 128])\n",
      "Final out torch.Size([1, 1, 672, 1024])\n",
      "Before backend torch.Size([1, 512, 84, 128])\n"
     ]
    },
    {
     "name": "stderr",
     "output_type": "stream",
     "text": [
      "\r",
      " 15%|█▌        | 28/182 [02:12<12:23,  4.83s/it]"
     ]
    },
    {
     "name": "stdout",
     "output_type": "stream",
     "text": [
      "After backend torch.Size([1, 64, 84, 128])\n",
      "After output layer:  torch.Size([1, 1, 84, 128])\n",
      "Final out torch.Size([1, 1, 672, 1024])\n",
      "Before backend torch.Size([1, 512, 62, 124])\n"
     ]
    },
    {
     "name": "stderr",
     "output_type": "stream",
     "text": [
      "\r",
      " 16%|█▌        | 29/182 [02:16<11:54,  4.67s/it]"
     ]
    },
    {
     "name": "stdout",
     "output_type": "stream",
     "text": [
      "After backend torch.Size([1, 64, 62, 124])\n",
      "After output layer:  torch.Size([1, 1, 62, 124])\n",
      "Final out torch.Size([1, 1, 496, 992])\n",
      "Before backend torch.Size([1, 512, 84, 128])\n"
     ]
    },
    {
     "name": "stderr",
     "output_type": "stream",
     "text": [
      "\r",
      " 16%|█▋        | 30/182 [02:22<12:50,  5.07s/it]"
     ]
    },
    {
     "name": "stdout",
     "output_type": "stream",
     "text": [
      "After backend torch.Size([1, 64, 84, 128])\n",
      "After output layer:  torch.Size([1, 1, 84, 128])\n",
      "Final out torch.Size([1, 1, 672, 1024])\n",
      "Before backend torch.Size([1, 512, 40, 62])\n",
      "After backend torch.Size([1, 64, 40, 62])\n"
     ]
    },
    {
     "name": "stderr",
     "output_type": "stream",
     "text": [
      "\r",
      " 17%|█▋        | 31/182 [02:23<09:55,  3.94s/it]"
     ]
    },
    {
     "name": "stdout",
     "output_type": "stream",
     "text": [
      "After output layer:  torch.Size([1, 1, 40, 62])\n",
      "Final out torch.Size([1, 1, 320, 496])\n",
      "Before backend torch.Size([1, 512, 90, 120])\n"
     ]
    },
    {
     "name": "stderr",
     "output_type": "stream",
     "text": [
      "\r",
      " 18%|█▊        | 32/182 [02:29<11:24,  4.56s/it]"
     ]
    },
    {
     "name": "stdout",
     "output_type": "stream",
     "text": [
      "After backend torch.Size([1, 64, 90, 120])\n",
      "After output layer:  torch.Size([1, 1, 90, 120])\n",
      "Final out torch.Size([1, 1, 720, 960])\n",
      "Before backend torch.Size([1, 512, 58, 124])\n"
     ]
    },
    {
     "name": "stderr",
     "output_type": "stream",
     "text": [
      "\r",
      " 18%|█▊        | 33/182 [02:33<10:44,  4.33s/it]"
     ]
    },
    {
     "name": "stdout",
     "output_type": "stream",
     "text": [
      "After backend torch.Size([1, 64, 58, 124])\n",
      "After output layer:  torch.Size([1, 1, 58, 124])\n",
      "Final out torch.Size([1, 1, 464, 992])\n"
     ]
    },
    {
     "name": "stderr",
     "output_type": "stream",
     "text": [
      "\r",
      " 19%|█▊        | 34/182 [02:34<08:21,  3.39s/it]"
     ]
    },
    {
     "name": "stdout",
     "output_type": "stream",
     "text": [
      "Before backend torch.Size([1, 512, 40, 62])\n",
      "After backend torch.Size([1, 64, 40, 62])\n",
      "After output layer:  torch.Size([1, 1, 40, 62])\n",
      "Final out torch.Size([1, 1, 320, 496])\n",
      "Before backend torch.Size([1, 512, 96, 128])\n"
     ]
    },
    {
     "name": "stderr",
     "output_type": "stream",
     "text": [
      "\r",
      " 19%|█▉        | 35/182 [02:41<10:36,  4.33s/it]"
     ]
    },
    {
     "name": "stdout",
     "output_type": "stream",
     "text": [
      "After backend torch.Size([1, 64, 96, 128])\n",
      "After output layer:  torch.Size([1, 1, 96, 128])\n",
      "Final out torch.Size([1, 1, 768, 1024])\n",
      "Before backend torch.Size([1, 512, 56, 86])\n"
     ]
    },
    {
     "name": "stderr",
     "output_type": "stream",
     "text": [
      "\r",
      " 20%|█▉        | 36/182 [02:43<09:11,  3.78s/it]"
     ]
    },
    {
     "name": "stdout",
     "output_type": "stream",
     "text": [
      "After backend torch.Size([1, 64, 56, 86])\n",
      "After output layer:  torch.Size([1, 1, 56, 86])\n",
      "Final out torch.Size([1, 1, 448, 688])\n",
      "There is a grayscale image.\n",
      "Before backend torch.Size([1, 512, 62, 128])\n"
     ]
    },
    {
     "name": "stderr",
     "output_type": "stream",
     "text": [
      "\r",
      " 20%|██        | 37/182 [02:48<09:40,  4.00s/it]"
     ]
    },
    {
     "name": "stdout",
     "output_type": "stream",
     "text": [
      "After backend torch.Size([1, 64, 62, 128])\n",
      "After output layer:  torch.Size([1, 1, 62, 128])\n",
      "Final out torch.Size([1, 1, 496, 1024])\n",
      "Before backend torch.Size([1, 512, 84, 128])\n"
     ]
    },
    {
     "name": "stderr",
     "output_type": "stream",
     "text": [
      "\r",
      " 21%|██        | 38/182 [02:54<11:05,  4.62s/it]"
     ]
    },
    {
     "name": "stdout",
     "output_type": "stream",
     "text": [
      "After backend torch.Size([1, 64, 84, 128])\n",
      "After output layer:  torch.Size([1, 1, 84, 128])\n",
      "Final out torch.Size([1, 1, 672, 1024])\n",
      "Before backend torch.Size([1, 512, 86, 128])\n"
     ]
    },
    {
     "name": "stderr",
     "output_type": "stream",
     "text": [
      "\r",
      " 21%|██▏       | 39/182 [03:01<12:43,  5.34s/it]"
     ]
    },
    {
     "name": "stdout",
     "output_type": "stream",
     "text": [
      "After backend torch.Size([1, 64, 86, 128])\n",
      "After output layer:  torch.Size([1, 1, 86, 128])\n",
      "Final out torch.Size([1, 1, 688, 1024])\n",
      "Before backend torch.Size([1, 512, 46, 70])\n"
     ]
    },
    {
     "name": "stderr",
     "output_type": "stream",
     "text": [
      "\r",
      " 22%|██▏       | 40/182 [03:03<10:15,  4.33s/it]"
     ]
    },
    {
     "name": "stdout",
     "output_type": "stream",
     "text": [
      "After backend torch.Size([1, 64, 46, 70])\n",
      "After output layer:  torch.Size([1, 1, 46, 70])\n",
      "Final out torch.Size([1, 1, 368, 560])\n",
      "Before backend torch.Size([1, 512, 84, 128])\n"
     ]
    },
    {
     "name": "stderr",
     "output_type": "stream",
     "text": [
      "\r",
      " 23%|██▎       | 41/182 [03:08<10:59,  4.68s/it]"
     ]
    },
    {
     "name": "stdout",
     "output_type": "stream",
     "text": [
      "After backend torch.Size([1, 64, 84, 128])\n",
      "After output layer:  torch.Size([1, 1, 84, 128])\n",
      "Final out torch.Size([1, 1, 672, 1024])\n",
      "Before backend torch.Size([1, 512, 74, 100])\n"
     ]
    },
    {
     "name": "stderr",
     "output_type": "stream",
     "text": [
      "\r",
      " 23%|██▎       | 42/182 [03:13<10:50,  4.65s/it]"
     ]
    },
    {
     "name": "stdout",
     "output_type": "stream",
     "text": [
      "After backend torch.Size([1, 64, 74, 100])\n",
      "After output layer:  torch.Size([1, 1, 74, 100])\n",
      "Final out torch.Size([1, 1, 592, 800])\n",
      "Before backend torch.Size([1, 512, 54, 80])\n"
     ]
    },
    {
     "name": "stderr",
     "output_type": "stream",
     "text": [
      "\r",
      " 24%|██▎       | 43/182 [03:15<09:07,  3.94s/it]"
     ]
    },
    {
     "name": "stdout",
     "output_type": "stream",
     "text": [
      "After backend torch.Size([1, 64, 54, 80])\n",
      "After output layer:  torch.Size([1, 1, 54, 80])\n",
      "Final out torch.Size([1, 1, 432, 640])\n",
      "Before backend torch.Size([1, 512, 96, 128])\n"
     ]
    },
    {
     "name": "stderr",
     "output_type": "stream",
     "text": [
      "\r",
      " 24%|██▍       | 44/182 [03:22<11:11,  4.87s/it]"
     ]
    },
    {
     "name": "stdout",
     "output_type": "stream",
     "text": [
      "After backend torch.Size([1, 64, 96, 128])\n",
      "After output layer:  torch.Size([1, 1, 96, 128])\n",
      "Final out torch.Size([1, 1, 768, 1024])\n"
     ]
    },
    {
     "name": "stderr",
     "output_type": "stream",
     "text": [
      "\r",
      " 25%|██▍       | 45/182 [03:24<08:43,  3.82s/it]"
     ]
    },
    {
     "name": "stdout",
     "output_type": "stream",
     "text": [
      "Before backend torch.Size([1, 512, 44, 58])\n",
      "After backend torch.Size([1, 64, 44, 58])\n",
      "After output layer:  torch.Size([1, 1, 44, 58])\n",
      "Final out torch.Size([1, 1, 352, 464])\n",
      "Before backend torch.Size([1, 512, 66, 120])\n"
     ]
    },
    {
     "name": "stderr",
     "output_type": "stream",
     "text": [
      "\r",
      " 25%|██▌       | 46/182 [03:28<09:02,  3.99s/it]"
     ]
    },
    {
     "name": "stdout",
     "output_type": "stream",
     "text": [
      "After backend torch.Size([1, 64, 66, 120])\n",
      "After output layer:  torch.Size([1, 1, 66, 120])\n",
      "Final out torch.Size([1, 1, 528, 960])\n",
      "Before backend torch.Size([1, 512, 58, 128])\n"
     ]
    },
    {
     "name": "stderr",
     "output_type": "stream",
     "text": [
      "\r",
      " 26%|██▌       | 47/182 [03:32<09:07,  4.06s/it]"
     ]
    },
    {
     "name": "stdout",
     "output_type": "stream",
     "text": [
      "After backend torch.Size([1, 64, 58, 128])\n",
      "After output layer:  torch.Size([1, 1, 58, 128])\n",
      "Final out torch.Size([1, 1, 464, 1024])\n",
      "Before backend torch.Size([1, 512, 92, 128])\n"
     ]
    },
    {
     "name": "stderr",
     "output_type": "stream",
     "text": [
      "\r",
      " 26%|██▋       | 48/182 [03:39<10:57,  4.91s/it]"
     ]
    },
    {
     "name": "stdout",
     "output_type": "stream",
     "text": [
      "After backend torch.Size([1, 64, 92, 128])\n",
      "After output layer:  torch.Size([1, 1, 92, 128])\n",
      "Final out torch.Size([1, 1, 736, 1024])\n",
      "Before backend torch.Size([1, 512, 128, 92])\n"
     ]
    },
    {
     "name": "stderr",
     "output_type": "stream",
     "text": [
      "\r",
      " 27%|██▋       | 49/182 [03:46<12:06,  5.46s/it]"
     ]
    },
    {
     "name": "stdout",
     "output_type": "stream",
     "text": [
      "After backend torch.Size([1, 64, 128, 92])\n",
      "After output layer:  torch.Size([1, 1, 128, 92])\n",
      "Final out torch.Size([1, 1, 1024, 736])\n",
      "Before backend torch.Size([1, 512, 60, 80])\n"
     ]
    },
    {
     "name": "stderr",
     "output_type": "stream",
     "text": [
      "\r",
      " 27%|██▋       | 50/182 [03:49<10:23,  4.72s/it]"
     ]
    },
    {
     "name": "stdout",
     "output_type": "stream",
     "text": [
      "After backend torch.Size([1, 64, 60, 80])\n",
      "After output layer:  torch.Size([1, 1, 60, 80])\n",
      "Final out torch.Size([1, 1, 480, 640])\n",
      "Before backend torch.Size([1, 512, 60, 80])\n"
     ]
    },
    {
     "name": "stderr",
     "output_type": "stream",
     "text": [
      "\r",
      " 28%|██▊       | 51/182 [03:51<08:54,  4.08s/it]"
     ]
    },
    {
     "name": "stdout",
     "output_type": "stream",
     "text": [
      "After backend torch.Size([1, 64, 60, 80])\n",
      "After output layer:  torch.Size([1, 1, 60, 80])\n",
      "Final out torch.Size([1, 1, 480, 640])\n",
      "Before backend torch.Size([1, 512, 54, 128])\n"
     ]
    },
    {
     "name": "stderr",
     "output_type": "stream",
     "text": [
      "\r",
      " 29%|██▊       | 52/182 [03:55<08:50,  4.08s/it]"
     ]
    },
    {
     "name": "stdout",
     "output_type": "stream",
     "text": [
      "After backend torch.Size([1, 64, 54, 128])\n",
      "After output layer:  torch.Size([1, 1, 54, 128])\n",
      "Final out torch.Size([1, 1, 432, 1024])\n",
      "Before backend torch.Size([1, 512, 52, 74])\n"
     ]
    },
    {
     "name": "stderr",
     "output_type": "stream",
     "text": [
      "\r",
      " 29%|██▉       | 53/182 [03:58<07:30,  3.49s/it]"
     ]
    },
    {
     "name": "stdout",
     "output_type": "stream",
     "text": [
      "After backend torch.Size([1, 64, 52, 74])\n",
      "After output layer:  torch.Size([1, 1, 52, 74])\n",
      "Final out torch.Size([1, 1, 416, 592])\n",
      "There is a grayscale image.\n",
      "Before backend torch.Size([1, 512, 88, 128])\n"
     ]
    },
    {
     "name": "stderr",
     "output_type": "stream",
     "text": [
      "\r",
      " 30%|██▉       | 54/182 [04:04<09:30,  4.45s/it]"
     ]
    },
    {
     "name": "stdout",
     "output_type": "stream",
     "text": [
      "After backend torch.Size([1, 64, 88, 128])\n",
      "After output layer:  torch.Size([1, 1, 88, 128])\n",
      "Final out torch.Size([1, 1, 704, 1024])\n",
      "Before backend torch.Size([1, 512, 62, 80])\n"
     ]
    },
    {
     "name": "stderr",
     "output_type": "stream",
     "text": [
      "\r",
      " 30%|███       | 55/182 [04:07<08:13,  3.88s/it]"
     ]
    },
    {
     "name": "stdout",
     "output_type": "stream",
     "text": [
      "After backend torch.Size([1, 64, 62, 80])\n",
      "After output layer:  torch.Size([1, 1, 62, 80])\n",
      "Final out torch.Size([1, 1, 496, 640])\n",
      "Before backend torch.Size([1, 512, 84, 128])\n"
     ]
    },
    {
     "name": "stderr",
     "output_type": "stream",
     "text": [
      "\r",
      " 31%|███       | 56/182 [04:13<09:26,  4.49s/it]"
     ]
    },
    {
     "name": "stdout",
     "output_type": "stream",
     "text": [
      "After backend torch.Size([1, 64, 84, 128])\n",
      "After output layer:  torch.Size([1, 1, 84, 128])\n",
      "Final out torch.Size([1, 1, 672, 1024])\n",
      "Before backend torch.Size([1, 512, 50, 70])\n"
     ]
    },
    {
     "name": "stderr",
     "output_type": "stream",
     "text": [
      "\r",
      " 31%|███▏      | 57/182 [04:15<07:40,  3.68s/it]"
     ]
    },
    {
     "name": "stdout",
     "output_type": "stream",
     "text": [
      "After backend torch.Size([1, 64, 50, 70])\n",
      "After output layer:  torch.Size([1, 1, 50, 70])\n",
      "Final out torch.Size([1, 1, 400, 560])\n",
      "Before backend torch.Size([1, 512, 56, 76])\n"
     ]
    },
    {
     "name": "stderr",
     "output_type": "stream",
     "text": [
      "\r",
      " 32%|███▏      | 58/182 [04:17<06:41,  3.24s/it]"
     ]
    },
    {
     "name": "stdout",
     "output_type": "stream",
     "text": [
      "After backend torch.Size([1, 64, 56, 76])\n",
      "After output layer:  torch.Size([1, 1, 56, 76])\n",
      "Final out torch.Size([1, 1, 448, 608])\n",
      "Before backend torch.Size([1, 512, 42, 106])\n"
     ]
    },
    {
     "name": "stderr",
     "output_type": "stream",
     "text": [
      "\r",
      " 32%|███▏      | 59/182 [04:19<06:09,  3.01s/it]"
     ]
    },
    {
     "name": "stdout",
     "output_type": "stream",
     "text": [
      "After backend torch.Size([1, 64, 42, 106])\n",
      "After output layer:  torch.Size([1, 1, 42, 106])\n",
      "Final out torch.Size([1, 1, 336, 848])\n",
      "There is a grayscale image.\n",
      "Before backend torch.Size([1, 512, 94, 128])\n"
     ]
    },
    {
     "name": "stderr",
     "output_type": "stream",
     "text": [
      "\r",
      " 33%|███▎      | 60/182 [04:27<08:53,  4.37s/it]"
     ]
    },
    {
     "name": "stdout",
     "output_type": "stream",
     "text": [
      "After backend torch.Size([1, 64, 94, 128])\n",
      "After output layer:  torch.Size([1, 1, 94, 128])\n",
      "Final out torch.Size([1, 1, 752, 1024])\n",
      "Before backend torch.Size([1, 512, 50, 84])\n"
     ]
    },
    {
     "name": "stderr",
     "output_type": "stream",
     "text": [
      "\r",
      " 34%|███▎      | 61/182 [04:29<07:38,  3.79s/it]"
     ]
    },
    {
     "name": "stdout",
     "output_type": "stream",
     "text": [
      "After backend torch.Size([1, 64, 50, 84])\n",
      "After output layer:  torch.Size([1, 1, 50, 84])\n",
      "Final out torch.Size([1, 1, 400, 672])\n",
      "Before backend torch.Size([1, 512, 58, 78])\n"
     ]
    },
    {
     "name": "stderr",
     "output_type": "stream",
     "text": [
      "\r",
      " 34%|███▍      | 62/182 [04:32<06:55,  3.46s/it]"
     ]
    },
    {
     "name": "stdout",
     "output_type": "stream",
     "text": [
      "After backend torch.Size([1, 64, 58, 78])\n",
      "After output layer:  torch.Size([1, 1, 58, 78])\n",
      "Final out torch.Size([1, 1, 464, 624])\n",
      "There is a grayscale image.\n",
      "Before backend torch.Size([1, 512, 48, 74])\n"
     ]
    },
    {
     "name": "stderr",
     "output_type": "stream",
     "text": [
      "\r",
      " 35%|███▍      | 63/182 [04:34<05:59,  3.02s/it]"
     ]
    },
    {
     "name": "stdout",
     "output_type": "stream",
     "text": [
      "After backend torch.Size([1, 64, 48, 74])\n",
      "After output layer:  torch.Size([1, 1, 48, 74])\n",
      "Final out torch.Size([1, 1, 384, 592])\n",
      "There is a grayscale image.\n",
      "Before backend torch.Size([1, 512, 62, 80])\n"
     ]
    },
    {
     "name": "stderr",
     "output_type": "stream",
     "text": [
      "\r",
      " 35%|███▌      | 64/182 [04:37<05:43,  2.91s/it]"
     ]
    },
    {
     "name": "stdout",
     "output_type": "stream",
     "text": [
      "After backend torch.Size([1, 64, 62, 80])\n",
      "After output layer:  torch.Size([1, 1, 62, 80])\n",
      "Final out torch.Size([1, 1, 496, 640])\n",
      "Before backend torch.Size([1, 512, 66, 120])\n"
     ]
    },
    {
     "name": "stderr",
     "output_type": "stream",
     "text": [
      "\r",
      " 36%|███▌      | 65/182 [04:41<06:29,  3.33s/it]"
     ]
    },
    {
     "name": "stdout",
     "output_type": "stream",
     "text": [
      "After backend torch.Size([1, 64, 66, 120])\n",
      "After output layer:  torch.Size([1, 1, 66, 120])\n",
      "Final out torch.Size([1, 1, 528, 960])\n",
      "Before backend torch.Size([1, 512, 42, 128])\n"
     ]
    },
    {
     "name": "stderr",
     "output_type": "stream",
     "text": [
      "\r",
      " 36%|███▋      | 66/182 [04:44<06:06,  3.16s/it]"
     ]
    },
    {
     "name": "stdout",
     "output_type": "stream",
     "text": [
      "After backend torch.Size([1, 64, 42, 128])\n",
      "After output layer:  torch.Size([1, 1, 42, 128])\n",
      "Final out torch.Size([1, 1, 336, 1024])\n",
      "Before backend torch.Size([1, 512, 88, 128])\n"
     ]
    },
    {
     "name": "stderr",
     "output_type": "stream",
     "text": [
      "\r",
      " 37%|███▋      | 67/182 [04:50<07:38,  3.99s/it]"
     ]
    },
    {
     "name": "stdout",
     "output_type": "stream",
     "text": [
      "After backend torch.Size([1, 64, 88, 128])\n",
      "After output layer:  torch.Size([1, 1, 88, 128])\n",
      "Final out torch.Size([1, 1, 704, 1024])\n",
      "Before backend torch.Size([1, 512, 44, 58])\n",
      "After backend torch.Size([1, 64, 44, 58])\n",
      "After output layer:  torch.Size([1, 1, 44, 58])\n"
     ]
    },
    {
     "name": "stderr",
     "output_type": "stream",
     "text": [
      "\r",
      " 37%|███▋      | 68/182 [04:51<06:08,  3.23s/it]"
     ]
    },
    {
     "name": "stdout",
     "output_type": "stream",
     "text": [
      "Final out torch.Size([1, 1, 352, 464])\n",
      "Before backend torch.Size([1, 512, 92, 128])\n"
     ]
    },
    {
     "name": "stderr",
     "output_type": "stream",
     "text": [
      "\r",
      " 38%|███▊      | 69/182 [04:58<08:02,  4.27s/it]"
     ]
    },
    {
     "name": "stdout",
     "output_type": "stream",
     "text": [
      "After backend torch.Size([1, 64, 92, 128])\n",
      "After output layer:  torch.Size([1, 1, 92, 128])\n",
      "Final out torch.Size([1, 1, 736, 1024])\n",
      "Before backend torch.Size([1, 512, 74, 112])\n"
     ]
    },
    {
     "name": "stderr",
     "output_type": "stream",
     "text": [
      "\r",
      " 38%|███▊      | 70/182 [05:02<08:09,  4.37s/it]"
     ]
    },
    {
     "name": "stdout",
     "output_type": "stream",
     "text": [
      "After backend torch.Size([1, 64, 74, 112])\n",
      "After output layer:  torch.Size([1, 1, 74, 112])\n",
      "Final out torch.Size([1, 1, 592, 896])\n",
      "Before backend torch.Size([1, 512, 66, 128])\n"
     ]
    },
    {
     "name": "stderr",
     "output_type": "stream",
     "text": [
      "\r",
      " 39%|███▉      | 71/182 [05:08<08:44,  4.72s/it]"
     ]
    },
    {
     "name": "stdout",
     "output_type": "stream",
     "text": [
      "After backend torch.Size([1, 64, 66, 128])\n",
      "After output layer:  torch.Size([1, 1, 66, 128])\n",
      "Final out torch.Size([1, 1, 528, 1024])\n",
      "Before backend torch.Size([1, 512, 66, 100])\n"
     ]
    },
    {
     "name": "stderr",
     "output_type": "stream",
     "text": [
      "\r",
      " 40%|███▉      | 72/182 [05:12<08:21,  4.56s/it]"
     ]
    },
    {
     "name": "stdout",
     "output_type": "stream",
     "text": [
      "After backend torch.Size([1, 64, 66, 100])\n",
      "After output layer:  torch.Size([1, 1, 66, 100])\n",
      "Final out torch.Size([1, 1, 528, 800])\n",
      "Before backend torch.Size([1, 512, 56, 84])\n"
     ]
    },
    {
     "name": "stderr",
     "output_type": "stream",
     "text": [
      "\r",
      " 40%|████      | 73/182 [05:15<07:27,  4.10s/it]"
     ]
    },
    {
     "name": "stdout",
     "output_type": "stream",
     "text": [
      "After backend torch.Size([1, 64, 56, 84])\n",
      "After output layer:  torch.Size([1, 1, 56, 84])\n",
      "Final out torch.Size([1, 1, 448, 672])\n",
      "Before backend torch.Size([1, 512, 60, 78])\n"
     ]
    },
    {
     "name": "stderr",
     "output_type": "stream",
     "text": [
      "\r",
      " 41%|████      | 74/182 [05:18<06:39,  3.70s/it]"
     ]
    },
    {
     "name": "stdout",
     "output_type": "stream",
     "text": [
      "After backend torch.Size([1, 64, 60, 78])\n",
      "After output layer:  torch.Size([1, 1, 60, 78])\n",
      "Final out torch.Size([1, 1, 480, 624])\n",
      "Before backend torch.Size([1, 512, 84, 128])\n"
     ]
    },
    {
     "name": "stderr",
     "output_type": "stream",
     "text": [
      "\r",
      " 41%|████      | 75/182 [05:24<07:52,  4.41s/it]"
     ]
    },
    {
     "name": "stdout",
     "output_type": "stream",
     "text": [
      "After backend torch.Size([1, 64, 84, 128])\n",
      "After output layer:  torch.Size([1, 1, 84, 128])\n",
      "Final out torch.Size([1, 1, 672, 1024])\n",
      "Before backend torch.Size([1, 512, 84, 128])\n"
     ]
    },
    {
     "name": "stderr",
     "output_type": "stream",
     "text": [
      "\r",
      " 42%|████▏     | 76/182 [05:30<08:27,  4.79s/it]"
     ]
    },
    {
     "name": "stdout",
     "output_type": "stream",
     "text": [
      "After backend torch.Size([1, 64, 84, 128])\n",
      "After output layer:  torch.Size([1, 1, 84, 128])\n",
      "Final out torch.Size([1, 1, 672, 1024])\n",
      "Before backend torch.Size([1, 512, 72, 110])\n"
     ]
    },
    {
     "name": "stderr",
     "output_type": "stream",
     "text": [
      "\r",
      " 42%|████▏     | 77/182 [05:34<08:21,  4.77s/it]"
     ]
    },
    {
     "name": "stdout",
     "output_type": "stream",
     "text": [
      "After backend torch.Size([1, 64, 72, 110])\n",
      "After output layer:  torch.Size([1, 1, 72, 110])\n",
      "Final out torch.Size([1, 1, 576, 880])\n",
      "Before backend torch.Size([1, 512, 52, 74])\n"
     ]
    },
    {
     "name": "stderr",
     "output_type": "stream",
     "text": [
      "\r",
      " 43%|████▎     | 78/182 [05:37<06:56,  4.01s/it]"
     ]
    },
    {
     "name": "stdout",
     "output_type": "stream",
     "text": [
      "After backend torch.Size([1, 64, 52, 74])\n",
      "After output layer:  torch.Size([1, 1, 52, 74])\n",
      "Final out torch.Size([1, 1, 416, 592])\n",
      "Before backend torch.Size([1, 512, 32, 86])\n"
     ]
    },
    {
     "name": "stderr",
     "output_type": "stream",
     "text": [
      "\r",
      " 43%|████▎     | 79/182 [05:38<05:40,  3.30s/it]"
     ]
    },
    {
     "name": "stdout",
     "output_type": "stream",
     "text": [
      "After backend torch.Size([1, 64, 32, 86])\n",
      "After output layer:  torch.Size([1, 1, 32, 86])\n",
      "Final out torch.Size([1, 1, 256, 688])\n",
      "Before backend torch.Size([1, 512, 84, 128])\n"
     ]
    },
    {
     "name": "stderr",
     "output_type": "stream",
     "text": [
      "\r",
      " 44%|████▍     | 80/182 [05:45<07:18,  4.30s/it]"
     ]
    },
    {
     "name": "stdout",
     "output_type": "stream",
     "text": [
      "After backend torch.Size([1, 64, 84, 128])\n",
      "After output layer:  torch.Size([1, 1, 84, 128])\n",
      "Final out torch.Size([1, 1, 672, 1024])\n",
      "Before backend torch.Size([1, 512, 80, 128])\n"
     ]
    },
    {
     "name": "stderr",
     "output_type": "stream",
     "text": [
      "\r",
      " 45%|████▍     | 81/182 [05:53<09:08,  5.43s/it]"
     ]
    },
    {
     "name": "stdout",
     "output_type": "stream",
     "text": [
      "After backend torch.Size([1, 64, 80, 128])\n",
      "After output layer:  torch.Size([1, 1, 80, 128])\n",
      "Final out torch.Size([1, 1, 640, 1024])\n",
      "Before backend torch.Size([1, 512, 96, 128])\n"
     ]
    },
    {
     "name": "stderr",
     "output_type": "stream",
     "text": [
      "\r",
      " 45%|████▌     | 82/182 [06:01<10:19,  6.20s/it]"
     ]
    },
    {
     "name": "stdout",
     "output_type": "stream",
     "text": [
      "After backend torch.Size([1, 64, 96, 128])\n",
      "After output layer:  torch.Size([1, 1, 96, 128])\n",
      "Final out torch.Size([1, 1, 768, 1024])\n",
      "Before backend torch.Size([1, 512, 96, 128])\n"
     ]
    },
    {
     "name": "stderr",
     "output_type": "stream",
     "text": [
      "\r",
      " 46%|████▌     | 83/182 [06:08<10:51,  6.58s/it]"
     ]
    },
    {
     "name": "stdout",
     "output_type": "stream",
     "text": [
      "After backend torch.Size([1, 64, 96, 128])\n",
      "After output layer:  torch.Size([1, 1, 96, 128])\n",
      "Final out torch.Size([1, 1, 768, 1024])\n",
      "Before backend torch.Size([1, 512, 84, 128])\n"
     ]
    },
    {
     "name": "stderr",
     "output_type": "stream",
     "text": [
      "\r",
      " 46%|████▌     | 84/182 [06:15<10:37,  6.50s/it]"
     ]
    },
    {
     "name": "stdout",
     "output_type": "stream",
     "text": [
      "After backend torch.Size([1, 64, 84, 128])\n",
      "After output layer:  torch.Size([1, 1, 84, 128])\n",
      "Final out torch.Size([1, 1, 672, 1024])\n",
      "Before backend torch.Size([1, 512, 72, 128])\n"
     ]
    },
    {
     "name": "stderr",
     "output_type": "stream",
     "text": [
      "\r",
      " 47%|████▋     | 85/182 [06:21<10:21,  6.41s/it]"
     ]
    },
    {
     "name": "stdout",
     "output_type": "stream",
     "text": [
      "After backend torch.Size([1, 64, 72, 128])\n",
      "After output layer:  torch.Size([1, 1, 72, 128])\n",
      "Final out torch.Size([1, 1, 576, 1024])\n",
      "Before backend torch.Size([1, 512, 34, 68])\n"
     ]
    },
    {
     "name": "stderr",
     "output_type": "stream",
     "text": [
      "\r",
      " 47%|████▋     | 86/182 [06:22<07:51,  4.92s/it]"
     ]
    },
    {
     "name": "stdout",
     "output_type": "stream",
     "text": [
      "After backend torch.Size([1, 64, 34, 68])\n",
      "After output layer:  torch.Size([1, 1, 34, 68])\n",
      "Final out torch.Size([1, 1, 272, 544])\n",
      "Before backend torch.Size([1, 512, 84, 128])\n"
     ]
    },
    {
     "name": "stderr",
     "output_type": "stream",
     "text": [
      "\r",
      " 48%|████▊     | 87/182 [06:29<08:28,  5.35s/it]"
     ]
    },
    {
     "name": "stdout",
     "output_type": "stream",
     "text": [
      "After backend torch.Size([1, 64, 84, 128])\n",
      "After output layer:  torch.Size([1, 1, 84, 128])\n",
      "Final out torch.Size([1, 1, 672, 1024])\n",
      "Before backend torch.Size([1, 512, 84, 128])\n"
     ]
    },
    {
     "name": "stderr",
     "output_type": "stream",
     "text": [
      "\r",
      " 48%|████▊     | 88/182 [06:35<08:50,  5.64s/it]"
     ]
    },
    {
     "name": "stdout",
     "output_type": "stream",
     "text": [
      "After backend torch.Size([1, 64, 84, 128])\n",
      "After output layer:  torch.Size([1, 1, 84, 128])\n",
      "Final out torch.Size([1, 1, 672, 1024])\n",
      "Before backend torch.Size([1, 512, 128, 84])\n"
     ]
    },
    {
     "name": "stderr",
     "output_type": "stream",
     "text": [
      "\r",
      " 49%|████▉     | 89/182 [06:42<09:12,  5.94s/it]"
     ]
    },
    {
     "name": "stdout",
     "output_type": "stream",
     "text": [
      "After backend torch.Size([1, 64, 128, 84])\n",
      "After output layer:  torch.Size([1, 1, 128, 84])\n",
      "Final out torch.Size([1, 1, 1024, 672])\n",
      "Before backend torch.Size([1, 512, 72, 128])\n"
     ]
    },
    {
     "name": "stderr",
     "output_type": "stream",
     "text": [
      "\r",
      " 49%|████▉     | 90/182 [06:47<08:40,  5.65s/it]"
     ]
    },
    {
     "name": "stdout",
     "output_type": "stream",
     "text": [
      "After backend torch.Size([1, 64, 72, 128])\n",
      "After output layer:  torch.Size([1, 1, 72, 128])\n",
      "Final out torch.Size([1, 1, 576, 1024])\n",
      "Before backend torch.Size([1, 512, 86, 128])\n"
     ]
    },
    {
     "name": "stderr",
     "output_type": "stream",
     "text": [
      "\r",
      " 50%|█████     | 91/182 [06:53<08:54,  5.87s/it]"
     ]
    },
    {
     "name": "stdout",
     "output_type": "stream",
     "text": [
      "After backend torch.Size([1, 64, 86, 128])\n",
      "After output layer:  torch.Size([1, 1, 86, 128])\n",
      "Final out torch.Size([1, 1, 688, 1024])\n",
      "Before backend torch.Size([1, 512, 96, 128])\n"
     ]
    },
    {
     "name": "stderr",
     "output_type": "stream",
     "text": [
      "\r",
      " 51%|█████     | 92/182 [07:00<09:10,  6.12s/it]"
     ]
    },
    {
     "name": "stdout",
     "output_type": "stream",
     "text": [
      "After backend torch.Size([1, 64, 96, 128])\n",
      "After output layer:  torch.Size([1, 1, 96, 128])\n",
      "Final out torch.Size([1, 1, 768, 1024])\n",
      "Before backend torch.Size([1, 512, 40, 128])\n"
     ]
    },
    {
     "name": "stderr",
     "output_type": "stream",
     "text": [
      "\r",
      " 51%|█████     | 93/182 [07:03<07:48,  5.26s/it]"
     ]
    },
    {
     "name": "stdout",
     "output_type": "stream",
     "text": [
      "After backend torch.Size([1, 64, 40, 128])\n",
      "After output layer:  torch.Size([1, 1, 40, 128])\n",
      "Final out torch.Size([1, 1, 320, 1024])\n",
      "Before backend torch.Size([1, 512, 86, 128])\n"
     ]
    },
    {
     "name": "stderr",
     "output_type": "stream",
     "text": [
      "\r",
      " 52%|█████▏    | 94/182 [07:09<08:06,  5.53s/it]"
     ]
    },
    {
     "name": "stdout",
     "output_type": "stream",
     "text": [
      "After backend torch.Size([1, 64, 86, 128])\n",
      "After output layer:  torch.Size([1, 1, 86, 128])\n",
      "Final out torch.Size([1, 1, 688, 1024])\n",
      "Before backend torch.Size([1, 512, 42, 74])\n"
     ]
    },
    {
     "name": "stderr",
     "output_type": "stream",
     "text": [
      "\r",
      " 52%|█████▏    | 95/182 [07:11<06:31,  4.50s/it]"
     ]
    },
    {
     "name": "stdout",
     "output_type": "stream",
     "text": [
      "After backend torch.Size([1, 64, 42, 74])\n",
      "After output layer:  torch.Size([1, 1, 42, 74])\n",
      "Final out torch.Size([1, 1, 336, 592])\n",
      "There is a grayscale image.\n",
      "Before backend torch.Size([1, 512, 46, 68])\n"
     ]
    },
    {
     "name": "stderr",
     "output_type": "stream",
     "text": [
      "\r",
      " 53%|█████▎    | 96/182 [07:13<05:16,  3.68s/it]"
     ]
    },
    {
     "name": "stdout",
     "output_type": "stream",
     "text": [
      "After backend torch.Size([1, 64, 46, 68])\n",
      "After output layer:  torch.Size([1, 1, 46, 68])\n",
      "Final out torch.Size([1, 1, 368, 544])\n",
      "Before backend torch.Size([1, 512, 84, 128])\n"
     ]
    },
    {
     "name": "stderr",
     "output_type": "stream",
     "text": [
      "\r",
      " 53%|█████▎    | 97/182 [07:19<06:15,  4.41s/it]"
     ]
    },
    {
     "name": "stdout",
     "output_type": "stream",
     "text": [
      "After backend torch.Size([1, 64, 84, 128])\n",
      "After output layer:  torch.Size([1, 1, 84, 128])\n",
      "Final out torch.Size([1, 1, 672, 1024])\n",
      "Before backend torch.Size([1, 512, 56, 128])\n"
     ]
    },
    {
     "name": "stderr",
     "output_type": "stream",
     "text": [
      "\r",
      " 54%|█████▍    | 98/182 [07:23<06:00,  4.29s/it]"
     ]
    },
    {
     "name": "stdout",
     "output_type": "stream",
     "text": [
      "After backend torch.Size([1, 64, 56, 128])\n",
      "After output layer:  torch.Size([1, 1, 56, 128])\n",
      "Final out torch.Size([1, 1, 448, 1024])\n",
      "Before backend torch.Size([1, 512, 92, 128])\n"
     ]
    },
    {
     "name": "stderr",
     "output_type": "stream",
     "text": [
      "\r",
      " 54%|█████▍    | 99/182 [07:30<07:01,  5.08s/it]"
     ]
    },
    {
     "name": "stdout",
     "output_type": "stream",
     "text": [
      "After backend torch.Size([1, 64, 92, 128])\n",
      "After output layer:  torch.Size([1, 1, 92, 128])\n",
      "Final out torch.Size([1, 1, 736, 1024])\n",
      "Before backend torch.Size([1, 512, 66, 104])\n"
     ]
    },
    {
     "name": "stderr",
     "output_type": "stream",
     "text": [
      "\r",
      " 55%|█████▍    | 100/182 [07:34<06:24,  4.70s/it]"
     ]
    },
    {
     "name": "stdout",
     "output_type": "stream",
     "text": [
      "After backend torch.Size([1, 64, 66, 104])\n",
      "After output layer:  torch.Size([1, 1, 66, 104])\n",
      "Final out torch.Size([1, 1, 528, 832])\n",
      "There is a grayscale image.\n",
      "Before backend torch.Size([1, 512, 82, 102])\n"
     ]
    },
    {
     "name": "stderr",
     "output_type": "stream",
     "text": [
      "\r",
      " 55%|█████▌    | 101/182 [07:38<06:19,  4.68s/it]"
     ]
    },
    {
     "name": "stdout",
     "output_type": "stream",
     "text": [
      "After backend torch.Size([1, 64, 82, 102])\n",
      "After output layer:  torch.Size([1, 1, 82, 102])\n",
      "Final out torch.Size([1, 1, 656, 816])\n",
      "Before backend torch.Size([1, 512, 82, 124])\n"
     ]
    },
    {
     "name": "stderr",
     "output_type": "stream",
     "text": [
      "\r",
      " 56%|█████▌    | 102/182 [07:45<07:01,  5.27s/it]"
     ]
    },
    {
     "name": "stdout",
     "output_type": "stream",
     "text": [
      "After backend torch.Size([1, 64, 82, 124])\n",
      "After output layer:  torch.Size([1, 1, 82, 124])\n",
      "Final out torch.Size([1, 1, 656, 992])\n",
      "Before backend torch.Size([1, 512, 58, 88])\n"
     ]
    },
    {
     "name": "stderr",
     "output_type": "stream",
     "text": [
      "\r",
      " 57%|█████▋    | 103/182 [07:48<05:57,  4.52s/it]"
     ]
    },
    {
     "name": "stdout",
     "output_type": "stream",
     "text": [
      "After backend torch.Size([1, 64, 58, 88])\n",
      "After output layer:  torch.Size([1, 1, 58, 88])\n",
      "Final out torch.Size([1, 1, 464, 704])\n",
      "Before backend torch.Size([1, 512, 46, 68])\n"
     ]
    },
    {
     "name": "stderr",
     "output_type": "stream",
     "text": [
      "\r",
      " 57%|█████▋    | 104/182 [07:50<04:45,  3.66s/it]"
     ]
    },
    {
     "name": "stdout",
     "output_type": "stream",
     "text": [
      "After backend torch.Size([1, 64, 46, 68])\n",
      "After output layer:  torch.Size([1, 1, 46, 68])\n",
      "Final out torch.Size([1, 1, 368, 544])\n",
      "Before backend torch.Size([1, 512, 68, 128])\n"
     ]
    },
    {
     "name": "stderr",
     "output_type": "stream",
     "text": [
      "\r",
      " 58%|█████▊    | 105/182 [07:55<05:33,  4.34s/it]"
     ]
    },
    {
     "name": "stdout",
     "output_type": "stream",
     "text": [
      "After backend torch.Size([1, 64, 68, 128])\n",
      "After output layer:  torch.Size([1, 1, 68, 128])\n",
      "Final out torch.Size([1, 1, 544, 1024])\n",
      "Before backend torch.Size([1, 512, 84, 128])\n"
     ]
    },
    {
     "name": "stderr",
     "output_type": "stream",
     "text": [
      "\r",
      " 58%|█████▊    | 106/182 [08:02<06:16,  4.95s/it]"
     ]
    },
    {
     "name": "stdout",
     "output_type": "stream",
     "text": [
      "After backend torch.Size([1, 64, 84, 128])\n",
      "After output layer:  torch.Size([1, 1, 84, 128])\n",
      "Final out torch.Size([1, 1, 672, 1024])\n",
      "Before backend torch.Size([1, 512, 96, 128])\n"
     ]
    },
    {
     "name": "stderr",
     "output_type": "stream",
     "text": [
      "\r",
      " 59%|█████▉    | 107/182 [08:09<07:02,  5.64s/it]"
     ]
    },
    {
     "name": "stdout",
     "output_type": "stream",
     "text": [
      "After backend torch.Size([1, 64, 96, 128])\n",
      "After output layer:  torch.Size([1, 1, 96, 128])\n",
      "Final out torch.Size([1, 1, 768, 1024])\n",
      "Before backend torch.Size([1, 512, 84, 128])\n"
     ]
    },
    {
     "name": "stderr",
     "output_type": "stream",
     "text": [
      "\r",
      " 59%|█████▉    | 108/182 [08:15<07:00,  5.69s/it]"
     ]
    },
    {
     "name": "stdout",
     "output_type": "stream",
     "text": [
      "After backend torch.Size([1, 64, 84, 128])\n",
      "After output layer:  torch.Size([1, 1, 84, 128])\n",
      "Final out torch.Size([1, 1, 672, 1024])\n",
      "Before backend torch.Size([1, 512, 54, 68])\n"
     ]
    },
    {
     "name": "stderr",
     "output_type": "stream",
     "text": [
      "\r",
      " 60%|█████▉    | 109/182 [08:17<05:34,  4.58s/it]"
     ]
    },
    {
     "name": "stdout",
     "output_type": "stream",
     "text": [
      "After backend torch.Size([1, 64, 54, 68])\n",
      "After output layer:  torch.Size([1, 1, 54, 68])\n",
      "Final out torch.Size([1, 1, 432, 544])\n",
      "Before backend torch.Size([1, 512, 84, 128])\n"
     ]
    },
    {
     "name": "stderr",
     "output_type": "stream",
     "text": [
      "\r",
      " 60%|██████    | 110/182 [08:23<06:00,  5.00s/it]"
     ]
    },
    {
     "name": "stdout",
     "output_type": "stream",
     "text": [
      "After backend torch.Size([1, 64, 84, 128])\n",
      "After output layer:  torch.Size([1, 1, 84, 128])\n",
      "Final out torch.Size([1, 1, 672, 1024])\n",
      "Before backend torch.Size([1, 512, 128, 124])\n"
     ]
    },
    {
     "name": "stderr",
     "output_type": "stream",
     "text": [
      "\r",
      " 61%|██████    | 111/182 [08:32<07:29,  6.33s/it]"
     ]
    },
    {
     "name": "stdout",
     "output_type": "stream",
     "text": [
      "After backend torch.Size([1, 64, 128, 124])\n",
      "After output layer:  torch.Size([1, 1, 128, 124])\n",
      "Final out torch.Size([1, 1, 1024, 992])\n",
      "Before backend torch.Size([1, 512, 94, 128])\n"
     ]
    },
    {
     "name": "stderr",
     "output_type": "stream",
     "text": [
      "\r",
      " 62%|██████▏   | 112/182 [08:40<07:43,  6.62s/it]"
     ]
    },
    {
     "name": "stdout",
     "output_type": "stream",
     "text": [
      "After backend torch.Size([1, 64, 94, 128])\n",
      "After output layer:  torch.Size([1, 1, 94, 128])\n",
      "Final out torch.Size([1, 1, 752, 1024])\n"
     ]
    },
    {
     "name": "stderr",
     "output_type": "stream",
     "text": [
      "\r",
      " 62%|██████▏   | 113/182 [08:41<05:43,  4.98s/it]"
     ]
    },
    {
     "name": "stdout",
     "output_type": "stream",
     "text": [
      "Before backend torch.Size([1, 512, 36, 56])\n",
      "After backend torch.Size([1, 64, 36, 56])\n",
      "After output layer:  torch.Size([1, 1, 36, 56])\n",
      "Final out torch.Size([1, 1, 288, 448])\n",
      "Before backend torch.Size([1, 512, 84, 128])\n"
     ]
    },
    {
     "name": "stderr",
     "output_type": "stream",
     "text": [
      "\r",
      " 63%|██████▎   | 114/182 [08:46<05:54,  5.21s/it]"
     ]
    },
    {
     "name": "stdout",
     "output_type": "stream",
     "text": [
      "After backend torch.Size([1, 64, 84, 128])\n",
      "After output layer:  torch.Size([1, 1, 84, 128])\n",
      "Final out torch.Size([1, 1, 672, 1024])\n",
      "Before backend torch.Size([1, 512, 96, 128])\n"
     ]
    },
    {
     "name": "stderr",
     "output_type": "stream",
     "text": [
      "\r",
      " 63%|██████▎   | 115/182 [08:54<06:27,  5.79s/it]"
     ]
    },
    {
     "name": "stdout",
     "output_type": "stream",
     "text": [
      "After backend torch.Size([1, 64, 96, 128])\n",
      "After output layer:  torch.Size([1, 1, 96, 128])\n",
      "Final out torch.Size([1, 1, 768, 1024])\n",
      "Before backend torch.Size([1, 512, 82, 124])\n"
     ]
    },
    {
     "name": "stderr",
     "output_type": "stream",
     "text": [
      "\r",
      " 64%|██████▎   | 116/182 [09:00<06:27,  5.86s/it]"
     ]
    },
    {
     "name": "stdout",
     "output_type": "stream",
     "text": [
      "After backend torch.Size([1, 64, 82, 124])\n",
      "After output layer:  torch.Size([1, 1, 82, 124])\n",
      "Final out torch.Size([1, 1, 656, 992])\n",
      "Before backend torch.Size([1, 512, 74, 128])\n"
     ]
    },
    {
     "name": "stderr",
     "output_type": "stream",
     "text": [
      "\r",
      " 64%|██████▍   | 117/182 [09:06<06:31,  6.02s/it]"
     ]
    },
    {
     "name": "stdout",
     "output_type": "stream",
     "text": [
      "After backend torch.Size([1, 64, 74, 128])\n",
      "After output layer:  torch.Size([1, 1, 74, 128])\n",
      "Final out torch.Size([1, 1, 592, 1024])\n",
      "Before backend torch.Size([1, 512, 96, 128])\n"
     ]
    },
    {
     "name": "stderr",
     "output_type": "stream",
     "text": [
      "\r",
      " 65%|██████▍   | 118/182 [09:13<06:38,  6.23s/it]"
     ]
    },
    {
     "name": "stdout",
     "output_type": "stream",
     "text": [
      "After backend torch.Size([1, 64, 96, 128])\n",
      "After output layer:  torch.Size([1, 1, 96, 128])\n",
      "Final out torch.Size([1, 1, 768, 1024])\n",
      "Before backend torch.Size([1, 512, 42, 90])\n"
     ]
    },
    {
     "name": "stderr",
     "output_type": "stream",
     "text": [
      "\r",
      " 65%|██████▌   | 119/182 [09:15<05:14,  5.00s/it]"
     ]
    },
    {
     "name": "stdout",
     "output_type": "stream",
     "text": [
      "After backend torch.Size([1, 64, 42, 90])\n",
      "After output layer:  torch.Size([1, 1, 42, 90])\n",
      "Final out torch.Size([1, 1, 336, 720])\n",
      "Before backend torch.Size([1, 512, 54, 128])\n"
     ]
    },
    {
     "name": "stderr",
     "output_type": "stream",
     "text": [
      "\r",
      " 66%|██████▌   | 120/182 [09:19<04:52,  4.71s/it]"
     ]
    },
    {
     "name": "stdout",
     "output_type": "stream",
     "text": [
      "After backend torch.Size([1, 64, 54, 128])\n",
      "After output layer:  torch.Size([1, 1, 54, 128])\n",
      "Final out torch.Size([1, 1, 432, 1024])\n",
      "Before backend torch.Size([1, 512, 50, 74])\n"
     ]
    },
    {
     "name": "stderr",
     "output_type": "stream",
     "text": [
      "\r",
      " 66%|██████▋   | 121/182 [09:21<04:04,  4.01s/it]"
     ]
    },
    {
     "name": "stdout",
     "output_type": "stream",
     "text": [
      "After backend torch.Size([1, 64, 50, 74])\n",
      "After output layer:  torch.Size([1, 1, 50, 74])\n",
      "Final out torch.Size([1, 1, 400, 592])\n",
      "Before backend torch.Size([1, 512, 88, 128])\n"
     ]
    },
    {
     "name": "stderr",
     "output_type": "stream",
     "text": [
      "\r",
      " 67%|██████▋   | 122/182 [09:28<04:50,  4.84s/it]"
     ]
    },
    {
     "name": "stdout",
     "output_type": "stream",
     "text": [
      "After backend torch.Size([1, 64, 88, 128])\n",
      "After output layer:  torch.Size([1, 1, 88, 128])\n",
      "Final out torch.Size([1, 1, 704, 1024])\n",
      "Before backend torch.Size([1, 512, 76, 94])\n"
     ]
    },
    {
     "name": "stderr",
     "output_type": "stream",
     "text": [
      "\r",
      " 68%|██████▊   | 123/182 [09:32<04:28,  4.56s/it]"
     ]
    },
    {
     "name": "stdout",
     "output_type": "stream",
     "text": [
      "After backend torch.Size([1, 64, 76, 94])\n",
      "After output layer:  torch.Size([1, 1, 76, 94])\n",
      "Final out torch.Size([1, 1, 608, 752])\n",
      "Before backend torch.Size([1, 512, 78, 116])\n"
     ]
    },
    {
     "name": "stderr",
     "output_type": "stream",
     "text": [
      "\r",
      " 68%|██████▊   | 124/182 [09:37<04:33,  4.72s/it]"
     ]
    },
    {
     "name": "stdout",
     "output_type": "stream",
     "text": [
      "After backend torch.Size([1, 64, 78, 116])\n",
      "After output layer:  torch.Size([1, 1, 78, 116])\n",
      "Final out torch.Size([1, 1, 624, 928])\n",
      "Before backend torch.Size([1, 512, 96, 128])\n"
     ]
    },
    {
     "name": "stderr",
     "output_type": "stream",
     "text": [
      "\r",
      " 69%|██████▊   | 125/182 [09:44<05:10,  5.45s/it]"
     ]
    },
    {
     "name": "stdout",
     "output_type": "stream",
     "text": [
      "After backend torch.Size([1, 64, 96, 128])\n",
      "After output layer:  torch.Size([1, 1, 96, 128])\n",
      "Final out torch.Size([1, 1, 768, 1024])\n",
      "Before backend torch.Size([1, 512, 38, 62])\n"
     ]
    },
    {
     "name": "stderr",
     "output_type": "stream",
     "text": [
      "\r",
      " 69%|██████▉   | 126/182 [09:46<03:56,  4.22s/it]"
     ]
    },
    {
     "name": "stdout",
     "output_type": "stream",
     "text": [
      "After backend torch.Size([1, 64, 38, 62])\n",
      "After output layer:  torch.Size([1, 1, 38, 62])\n",
      "Final out torch.Size([1, 1, 304, 496])\n",
      "Before backend torch.Size([1, 512, 40, 66])\n"
     ]
    },
    {
     "name": "stderr",
     "output_type": "stream",
     "text": [
      "\r",
      " 70%|██████▉   | 127/182 [09:47<03:06,  3.39s/it]"
     ]
    },
    {
     "name": "stdout",
     "output_type": "stream",
     "text": [
      "After backend torch.Size([1, 64, 40, 66])\n",
      "After output layer:  torch.Size([1, 1, 40, 66])\n",
      "Final out torch.Size([1, 1, 320, 528])\n",
      "Before backend torch.Size([1, 512, 46, 68])\n"
     ]
    },
    {
     "name": "stderr",
     "output_type": "stream",
     "text": [
      "\r",
      " 70%|███████   | 128/182 [09:49<02:36,  2.89s/it]"
     ]
    },
    {
     "name": "stdout",
     "output_type": "stream",
     "text": [
      "After backend torch.Size([1, 64, 46, 68])\n",
      "After output layer:  torch.Size([1, 1, 46, 68])\n",
      "Final out torch.Size([1, 1, 368, 544])\n"
     ]
    },
    {
     "name": "stderr",
     "output_type": "stream",
     "text": [
      "\r",
      " 71%|███████   | 129/182 [09:50<02:06,  2.40s/it]"
     ]
    },
    {
     "name": "stdout",
     "output_type": "stream",
     "text": [
      "Before backend torch.Size([1, 512, 34, 56])\n",
      "After backend torch.Size([1, 64, 34, 56])\n",
      "After output layer:  torch.Size([1, 1, 34, 56])\n",
      "Final out torch.Size([1, 1, 272, 448])\n",
      "Before backend torch.Size([1, 512, 86, 128])\n"
     ]
    },
    {
     "name": "stderr",
     "output_type": "stream",
     "text": [
      "\r",
      " 71%|███████▏  | 130/182 [09:57<03:09,  3.65s/it]"
     ]
    },
    {
     "name": "stdout",
     "output_type": "stream",
     "text": [
      "After backend torch.Size([1, 64, 86, 128])\n",
      "After output layer:  torch.Size([1, 1, 86, 128])\n",
      "Final out torch.Size([1, 1, 688, 1024])\n",
      "Before backend torch.Size([1, 512, 84, 128])\n"
     ]
    },
    {
     "name": "stderr",
     "output_type": "stream",
     "text": [
      "\r",
      " 72%|███████▏  | 131/182 [10:03<03:46,  4.43s/it]"
     ]
    },
    {
     "name": "stdout",
     "output_type": "stream",
     "text": [
      "After backend torch.Size([1, 64, 84, 128])\n",
      "After output layer:  torch.Size([1, 1, 84, 128])\n",
      "Final out torch.Size([1, 1, 672, 1024])\n",
      "Before backend torch.Size([1, 512, 84, 128])\n"
     ]
    },
    {
     "name": "stderr",
     "output_type": "stream",
     "text": [
      "\r",
      " 73%|███████▎  | 132/182 [10:09<04:00,  4.82s/it]"
     ]
    },
    {
     "name": "stdout",
     "output_type": "stream",
     "text": [
      "After backend torch.Size([1, 64, 84, 128])\n",
      "After output layer:  torch.Size([1, 1, 84, 128])\n",
      "Final out torch.Size([1, 1, 672, 1024])\n",
      "Before backend torch.Size([1, 512, 52, 80])\n"
     ]
    },
    {
     "name": "stderr",
     "output_type": "stream",
     "text": [
      "\r",
      " 73%|███████▎  | 133/182 [10:11<03:23,  4.16s/it]"
     ]
    },
    {
     "name": "stdout",
     "output_type": "stream",
     "text": [
      "After backend torch.Size([1, 64, 52, 80])\n",
      "After output layer:  torch.Size([1, 1, 52, 80])\n",
      "Final out torch.Size([1, 1, 416, 640])\n",
      "Before backend torch.Size([1, 512, 48, 90])\n"
     ]
    },
    {
     "name": "stderr",
     "output_type": "stream",
     "text": [
      "\r",
      " 74%|███████▎  | 134/182 [10:14<02:53,  3.62s/it]"
     ]
    },
    {
     "name": "stdout",
     "output_type": "stream",
     "text": [
      "After backend torch.Size([1, 64, 48, 90])\n",
      "After output layer:  torch.Size([1, 1, 48, 90])\n",
      "Final out torch.Size([1, 1, 384, 720])\n",
      "Before backend torch.Size([1, 512, 84, 128])\n"
     ]
    },
    {
     "name": "stderr",
     "output_type": "stream",
     "text": [
      "\r",
      " 74%|███████▍  | 135/182 [10:19<03:20,  4.26s/it]"
     ]
    },
    {
     "name": "stdout",
     "output_type": "stream",
     "text": [
      "After backend torch.Size([1, 64, 84, 128])\n",
      "After output layer:  torch.Size([1, 1, 84, 128])\n",
      "Final out torch.Size([1, 1, 672, 1024])\n",
      "Before backend torch.Size([1, 512, 84, 128])\n"
     ]
    },
    {
     "name": "stderr",
     "output_type": "stream",
     "text": [
      "\r",
      " 75%|███████▍  | 136/182 [10:25<03:36,  4.71s/it]"
     ]
    },
    {
     "name": "stdout",
     "output_type": "stream",
     "text": [
      "After backend torch.Size([1, 64, 84, 128])\n",
      "After output layer:  torch.Size([1, 1, 84, 128])\n",
      "Final out torch.Size([1, 1, 672, 1024])\n",
      "Before backend torch.Size([1, 512, 44, 128])\n"
     ]
    },
    {
     "name": "stderr",
     "output_type": "stream",
     "text": [
      "\r",
      " 75%|███████▌  | 137/182 [10:28<03:10,  4.23s/it]"
     ]
    },
    {
     "name": "stdout",
     "output_type": "stream",
     "text": [
      "After backend torch.Size([1, 64, 44, 128])\n",
      "After output layer:  torch.Size([1, 1, 44, 128])\n",
      "Final out torch.Size([1, 1, 352, 1024])\n",
      "There is a grayscale image.\n",
      "Before backend torch.Size([1, 512, 54, 78])\n"
     ]
    },
    {
     "name": "stderr",
     "output_type": "stream",
     "text": [
      "\r",
      " 76%|███████▌  | 138/182 [10:30<02:40,  3.64s/it]"
     ]
    },
    {
     "name": "stdout",
     "output_type": "stream",
     "text": [
      "After backend torch.Size([1, 64, 54, 78])\n",
      "After output layer:  torch.Size([1, 1, 54, 78])\n",
      "Final out torch.Size([1, 1, 432, 624])\n",
      "Before backend torch.Size([1, 512, 96, 128])\n"
     ]
    },
    {
     "name": "stderr",
     "output_type": "stream",
     "text": [
      "\r",
      " 76%|███████▋  | 139/182 [10:37<03:18,  4.61s/it]"
     ]
    },
    {
     "name": "stdout",
     "output_type": "stream",
     "text": [
      "After backend torch.Size([1, 64, 96, 128])\n",
      "After output layer:  torch.Size([1, 1, 96, 128])\n",
      "Final out torch.Size([1, 1, 768, 1024])\n",
      "Before backend torch.Size([1, 512, 50, 76])\n"
     ]
    },
    {
     "name": "stderr",
     "output_type": "stream",
     "text": [
      "\r",
      " 77%|███████▋  | 140/182 [10:39<02:41,  3.85s/it]"
     ]
    },
    {
     "name": "stdout",
     "output_type": "stream",
     "text": [
      "After backend torch.Size([1, 64, 50, 76])\n",
      "After output layer:  torch.Size([1, 1, 50, 76])\n",
      "Final out torch.Size([1, 1, 400, 608])\n",
      "Before backend torch.Size([1, 512, 42, 92])\n"
     ]
    },
    {
     "name": "stderr",
     "output_type": "stream",
     "text": [
      "\r",
      " 77%|███████▋  | 141/182 [10:41<02:16,  3.32s/it]"
     ]
    },
    {
     "name": "stdout",
     "output_type": "stream",
     "text": [
      "After backend torch.Size([1, 64, 42, 92])\n",
      "After output layer:  torch.Size([1, 1, 42, 92])\n",
      "Final out torch.Size([1, 1, 336, 736])\n"
     ]
    },
    {
     "name": "stderr",
     "output_type": "stream",
     "text": [
      "\r",
      " 78%|███████▊  | 142/182 [10:42<01:41,  2.53s/it]"
     ]
    },
    {
     "name": "stdout",
     "output_type": "stream",
     "text": [
      "Before backend torch.Size([1, 512, 28, 42])\n",
      "After backend torch.Size([1, 64, 28, 42])\n",
      "After output layer:  torch.Size([1, 1, 28, 42])\n",
      "Final out torch.Size([1, 1, 224, 336])\n",
      "Before backend torch.Size([1, 512, 76, 128])\n"
     ]
    },
    {
     "name": "stderr",
     "output_type": "stream",
     "text": [
      "\r",
      " 79%|███████▊  | 143/182 [10:48<02:17,  3.51s/it]"
     ]
    },
    {
     "name": "stdout",
     "output_type": "stream",
     "text": [
      "After backend torch.Size([1, 64, 76, 128])\n",
      "After output layer:  torch.Size([1, 1, 76, 128])\n",
      "Final out torch.Size([1, 1, 608, 1024])\n",
      "Before backend torch.Size([1, 512, 84, 128])\n"
     ]
    },
    {
     "name": "stderr",
     "output_type": "stream",
     "text": [
      "\r",
      " 79%|███████▉  | 144/182 [10:54<02:40,  4.21s/it]"
     ]
    },
    {
     "name": "stdout",
     "output_type": "stream",
     "text": [
      "After backend torch.Size([1, 64, 84, 128])\n",
      "After output layer:  torch.Size([1, 1, 84, 128])\n",
      "Final out torch.Size([1, 1, 672, 1024])\n",
      "Before backend torch.Size([1, 512, 84, 128])\n"
     ]
    },
    {
     "name": "stderr",
     "output_type": "stream",
     "text": [
      "\r",
      " 80%|███████▉  | 145/182 [11:00<02:53,  4.69s/it]"
     ]
    },
    {
     "name": "stdout",
     "output_type": "stream",
     "text": [
      "After backend torch.Size([1, 64, 84, 128])\n",
      "After output layer:  torch.Size([1, 1, 84, 128])\n",
      "Final out torch.Size([1, 1, 672, 1024])\n"
     ]
    },
    {
     "name": "stderr",
     "output_type": "stream",
     "text": [
      "\r",
      " 80%|████████  | 146/182 [11:00<02:06,  3.53s/it]"
     ]
    },
    {
     "name": "stdout",
     "output_type": "stream",
     "text": [
      "Before backend torch.Size([1, 512, 28, 50])\n",
      "After backend torch.Size([1, 64, 28, 50])\n",
      "After output layer:  torch.Size([1, 1, 28, 50])\n",
      "Final out torch.Size([1, 1, 224, 400])\n",
      "Before backend torch.Size([1, 512, 94, 128])\n"
     ]
    },
    {
     "name": "stderr",
     "output_type": "stream",
     "text": [
      "\r",
      " 81%|████████  | 147/182 [11:07<02:40,  4.58s/it]"
     ]
    },
    {
     "name": "stdout",
     "output_type": "stream",
     "text": [
      "After backend torch.Size([1, 64, 94, 128])\n",
      "After output layer:  torch.Size([1, 1, 94, 128])\n",
      "Final out torch.Size([1, 1, 752, 1024])\n",
      "Before backend torch.Size([1, 512, 84, 128])\n"
     ]
    },
    {
     "name": "stderr",
     "output_type": "stream",
     "text": [
      "\r",
      " 81%|████████▏ | 148/182 [11:13<02:47,  4.93s/it]"
     ]
    },
    {
     "name": "stdout",
     "output_type": "stream",
     "text": [
      "After backend torch.Size([1, 64, 84, 128])\n",
      "After output layer:  torch.Size([1, 1, 84, 128])\n",
      "Final out torch.Size([1, 1, 672, 1024])\n",
      "Before backend torch.Size([1, 512, 96, 128])\n"
     ]
    },
    {
     "name": "stderr",
     "output_type": "stream",
     "text": [
      "\r",
      " 82%|████████▏ | 149/182 [11:20<03:00,  5.46s/it]"
     ]
    },
    {
     "name": "stdout",
     "output_type": "stream",
     "text": [
      "After backend torch.Size([1, 64, 96, 128])\n",
      "After output layer:  torch.Size([1, 1, 96, 128])\n",
      "Final out torch.Size([1, 1, 768, 1024])\n"
     ]
    },
    {
     "name": "stderr",
     "output_type": "stream",
     "text": [
      "\r",
      " 82%|████████▏ | 150/182 [11:21<02:11,  4.12s/it]"
     ]
    },
    {
     "name": "stdout",
     "output_type": "stream",
     "text": [
      "Before backend torch.Size([1, 512, 34, 56])\n",
      "After backend torch.Size([1, 64, 34, 56])\n",
      "After output layer:  torch.Size([1, 1, 34, 56])\n",
      "Final out torch.Size([1, 1, 272, 448])\n"
     ]
    },
    {
     "name": "stderr",
     "output_type": "stream",
     "text": [
      "\r",
      " 83%|████████▎ | 151/182 [11:22<01:39,  3.22s/it]"
     ]
    },
    {
     "name": "stdout",
     "output_type": "stream",
     "text": [
      "Before backend torch.Size([1, 512, 36, 56])\n",
      "After backend torch.Size([1, 64, 36, 56])\n",
      "After output layer:  torch.Size([1, 1, 36, 56])\n",
      "Final out torch.Size([1, 1, 288, 448])\n",
      "Before backend torch.Size([1, 512, 84, 128])\n"
     ]
    },
    {
     "name": "stderr",
     "output_type": "stream",
     "text": [
      "\r",
      " 84%|████████▎ | 152/182 [11:28<01:59,  3.97s/it]"
     ]
    },
    {
     "name": "stdout",
     "output_type": "stream",
     "text": [
      "After backend torch.Size([1, 64, 84, 128])\n",
      "After output layer:  torch.Size([1, 1, 84, 128])\n",
      "Final out torch.Size([1, 1, 672, 1024])\n",
      "Before backend torch.Size([1, 512, 78, 128])\n"
     ]
    },
    {
     "name": "stderr",
     "output_type": "stream",
     "text": [
      "\r",
      " 84%|████████▍ | 153/182 [11:34<02:17,  4.76s/it]"
     ]
    },
    {
     "name": "stdout",
     "output_type": "stream",
     "text": [
      "After backend torch.Size([1, 64, 78, 128])\n",
      "After output layer:  torch.Size([1, 1, 78, 128])\n",
      "Final out torch.Size([1, 1, 624, 1024])\n",
      "Before backend torch.Size([1, 512, 62, 94])\n"
     ]
    },
    {
     "name": "stderr",
     "output_type": "stream",
     "text": [
      "\r",
      " 85%|████████▍ | 154/182 [11:37<01:59,  4.27s/it]"
     ]
    },
    {
     "name": "stdout",
     "output_type": "stream",
     "text": [
      "After backend torch.Size([1, 64, 62, 94])\n",
      "After output layer:  torch.Size([1, 1, 62, 94])\n",
      "Final out torch.Size([1, 1, 496, 752])\n"
     ]
    },
    {
     "name": "stderr",
     "output_type": "stream",
     "text": [
      "\r",
      " 85%|████████▌ | 155/182 [11:38<01:29,  3.30s/it]"
     ]
    },
    {
     "name": "stdout",
     "output_type": "stream",
     "text": [
      "Before backend torch.Size([1, 512, 36, 56])\n",
      "After backend torch.Size([1, 64, 36, 56])\n",
      "After output layer:  torch.Size([1, 1, 36, 56])\n",
      "Final out torch.Size([1, 1, 288, 448])\n",
      "Before backend torch.Size([1, 512, 84, 128])\n"
     ]
    },
    {
     "name": "stderr",
     "output_type": "stream",
     "text": [
      "\r",
      " 86%|████████▌ | 156/182 [11:45<01:47,  4.12s/it]"
     ]
    },
    {
     "name": "stdout",
     "output_type": "stream",
     "text": [
      "After backend torch.Size([1, 64, 84, 128])\n",
      "After output layer:  torch.Size([1, 1, 84, 128])\n",
      "Final out torch.Size([1, 1, 672, 1024])\n",
      "Before backend torch.Size([1, 512, 84, 128])\n"
     ]
    },
    {
     "name": "stderr",
     "output_type": "stream",
     "text": [
      "\r",
      " 86%|████████▋ | 157/182 [11:50<01:55,  4.61s/it]"
     ]
    },
    {
     "name": "stdout",
     "output_type": "stream",
     "text": [
      "After backend torch.Size([1, 64, 84, 128])\n",
      "After output layer:  torch.Size([1, 1, 84, 128])\n",
      "Final out torch.Size([1, 1, 672, 1024])\n",
      "Before backend torch.Size([1, 512, 84, 128])\n"
     ]
    },
    {
     "name": "stderr",
     "output_type": "stream",
     "text": [
      "\r",
      " 87%|████████▋ | 158/182 [11:56<01:58,  4.95s/it]"
     ]
    },
    {
     "name": "stdout",
     "output_type": "stream",
     "text": [
      "After backend torch.Size([1, 64, 84, 128])\n",
      "After output layer:  torch.Size([1, 1, 84, 128])\n",
      "Final out torch.Size([1, 1, 672, 1024])\n"
     ]
    },
    {
     "name": "stderr",
     "output_type": "stream",
     "text": [
      "\r",
      " 87%|████████▋ | 159/182 [11:57<01:24,  3.69s/it]"
     ]
    },
    {
     "name": "stdout",
     "output_type": "stream",
     "text": [
      "Before backend torch.Size([1, 512, 28, 50])\n",
      "After backend torch.Size([1, 64, 28, 50])\n",
      "After output layer:  torch.Size([1, 1, 28, 50])\n",
      "Final out torch.Size([1, 1, 224, 400])\n",
      "There is a grayscale image.\n",
      "Before backend torch.Size([1, 512, 98, 128])\n"
     ]
    },
    {
     "name": "stderr",
     "output_type": "stream",
     "text": [
      "\r",
      " 88%|████████▊ | 160/182 [12:04<01:44,  4.77s/it]"
     ]
    },
    {
     "name": "stdout",
     "output_type": "stream",
     "text": [
      "After backend torch.Size([1, 64, 98, 128])\n",
      "After output layer:  torch.Size([1, 1, 98, 128])\n",
      "Final out torch.Size([1, 1, 784, 1024])\n",
      "Before backend torch.Size([1, 512, 76, 58])\n"
     ]
    },
    {
     "name": "stderr",
     "output_type": "stream",
     "text": [
      "\r",
      " 88%|████████▊ | 161/182 [12:06<01:25,  4.05s/it]"
     ]
    },
    {
     "name": "stdout",
     "output_type": "stream",
     "text": [
      "After backend torch.Size([1, 64, 76, 58])\n",
      "After output layer:  torch.Size([1, 1, 76, 58])\n",
      "Final out torch.Size([1, 1, 608, 464])\n",
      "Before backend torch.Size([1, 512, 68, 128])\n"
     ]
    },
    {
     "name": "stderr",
     "output_type": "stream",
     "text": [
      "\r",
      " 89%|████████▉ | 162/182 [12:12<01:27,  4.40s/it]"
     ]
    },
    {
     "name": "stdout",
     "output_type": "stream",
     "text": [
      "After backend torch.Size([1, 64, 68, 128])\n",
      "After output layer:  torch.Size([1, 1, 68, 128])\n",
      "Final out torch.Size([1, 1, 544, 1024])\n",
      "Before backend torch.Size([1, 512, 72, 128])\n"
     ]
    },
    {
     "name": "stderr",
     "output_type": "stream",
     "text": [
      "\r",
      " 90%|████████▉ | 163/182 [12:17<01:29,  4.73s/it]"
     ]
    },
    {
     "name": "stdout",
     "output_type": "stream",
     "text": [
      "After backend torch.Size([1, 64, 72, 128])\n",
      "After output layer:  torch.Size([1, 1, 72, 128])\n",
      "Final out torch.Size([1, 1, 576, 1024])\n",
      "Before backend torch.Size([1, 512, 96, 128])\n"
     ]
    },
    {
     "name": "stderr",
     "output_type": "stream",
     "text": [
      "\r",
      " 90%|█████████ | 164/182 [12:24<01:37,  5.41s/it]"
     ]
    },
    {
     "name": "stdout",
     "output_type": "stream",
     "text": [
      "After backend torch.Size([1, 64, 96, 128])\n",
      "After output layer:  torch.Size([1, 1, 96, 128])\n",
      "Final out torch.Size([1, 1, 768, 1024])\n",
      "Before backend torch.Size([1, 512, 116, 128])\n"
     ]
    },
    {
     "name": "stderr",
     "output_type": "stream",
     "text": [
      "\r",
      " 91%|█████████ | 165/182 [12:33<01:49,  6.46s/it]"
     ]
    },
    {
     "name": "stdout",
     "output_type": "stream",
     "text": [
      "After backend torch.Size([1, 64, 116, 128])\n",
      "After output layer:  torch.Size([1, 1, 116, 128])\n",
      "Final out torch.Size([1, 1, 928, 1024])\n",
      "Before backend torch.Size([1, 512, 82, 124])\n"
     ]
    },
    {
     "name": "stderr",
     "output_type": "stream",
     "text": [
      "\r",
      " 91%|█████████ | 166/182 [12:39<01:41,  6.37s/it]"
     ]
    },
    {
     "name": "stdout",
     "output_type": "stream",
     "text": [
      "After backend torch.Size([1, 64, 82, 124])\n",
      "After output layer:  torch.Size([1, 1, 82, 124])\n",
      "Final out torch.Size([1, 1, 656, 992])\n",
      "Before backend torch.Size([1, 512, 56, 80])\n"
     ]
    },
    {
     "name": "stderr",
     "output_type": "stream",
     "text": [
      "\r",
      " 92%|█████████▏| 167/182 [12:42<01:17,  5.18s/it]"
     ]
    },
    {
     "name": "stdout",
     "output_type": "stream",
     "text": [
      "After backend torch.Size([1, 64, 56, 80])\n",
      "After output layer:  torch.Size([1, 1, 56, 80])\n",
      "Final out torch.Size([1, 1, 448, 640])\n",
      "Before backend torch.Size([1, 512, 68, 98])\n"
     ]
    },
    {
     "name": "stderr",
     "output_type": "stream",
     "text": [
      "\r",
      " 92%|█████████▏| 168/182 [12:46<01:07,  4.85s/it]"
     ]
    },
    {
     "name": "stdout",
     "output_type": "stream",
     "text": [
      "After backend torch.Size([1, 64, 68, 98])\n",
      "After output layer:  torch.Size([1, 1, 68, 98])\n",
      "Final out torch.Size([1, 1, 544, 784])\n",
      "Before backend torch.Size([1, 512, 84, 128])\n"
     ]
    },
    {
     "name": "stderr",
     "output_type": "stream",
     "text": [
      "\r",
      " 93%|█████████▎| 169/182 [12:52<01:09,  5.33s/it]"
     ]
    },
    {
     "name": "stdout",
     "output_type": "stream",
     "text": [
      "After backend torch.Size([1, 64, 84, 128])\n",
      "After output layer:  torch.Size([1, 1, 84, 128])\n",
      "Final out torch.Size([1, 1, 672, 1024])\n",
      "Before backend torch.Size([1, 512, 84, 128])\n"
     ]
    },
    {
     "name": "stderr",
     "output_type": "stream",
     "text": [
      "\r",
      " 93%|█████████▎| 170/182 [12:59<01:07,  5.66s/it]"
     ]
    },
    {
     "name": "stdout",
     "output_type": "stream",
     "text": [
      "After backend torch.Size([1, 64, 84, 128])\n",
      "After output layer:  torch.Size([1, 1, 84, 128])\n",
      "Final out torch.Size([1, 1, 672, 1024])\n",
      "Before backend torch.Size([1, 512, 90, 128])\n"
     ]
    },
    {
     "name": "stderr",
     "output_type": "stream",
     "text": [
      "\r",
      " 94%|█████████▍| 171/182 [13:06<01:07,  6.10s/it]"
     ]
    },
    {
     "name": "stdout",
     "output_type": "stream",
     "text": [
      "After backend torch.Size([1, 64, 90, 128])\n",
      "After output layer:  torch.Size([1, 1, 90, 128])\n",
      "Final out torch.Size([1, 1, 720, 1024])\n",
      "Before backend torch.Size([1, 512, 82, 128])\n"
     ]
    },
    {
     "name": "stderr",
     "output_type": "stream",
     "text": [
      "\r",
      " 95%|█████████▍| 172/182 [13:13<01:03,  6.36s/it]"
     ]
    },
    {
     "name": "stdout",
     "output_type": "stream",
     "text": [
      "After backend torch.Size([1, 64, 82, 128])\n",
      "After output layer:  torch.Size([1, 1, 82, 128])\n",
      "Final out torch.Size([1, 1, 656, 1024])\n",
      "Before backend torch.Size([1, 512, 52, 128])\n"
     ]
    },
    {
     "name": "stderr",
     "output_type": "stream",
     "text": [
      "\r",
      " 95%|█████████▌| 173/182 [13:16<00:49,  5.53s/it]"
     ]
    },
    {
     "name": "stdout",
     "output_type": "stream",
     "text": [
      "After backend torch.Size([1, 64, 52, 128])\n",
      "After output layer:  torch.Size([1, 1, 52, 128])\n",
      "Final out torch.Size([1, 1, 416, 1024])\n",
      "Before backend torch.Size([1, 512, 66, 90])\n"
     ]
    },
    {
     "name": "stderr",
     "output_type": "stream",
     "text": [
      "\r",
      " 96%|█████████▌| 174/182 [13:20<00:38,  4.86s/it]"
     ]
    },
    {
     "name": "stdout",
     "output_type": "stream",
     "text": [
      "After backend torch.Size([1, 64, 66, 90])\n",
      "After output layer:  torch.Size([1, 1, 66, 90])\n",
      "Final out torch.Size([1, 1, 528, 720])\n"
     ]
    },
    {
     "name": "stderr",
     "output_type": "stream",
     "text": [
      "\r",
      " 96%|█████████▌| 175/182 [13:20<00:24,  3.55s/it]"
     ]
    },
    {
     "name": "stdout",
     "output_type": "stream",
     "text": [
      "Before backend torch.Size([1, 512, 24, 36])\n",
      "After backend torch.Size([1, 64, 24, 36])\n",
      "After output layer:  torch.Size([1, 1, 24, 36])\n",
      "Final out torch.Size([1, 1, 192, 288])\n",
      "Before backend torch.Size([1, 512, 84, 128])\n"
     ]
    },
    {
     "name": "stderr",
     "output_type": "stream",
     "text": [
      "\r",
      " 97%|█████████▋| 176/182 [13:26<00:25,  4.26s/it]"
     ]
    },
    {
     "name": "stdout",
     "output_type": "stream",
     "text": [
      "After backend torch.Size([1, 64, 84, 128])\n",
      "After output layer:  torch.Size([1, 1, 84, 128])\n",
      "Final out torch.Size([1, 1, 672, 1024])\n",
      "Before backend torch.Size([1, 512, 46, 100])\n"
     ]
    },
    {
     "name": "stderr",
     "output_type": "stream",
     "text": [
      "\r",
      " 97%|█████████▋| 177/182 [13:29<00:18,  3.78s/it]"
     ]
    },
    {
     "name": "stdout",
     "output_type": "stream",
     "text": [
      "After backend torch.Size([1, 64, 46, 100])\n",
      "After output layer:  torch.Size([1, 1, 46, 100])\n",
      "Final out torch.Size([1, 1, 368, 800])\n",
      "Before backend torch.Size([1, 512, 96, 128])\n"
     ]
    },
    {
     "name": "stderr",
     "output_type": "stream",
     "text": [
      "\r",
      " 98%|█████████▊| 178/182 [13:36<00:19,  4.84s/it]"
     ]
    },
    {
     "name": "stdout",
     "output_type": "stream",
     "text": [
      "After backend torch.Size([1, 64, 96, 128])\n",
      "After output layer:  torch.Size([1, 1, 96, 128])\n",
      "Final out torch.Size([1, 1, 768, 1024])\n",
      "Before backend torch.Size([1, 512, 84, 128])\n"
     ]
    },
    {
     "name": "stderr",
     "output_type": "stream",
     "text": [
      "\r",
      " 98%|█████████▊| 179/182 [13:42<00:15,  5.27s/it]"
     ]
    },
    {
     "name": "stdout",
     "output_type": "stream",
     "text": [
      "After backend torch.Size([1, 64, 84, 128])\n",
      "After output layer:  torch.Size([1, 1, 84, 128])\n",
      "Final out torch.Size([1, 1, 672, 1024])\n",
      "Before backend torch.Size([1, 512, 50, 128])\n"
     ]
    },
    {
     "name": "stderr",
     "output_type": "stream",
     "text": [
      "\r",
      " 99%|█████████▉| 180/182 [13:46<00:09,  4.87s/it]"
     ]
    },
    {
     "name": "stdout",
     "output_type": "stream",
     "text": [
      "After backend torch.Size([1, 64, 50, 128])\n",
      "After output layer:  torch.Size([1, 1, 50, 128])\n",
      "Final out torch.Size([1, 1, 400, 1024])\n",
      "Before backend torch.Size([1, 512, 84, 128])\n"
     ]
    },
    {
     "name": "stderr",
     "output_type": "stream",
     "text": [
      "\r",
      " 99%|█████████▉| 181/182 [13:52<00:05,  5.23s/it]"
     ]
    },
    {
     "name": "stdout",
     "output_type": "stream",
     "text": [
      "After backend torch.Size([1, 64, 84, 128])\n",
      "After output layer:  torch.Size([1, 1, 84, 128])\n",
      "Final out torch.Size([1, 1, 672, 1024])\n",
      "Before backend torch.Size([1, 512, 66, 104])\n"
     ]
    },
    {
     "name": "stderr",
     "output_type": "stream",
     "text": [
      "100%|██████████| 182/182 [13:56<00:00,  4.60s/it]"
     ]
    },
    {
     "name": "stdout",
     "output_type": "stream",
     "text": [
      "After backend torch.Size([1, 64, 66, 104])\n",
      "After output layer:  torch.Size([1, 1, 66, 104])\n",
      "Final out torch.Size([1, 1, 528, 832])\n",
      "Epoch  1  MAE:  190.93552469945215  Min MAE:  190.93552469945215  Min Epoch:  1\n"
     ]
    },
    {
     "name": "stderr",
     "output_type": "stream",
     "text": [
      "\n",
      "  0%|          | 0/300 [00:00<?, ?it/s]"
     ]
    },
    {
     "name": "stdout",
     "output_type": "stream",
     "text": [
      "Before backend torch.Size([1, 512, 82, 124])\n",
      "After backend torch.Size([1, 64, 82, 124])\n",
      "After output layer:  torch.Size([1, 1, 82, 124])\n",
      "Final out torch.Size([1, 1, 656, 992])\n"
     ]
    },
    {
     "name": "stderr",
     "output_type": "stream",
     "text": [
      "\r",
      "  0%|          | 1/300 [00:18<1:29:56, 18.05s/it]"
     ]
    },
    {
     "name": "stdout",
     "output_type": "stream",
     "text": [
      "Before backend torch.Size([1, 512, 88, 128])\n",
      "After backend torch.Size([1, 64, 88, 128])\n",
      "After output layer:  torch.Size([1, 1, 88, 128])\n",
      "Final out torch.Size([1, 1, 704, 1024])\n"
     ]
    },
    {
     "name": "stderr",
     "output_type": "stream",
     "text": [
      "\r",
      "  1%|          | 2/300 [00:39<1:34:08, 18.96s/it]"
     ]
    },
    {
     "name": "stdout",
     "output_type": "stream",
     "text": [
      "Before backend torch.Size([1, 512, 84, 128])\n",
      "After backend torch.Size([1, 64, 84, 128])\n",
      "After output layer:  torch.Size([1, 1, 84, 128])\n",
      "Final out torch.Size([1, 1, 672, 1024])\n"
     ]
    },
    {
     "name": "stderr",
     "output_type": "stream",
     "text": [
      "\r",
      "  1%|          | 3/300 [00:57<1:32:19, 18.65s/it]"
     ]
    },
    {
     "name": "stdout",
     "output_type": "stream",
     "text": [
      "Before backend torch.Size([1, 512, 46, 128])\n",
      "After backend torch.Size([1, 64, 46, 128])\n",
      "After output layer:  torch.Size([1, 1, 46, 128])\n",
      "Final out torch.Size([1, 1, 368, 1024])\n"
     ]
    },
    {
     "name": "stderr",
     "output_type": "stream",
     "text": [
      "\r",
      "  1%|▏         | 4/300 [01:07<1:19:10, 16.05s/it]"
     ]
    },
    {
     "name": "stdout",
     "output_type": "stream",
     "text": [
      "Before backend torch.Size([1, 512, 84, 128])\n",
      "After backend torch.Size([1, 64, 84, 128])\n",
      "After output layer:  torch.Size([1, 1, 84, 128])\n",
      "Final out torch.Size([1, 1, 672, 1024])\n"
     ]
    },
    {
     "name": "stderr",
     "output_type": "stream",
     "text": [
      "\r",
      "  2%|▏         | 5/300 [01:26<1:23:13, 16.93s/it]"
     ]
    },
    {
     "name": "stdout",
     "output_type": "stream",
     "text": [
      "Before backend torch.Size([1, 512, 82, 128])\n",
      "After backend torch.Size([1, 64, 82, 128])\n",
      "After output layer:  torch.Size([1, 1, 82, 128])\n",
      "Final out torch.Size([1, 1, 656, 1024])\n"
     ]
    },
    {
     "name": "stderr",
     "output_type": "stream",
     "text": [
      "\r",
      "  2%|▏         | 6/300 [01:43<1:24:21, 17.22s/it]"
     ]
    },
    {
     "name": "stdout",
     "output_type": "stream",
     "text": [
      "Before backend torch.Size([1, 512, 34, 46])\n",
      "After backend torch.Size([1, 64, 34, 46])\n",
      "After output layer:  torch.Size([1, 1, 34, 46])\n",
      "Final out torch.Size([1, 1, 272, 368])\n"
     ]
    },
    {
     "name": "stderr",
     "output_type": "stream",
     "text": [
      "\r",
      "  2%|▏         | 7/300 [01:46<1:02:56, 12.89s/it]"
     ]
    },
    {
     "name": "stdout",
     "output_type": "stream",
     "text": [
      "Before backend torch.Size([1, 512, 98, 128])\n",
      "After backend torch.Size([1, 64, 98, 128])\n",
      "After output layer:  torch.Size([1, 1, 98, 128])\n",
      "Final out torch.Size([1, 1, 784, 1024])\n"
     ]
    },
    {
     "name": "stderr",
     "output_type": "stream",
     "text": [
      "\r",
      "  3%|▎         | 8/300 [02:08<1:16:23, 15.70s/it]"
     ]
    },
    {
     "name": "stdout",
     "output_type": "stream",
     "text": [
      "Before backend torch.Size([1, 512, 66, 128])\n",
      "After backend torch.Size([1, 64, 66, 128])\n",
      "After output layer:  torch.Size([1, 1, 66, 128])\n",
      "Final out torch.Size([1, 1, 528, 1024])\n"
     ]
    },
    {
     "name": "stderr",
     "output_type": "stream",
     "text": [
      "\r",
      "  3%|▎         | 9/300 [02:23<1:14:32, 15.37s/it]"
     ]
    },
    {
     "name": "stdout",
     "output_type": "stream",
     "text": [
      "Before backend torch.Size([1, 512, 94, 128])\n",
      "After backend torch.Size([1, 64, 94, 128])\n",
      "After output layer:  torch.Size([1, 1, 94, 128])\n",
      "Final out torch.Size([1, 1, 752, 1024])\n"
     ]
    },
    {
     "name": "stderr",
     "output_type": "stream",
     "text": [
      "\r",
      "  3%|▎         | 10/300 [02:45<1:23:28, 17.27s/it]"
     ]
    },
    {
     "name": "stdout",
     "output_type": "stream",
     "text": [
      "Before backend torch.Size([1, 512, 46, 62])\n",
      "After backend torch.Size([1, 64, 46, 62])\n",
      "After output layer:  torch.Size([1, 1, 46, 62])\n",
      "Final out torch.Size([1, 1, 368, 496])\n"
     ]
    },
    {
     "name": "stderr",
     "output_type": "stream",
     "text": [
      "\r",
      "  4%|▎         | 11/300 [02:50<1:05:12, 13.54s/it]"
     ]
    },
    {
     "name": "stdout",
     "output_type": "stream",
     "text": [
      "Before backend torch.Size([1, 512, 50, 74])\n",
      "After backend torch.Size([1, 64, 50, 74])\n",
      "After output layer:  torch.Size([1, 1, 50, 74])\n",
      "Final out torch.Size([1, 1, 400, 592])\n"
     ]
    },
    {
     "name": "stderr",
     "output_type": "stream",
     "text": [
      "\r",
      "  4%|▍         | 12/300 [02:56<54:03, 11.26s/it]  "
     ]
    },
    {
     "name": "stdout",
     "output_type": "stream",
     "text": [
      "There is a grayscale image.\n",
      "Before backend torch.Size([1, 512, 80, 128])\n",
      "After backend torch.Size([1, 64, 80, 128])\n",
      "After output layer:  torch.Size([1, 1, 80, 128])\n",
      "Final out torch.Size([1, 1, 640, 1024])\n"
     ]
    },
    {
     "name": "stderr",
     "output_type": "stream",
     "text": [
      "\r",
      "  4%|▍         | 13/300 [03:14<1:03:46, 13.33s/it]"
     ]
    },
    {
     "name": "stdout",
     "output_type": "stream",
     "text": [
      "Before backend torch.Size([1, 512, 72, 128])\n",
      "After backend torch.Size([1, 64, 72, 128])\n",
      "After output layer:  torch.Size([1, 1, 72, 128])\n",
      "Final out torch.Size([1, 1, 576, 1024])\n"
     ]
    },
    {
     "name": "stderr",
     "output_type": "stream",
     "text": [
      "\r",
      "  5%|▍         | 14/300 [03:32<1:10:21, 14.76s/it]"
     ]
    },
    {
     "name": "stdout",
     "output_type": "stream",
     "text": [
      "Before backend torch.Size([1, 512, 36, 54])\n",
      "After backend torch.Size([1, 64, 36, 54])\n",
      "After output layer:  torch.Size([1, 1, 36, 54])\n",
      "Final out torch.Size([1, 1, 288, 432])\n"
     ]
    },
    {
     "name": "stderr",
     "output_type": "stream",
     "text": [
      "\r",
      "  5%|▌         | 15/300 [03:35<53:59, 11.37s/it]  "
     ]
    },
    {
     "name": "stdout",
     "output_type": "stream",
     "text": [
      "Before backend torch.Size([1, 512, 90, 128])\n",
      "After backend torch.Size([1, 64, 90, 128])\n",
      "After output layer:  torch.Size([1, 1, 90, 128])\n",
      "Final out torch.Size([1, 1, 720, 1024])\n"
     ]
    },
    {
     "name": "stderr",
     "output_type": "stream",
     "text": [
      "\r",
      "  5%|▌         | 16/300 [03:56<1:07:01, 14.16s/it]"
     ]
    },
    {
     "name": "stdout",
     "output_type": "stream",
     "text": [
      "Before backend torch.Size([1, 512, 22, 58])\n",
      "After backend torch.Size([1, 64, 22, 58])\n",
      "After output layer:  torch.Size([1, 1, 22, 58])\n",
      "Final out torch.Size([1, 1, 176, 464])\n"
     ]
    },
    {
     "name": "stderr",
     "output_type": "stream",
     "text": [
      "\r",
      "  6%|▌         | 17/300 [03:58<50:00, 10.60s/it]  "
     ]
    },
    {
     "name": "stdout",
     "output_type": "stream",
     "text": [
      "Before backend torch.Size([1, 512, 96, 128])\n",
      "After backend torch.Size([1, 64, 96, 128])\n",
      "After output layer:  torch.Size([1, 1, 96, 128])\n",
      "Final out torch.Size([1, 1, 768, 1024])\n"
     ]
    },
    {
     "name": "stderr",
     "output_type": "stream",
     "text": [
      "\r",
      "  6%|▌         | 18/300 [04:20<1:05:24, 13.92s/it]"
     ]
    },
    {
     "name": "stdout",
     "output_type": "stream",
     "text": [
      "Before backend torch.Size([1, 512, 82, 120])\n",
      "After backend torch.Size([1, 64, 82, 120])\n",
      "After output layer:  torch.Size([1, 1, 82, 120])\n",
      "Final out torch.Size([1, 1, 656, 960])\n"
     ]
    },
    {
     "name": "stderr",
     "output_type": "stream",
     "text": [
      "\r",
      "  6%|▋         | 19/300 [04:37<1:09:09, 14.77s/it]"
     ]
    },
    {
     "name": "stdout",
     "output_type": "stream",
     "text": [
      "Before backend torch.Size([1, 512, 70, 118])\n",
      "After backend torch.Size([1, 64, 70, 118])\n",
      "After output layer:  torch.Size([1, 1, 70, 118])\n",
      "Final out torch.Size([1, 1, 560, 944])\n"
     ]
    },
    {
     "name": "stderr",
     "output_type": "stream",
     "text": [
      "\r",
      "  7%|▋         | 20/300 [04:50<1:06:51, 14.33s/it]"
     ]
    },
    {
     "name": "stdout",
     "output_type": "stream",
     "text": [
      "Before backend torch.Size([1, 512, 74, 112])\n",
      "After backend torch.Size([1, 64, 74, 112])\n",
      "After output layer:  torch.Size([1, 1, 74, 112])\n",
      "Final out torch.Size([1, 1, 592, 896])\n"
     ]
    },
    {
     "name": "stderr",
     "output_type": "stream",
     "text": [
      "\r",
      "  7%|▋         | 21/300 [05:05<1:07:11, 14.45s/it]"
     ]
    },
    {
     "name": "stdout",
     "output_type": "stream",
     "text": [
      "Before backend torch.Size([1, 512, 86, 128])\n",
      "After backend torch.Size([1, 64, 86, 128])\n",
      "After output layer:  torch.Size([1, 1, 86, 128])\n",
      "Final out torch.Size([1, 1, 688, 1024])\n"
     ]
    },
    {
     "name": "stderr",
     "output_type": "stream",
     "text": [
      "\r",
      "  7%|▋         | 22/300 [05:24<1:14:23, 16.05s/it]"
     ]
    },
    {
     "name": "stdout",
     "output_type": "stream",
     "text": [
      "Before backend torch.Size([1, 512, 84, 128])\n",
      "After backend torch.Size([1, 64, 84, 128])\n",
      "After output layer:  torch.Size([1, 1, 84, 128])\n",
      "Final out torch.Size([1, 1, 672, 1024])\n"
     ]
    },
    {
     "name": "stderr",
     "output_type": "stream",
     "text": [
      "\r",
      "  8%|▊         | 23/300 [05:44<1:19:20, 17.19s/it]"
     ]
    },
    {
     "name": "stdout",
     "output_type": "stream",
     "text": [
      "Before backend torch.Size([1, 512, 98, 128])\n",
      "After backend torch.Size([1, 64, 98, 128])\n",
      "After output layer:  torch.Size([1, 1, 98, 128])\n",
      "Final out torch.Size([1, 1, 784, 1024])\n"
     ]
    },
    {
     "name": "stderr",
     "output_type": "stream",
     "text": [
      "\r",
      "  8%|▊         | 24/300 [06:08<1:27:31, 19.03s/it]"
     ]
    },
    {
     "name": "stdout",
     "output_type": "stream",
     "text": [
      "Before backend torch.Size([1, 512, 32, 62])\n",
      "After backend torch.Size([1, 64, 32, 62])\n",
      "After output layer:  torch.Size([1, 1, 32, 62])\n",
      "Final out torch.Size([1, 1, 256, 496])\n"
     ]
    },
    {
     "name": "stderr",
     "output_type": "stream",
     "text": [
      "\r",
      "  8%|▊         | 25/300 [06:11<1:06:09, 14.43s/it]"
     ]
    },
    {
     "name": "stdout",
     "output_type": "stream",
     "text": [
      "Before backend torch.Size([1, 512, 40, 128])\n",
      "After backend torch.Size([1, 64, 40, 128])\n",
      "After output layer:  torch.Size([1, 1, 40, 128])\n",
      "Final out torch.Size([1, 1, 320, 1024])\n"
     ]
    },
    {
     "name": "stderr",
     "output_type": "stream",
     "text": [
      "\r",
      "  9%|▊         | 26/300 [06:21<59:07, 12.95s/it]  "
     ]
    },
    {
     "name": "stdout",
     "output_type": "stream",
     "text": [
      "Before backend torch.Size([1, 512, 74, 112])\n",
      "After backend torch.Size([1, 64, 74, 112])\n",
      "After output layer:  torch.Size([1, 1, 74, 112])\n",
      "Final out torch.Size([1, 1, 592, 896])\n"
     ]
    },
    {
     "name": "stderr",
     "output_type": "stream",
     "text": [
      "\r",
      "  9%|▉         | 27/300 [06:35<1:01:02, 13.41s/it]"
     ]
    },
    {
     "name": "stdout",
     "output_type": "stream",
     "text": [
      "Before backend torch.Size([1, 512, 52, 80])\n",
      "After backend torch.Size([1, 64, 52, 80])\n",
      "After output layer:  torch.Size([1, 1, 52, 80])\n",
      "Final out torch.Size([1, 1, 416, 640])\n"
     ]
    },
    {
     "name": "stderr",
     "output_type": "stream",
     "text": [
      "\r",
      "  9%|▉         | 28/300 [06:43<52:58, 11.68s/it]  "
     ]
    },
    {
     "name": "stdout",
     "output_type": "stream",
     "text": [
      "Before backend torch.Size([1, 512, 52, 78])\n",
      "After backend torch.Size([1, 64, 52, 78])\n",
      "After output layer:  torch.Size([1, 1, 52, 78])\n",
      "Final out torch.Size([1, 1, 416, 624])\n"
     ]
    },
    {
     "name": "stderr",
     "output_type": "stream",
     "text": [
      "\r",
      " 10%|▉         | 29/300 [06:50<46:25, 10.28s/it]"
     ]
    },
    {
     "name": "stdout",
     "output_type": "stream",
     "text": [
      "Before backend torch.Size([1, 512, 96, 128])\n",
      "After backend torch.Size([1, 64, 96, 128])\n",
      "After output layer:  torch.Size([1, 1, 96, 128])\n",
      "Final out torch.Size([1, 1, 768, 1024])\n"
     ]
    },
    {
     "name": "stderr",
     "output_type": "stream",
     "text": [
      "\r",
      " 10%|█         | 30/300 [07:11<1:00:08, 13.37s/it]"
     ]
    },
    {
     "name": "stdout",
     "output_type": "stream",
     "text": [
      "Before backend torch.Size([1, 512, 96, 128])\n",
      "After backend torch.Size([1, 64, 96, 128])\n",
      "After output layer:  torch.Size([1, 1, 96, 128])\n",
      "Final out torch.Size([1, 1, 768, 1024])\n"
     ]
    },
    {
     "name": "stderr",
     "output_type": "stream",
     "text": [
      "\r",
      " 10%|█         | 31/300 [07:31<1:10:04, 15.63s/it]"
     ]
    },
    {
     "name": "stdout",
     "output_type": "stream",
     "text": [
      "Before backend torch.Size([1, 512, 84, 128])\n",
      "After backend torch.Size([1, 64, 84, 128])\n",
      "After output layer:  torch.Size([1, 1, 84, 128])\n",
      "Final out torch.Size([1, 1, 672, 1024])\n"
     ]
    },
    {
     "name": "stderr",
     "output_type": "stream",
     "text": [
      "\r",
      " 11%|█         | 32/300 [07:49<1:12:53, 16.32s/it]"
     ]
    },
    {
     "name": "stdout",
     "output_type": "stream",
     "text": [
      "Before backend torch.Size([1, 512, 100, 72])\n",
      "After backend torch.Size([1, 64, 100, 72])\n",
      "After output layer:  torch.Size([1, 1, 100, 72])\n",
      "Final out torch.Size([1, 1, 800, 576])\n"
     ]
    },
    {
     "name": "stderr",
     "output_type": "stream",
     "text": [
      "\r",
      " 11%|█         | 33/300 [08:01<1:06:22, 14.91s/it]"
     ]
    },
    {
     "name": "stdout",
     "output_type": "stream",
     "text": [
      "Before backend torch.Size([1, 512, 72, 128])\n",
      "After backend torch.Size([1, 64, 72, 128])\n",
      "After output layer:  torch.Size([1, 1, 72, 128])\n",
      "Final out torch.Size([1, 1, 576, 1024])\n"
     ]
    },
    {
     "name": "stderr",
     "output_type": "stream",
     "text": [
      "\r",
      " 11%|█▏        | 34/300 [08:17<1:07:24, 15.20s/it]"
     ]
    },
    {
     "name": "stdout",
     "output_type": "stream",
     "text": [
      "Before backend torch.Size([1, 512, 74, 100])\n",
      "After backend torch.Size([1, 64, 74, 100])\n",
      "After output layer:  torch.Size([1, 1, 74, 100])\n",
      "Final out torch.Size([1, 1, 592, 800])\n"
     ]
    },
    {
     "name": "stderr",
     "output_type": "stream",
     "text": [
      "\r",
      " 12%|█▏        | 35/300 [08:30<1:04:03, 14.51s/it]"
     ]
    },
    {
     "name": "stdout",
     "output_type": "stream",
     "text": [
      "Before backend torch.Size([1, 512, 74, 128])\n",
      "After backend torch.Size([1, 64, 74, 128])\n",
      "After output layer:  torch.Size([1, 1, 74, 128])\n",
      "Final out torch.Size([1, 1, 592, 1024])\n"
     ]
    },
    {
     "name": "stderr",
     "output_type": "stream",
     "text": [
      "\r",
      " 12%|█▏        | 36/300 [08:47<1:07:39, 15.38s/it]"
     ]
    },
    {
     "name": "stdout",
     "output_type": "stream",
     "text": [
      "Before backend torch.Size([1, 512, 96, 128])\n",
      "After backend torch.Size([1, 64, 96, 128])\n",
      "After output layer:  torch.Size([1, 1, 96, 128])\n",
      "Final out torch.Size([1, 1, 768, 1024])\n"
     ]
    },
    {
     "name": "stderr",
     "output_type": "stream",
     "text": [
      "\r",
      " 12%|█▏        | 37/300 [09:08<1:14:11, 16.93s/it]"
     ]
    },
    {
     "name": "stdout",
     "output_type": "stream",
     "text": [
      "Before backend torch.Size([1, 512, 82, 128])\n",
      "After backend torch.Size([1, 64, 82, 128])\n",
      "After output layer:  torch.Size([1, 1, 82, 128])\n",
      "Final out torch.Size([1, 1, 656, 1024])\n"
     ]
    },
    {
     "name": "stderr",
     "output_type": "stream",
     "text": [
      "\r",
      " 13%|█▎        | 38/300 [09:26<1:15:47, 17.36s/it]"
     ]
    },
    {
     "name": "stdout",
     "output_type": "stream",
     "text": [
      "There is a grayscale image.\n",
      "Before backend torch.Size([1, 512, 92, 128])\n",
      "After backend torch.Size([1, 64, 92, 128])\n",
      "After output layer:  torch.Size([1, 1, 92, 128])\n",
      "Final out torch.Size([1, 1, 736, 1024])\n"
     ]
    },
    {
     "name": "stderr",
     "output_type": "stream",
     "text": [
      "\r",
      " 13%|█▎        | 39/300 [09:47<1:19:59, 18.39s/it]"
     ]
    },
    {
     "name": "stdout",
     "output_type": "stream",
     "text": [
      "Before backend torch.Size([1, 512, 84, 128])\n",
      "After backend torch.Size([1, 64, 84, 128])\n",
      "After output layer:  torch.Size([1, 1, 84, 128])\n",
      "Final out torch.Size([1, 1, 672, 1024])\n"
     ]
    },
    {
     "name": "stderr",
     "output_type": "stream",
     "text": [
      "\r",
      " 13%|█▎        | 40/300 [10:05<1:18:57, 18.22s/it]"
     ]
    },
    {
     "name": "stdout",
     "output_type": "stream",
     "text": [
      "Before backend torch.Size([1, 512, 84, 128])\n",
      "After backend torch.Size([1, 64, 84, 128])\n",
      "After output layer:  torch.Size([1, 1, 84, 128])\n",
      "Final out torch.Size([1, 1, 672, 1024])\n"
     ]
    },
    {
     "name": "stderr",
     "output_type": "stream",
     "text": [
      "\r",
      " 14%|█▎        | 41/300 [10:22<1:18:04, 18.09s/it]"
     ]
    },
    {
     "name": "stdout",
     "output_type": "stream",
     "text": [
      "Before backend torch.Size([1, 512, 56, 74])\n",
      "After backend torch.Size([1, 64, 56, 74])\n",
      "After output layer:  torch.Size([1, 1, 56, 74])\n",
      "Final out torch.Size([1, 1, 448, 592])\n"
     ]
    },
    {
     "name": "stderr",
     "output_type": "stream",
     "text": [
      "\r",
      " 14%|█▍        | 42/300 [10:30<1:03:48, 14.84s/it]"
     ]
    },
    {
     "name": "stdout",
     "output_type": "stream",
     "text": [
      "Before backend torch.Size([1, 512, 96, 128])\n",
      "After backend torch.Size([1, 64, 96, 128])\n",
      "After output layer:  torch.Size([1, 1, 96, 128])\n",
      "Final out torch.Size([1, 1, 768, 1024])\n"
     ]
    },
    {
     "name": "stderr",
     "output_type": "stream",
     "text": [
      "\r",
      " 14%|█▍        | 43/300 [10:51<1:11:24, 16.67s/it]"
     ]
    },
    {
     "name": "stdout",
     "output_type": "stream",
     "text": [
      "Before backend torch.Size([1, 512, 64, 128])\n",
      "After backend torch.Size([1, 64, 64, 128])\n",
      "After output layer:  torch.Size([1, 1, 64, 128])\n",
      "Final out torch.Size([1, 1, 512, 1024])\n"
     ]
    },
    {
     "name": "stderr",
     "output_type": "stream",
     "text": [
      "\r",
      " 15%|█▍        | 44/300 [11:04<1:07:17, 15.77s/it]"
     ]
    },
    {
     "name": "stdout",
     "output_type": "stream",
     "text": [
      "Before backend torch.Size([1, 512, 82, 124])\n",
      "After backend torch.Size([1, 64, 82, 124])\n",
      "After output layer:  torch.Size([1, 1, 82, 124])\n",
      "Final out torch.Size([1, 1, 656, 992])\n"
     ]
    },
    {
     "name": "stderr",
     "output_type": "stream",
     "text": [
      "\r",
      " 15%|█▌        | 45/300 [11:22<1:09:28, 16.35s/it]"
     ]
    },
    {
     "name": "stdout",
     "output_type": "stream",
     "text": [
      "Before backend torch.Size([1, 512, 96, 128])\n",
      "After backend torch.Size([1, 64, 96, 128])\n",
      "After output layer:  torch.Size([1, 1, 96, 128])\n",
      "Final out torch.Size([1, 1, 768, 1024])\n"
     ]
    },
    {
     "name": "stderr",
     "output_type": "stream",
     "text": [
      "\r",
      " 15%|█▌        | 46/300 [11:43<1:14:32, 17.61s/it]"
     ]
    },
    {
     "name": "stdout",
     "output_type": "stream",
     "text": [
      "Before backend torch.Size([1, 512, 76, 126])\n",
      "After backend torch.Size([1, 64, 76, 126])\n",
      "After output layer:  torch.Size([1, 1, 76, 126])\n",
      "Final out torch.Size([1, 1, 608, 1008])\n"
     ]
    },
    {
     "name": "stderr",
     "output_type": "stream",
     "text": [
      "\r",
      " 16%|█▌        | 47/300 [11:58<1:12:04, 17.09s/it]"
     ]
    },
    {
     "name": "stdout",
     "output_type": "stream",
     "text": [
      "Before backend torch.Size([1, 512, 48, 74])\n",
      "After backend torch.Size([1, 64, 48, 74])\n",
      "After output layer:  torch.Size([1, 1, 48, 74])\n",
      "Final out torch.Size([1, 1, 384, 592])\n"
     ]
    },
    {
     "name": "stderr",
     "output_type": "stream",
     "text": [
      "\r",
      " 16%|█▌        | 48/300 [12:05<57:56, 13.80s/it]  "
     ]
    },
    {
     "name": "stdout",
     "output_type": "stream",
     "text": [
      "Before backend torch.Size([1, 512, 56, 88])\n",
      "After backend torch.Size([1, 64, 56, 88])\n",
      "After output layer:  torch.Size([1, 1, 56, 88])\n",
      "Final out torch.Size([1, 1, 448, 704])\n"
     ]
    },
    {
     "name": "stderr",
     "output_type": "stream",
     "text": [
      "\r",
      " 16%|█▋        | 49/300 [12:13<50:27, 12.06s/it]"
     ]
    },
    {
     "name": "stdout",
     "output_type": "stream",
     "text": [
      "Before backend torch.Size([1, 512, 92, 124])\n",
      "After backend torch.Size([1, 64, 92, 124])\n",
      "After output layer:  torch.Size([1, 1, 92, 124])\n",
      "Final out torch.Size([1, 1, 736, 992])\n"
     ]
    },
    {
     "name": "stderr",
     "output_type": "stream",
     "text": [
      "\r",
      " 17%|█▋        | 50/300 [12:32<58:50, 14.12s/it]"
     ]
    },
    {
     "name": "stdout",
     "output_type": "stream",
     "text": [
      "Before backend torch.Size([1, 512, 66, 100])\n",
      "After backend torch.Size([1, 64, 66, 100])\n",
      "After output layer:  torch.Size([1, 1, 66, 100])\n",
      "Final out torch.Size([1, 1, 528, 800])\n"
     ]
    },
    {
     "name": "stderr",
     "output_type": "stream",
     "text": [
      "\r",
      " 17%|█▋        | 51/300 [12:43<55:02, 13.26s/it]"
     ]
    },
    {
     "name": "stdout",
     "output_type": "stream",
     "text": [
      "Before backend torch.Size([1, 512, 84, 128])\n",
      "After backend torch.Size([1, 64, 84, 128])\n",
      "After output layer:  torch.Size([1, 1, 84, 128])\n",
      "Final out torch.Size([1, 1, 672, 1024])\n"
     ]
    },
    {
     "name": "stderr",
     "output_type": "stream",
     "text": [
      "\r",
      " 17%|█▋        | 52/300 [13:01<1:01:27, 14.87s/it]"
     ]
    },
    {
     "name": "stdout",
     "output_type": "stream",
     "text": [
      "Before backend torch.Size([1, 512, 42, 62])\n",
      "After backend torch.Size([1, 64, 42, 62])\n",
      "After output layer:  torch.Size([1, 1, 42, 62])\n",
      "Final out torch.Size([1, 1, 336, 496])\n"
     ]
    },
    {
     "name": "stderr",
     "output_type": "stream",
     "text": [
      "\r",
      " 18%|█▊        | 53/300 [13:06<48:36, 11.81s/it]  "
     ]
    },
    {
     "name": "stdout",
     "output_type": "stream",
     "text": [
      "Before backend torch.Size([1, 512, 84, 128])\n",
      "After backend torch.Size([1, 64, 84, 128])\n",
      "After output layer:  torch.Size([1, 1, 84, 128])\n",
      "Final out torch.Size([1, 1, 672, 1024])\n"
     ]
    },
    {
     "name": "stderr",
     "output_type": "stream",
     "text": [
      "\r",
      " 18%|█▊        | 54/300 [13:25<56:44, 13.84s/it]"
     ]
    },
    {
     "name": "stdout",
     "output_type": "stream",
     "text": [
      "Before backend torch.Size([1, 512, 96, 128])\n",
      "After backend torch.Size([1, 64, 96, 128])\n",
      "After output layer:  torch.Size([1, 1, 96, 128])\n",
      "Final out torch.Size([1, 1, 768, 1024])\n"
     ]
    },
    {
     "name": "stderr",
     "output_type": "stream",
     "text": [
      "\r",
      " 18%|█▊        | 55/300 [13:46<1:05:52, 16.13s/it]"
     ]
    },
    {
     "name": "stdout",
     "output_type": "stream",
     "text": [
      "Before backend torch.Size([1, 512, 84, 128])\n",
      "After backend torch.Size([1, 64, 84, 128])\n",
      "After output layer:  torch.Size([1, 1, 84, 128])\n",
      "Final out torch.Size([1, 1, 672, 1024])\n"
     ]
    },
    {
     "name": "stderr",
     "output_type": "stream",
     "text": [
      "\r",
      " 19%|█▊        | 56/300 [14:06<1:09:42, 17.14s/it]"
     ]
    },
    {
     "name": "stdout",
     "output_type": "stream",
     "text": [
      "Before backend torch.Size([1, 512, 70, 106])\n",
      "After backend torch.Size([1, 64, 70, 106])\n",
      "After output layer:  torch.Size([1, 1, 70, 106])\n",
      "Final out torch.Size([1, 1, 560, 848])\n"
     ]
    },
    {
     "name": "stderr",
     "output_type": "stream",
     "text": [
      "\r",
      " 19%|█▉        | 57/300 [14:20<1:06:03, 16.31s/it]"
     ]
    },
    {
     "name": "stdout",
     "output_type": "stream",
     "text": [
      "Before backend torch.Size([1, 512, 54, 86])\n",
      "After backend torch.Size([1, 64, 54, 86])\n",
      "After output layer:  torch.Size([1, 1, 54, 86])\n",
      "Final out torch.Size([1, 1, 432, 688])\n"
     ]
    },
    {
     "name": "stderr",
     "output_type": "stream",
     "text": [
      "\r",
      " 19%|█▉        | 58/300 [14:28<55:39, 13.80s/it]  "
     ]
    },
    {
     "name": "stdout",
     "output_type": "stream",
     "text": [
      "Before backend torch.Size([1, 512, 48, 86])\n",
      "After backend torch.Size([1, 64, 48, 86])\n",
      "After output layer:  torch.Size([1, 1, 48, 86])\n",
      "Final out torch.Size([1, 1, 384, 688])\n"
     ]
    },
    {
     "name": "stderr",
     "output_type": "stream",
     "text": [
      "\r",
      " 20%|█▉        | 59/300 [14:35<47:15, 11.77s/it]"
     ]
    },
    {
     "name": "stdout",
     "output_type": "stream",
     "text": [
      "Before backend torch.Size([1, 512, 52, 76])\n",
      "After backend torch.Size([1, 64, 52, 76])\n",
      "After output layer:  torch.Size([1, 1, 52, 76])\n",
      "Final out torch.Size([1, 1, 416, 608])\n"
     ]
    },
    {
     "name": "stderr",
     "output_type": "stream",
     "text": [
      "\r",
      " 20%|██        | 60/300 [14:42<41:01, 10.26s/it]"
     ]
    },
    {
     "name": "stdout",
     "output_type": "stream",
     "text": [
      "Before backend torch.Size([1, 512, 96, 128])\n",
      "After backend torch.Size([1, 64, 96, 128])\n",
      "After output layer:  torch.Size([1, 1, 96, 128])\n",
      "Final out torch.Size([1, 1, 768, 1024])\n"
     ]
    },
    {
     "name": "stderr",
     "output_type": "stream",
     "text": [
      "\r",
      " 20%|██        | 61/300 [15:05<56:26, 14.17s/it]"
     ]
    },
    {
     "name": "stdout",
     "output_type": "stream",
     "text": [
      "Before backend torch.Size([1, 512, 76, 120])\n",
      "After backend torch.Size([1, 64, 76, 120])\n",
      "After output layer:  torch.Size([1, 1, 76, 120])\n",
      "Final out torch.Size([1, 1, 608, 960])\n"
     ]
    },
    {
     "name": "stderr",
     "output_type": "stream",
     "text": [
      "\r",
      " 21%|██        | 62/300 [15:20<57:24, 14.47s/it]"
     ]
    },
    {
     "name": "stdout",
     "output_type": "stream",
     "text": [
      "Before backend torch.Size([1, 512, 84, 128])\n",
      "After backend torch.Size([1, 64, 84, 128])\n",
      "After output layer:  torch.Size([1, 1, 84, 128])\n",
      "Final out torch.Size([1, 1, 672, 1024])\n"
     ]
    },
    {
     "name": "stderr",
     "output_type": "stream",
     "text": [
      "\r",
      " 21%|██        | 63/300 [15:38<1:01:21, 15.54s/it]"
     ]
    },
    {
     "name": "stdout",
     "output_type": "stream",
     "text": [
      "Before backend torch.Size([1, 512, 78, 128])\n",
      "After backend torch.Size([1, 64, 78, 128])\n",
      "After output layer:  torch.Size([1, 1, 78, 128])\n",
      "Final out torch.Size([1, 1, 624, 1024])\n"
     ]
    },
    {
     "name": "stderr",
     "output_type": "stream",
     "text": [
      "\r",
      " 21%|██▏       | 64/300 [15:56<1:04:10, 16.32s/it]"
     ]
    },
    {
     "name": "stdout",
     "output_type": "stream",
     "text": [
      "Before backend torch.Size([1, 512, 96, 128])\n",
      "After backend torch.Size([1, 64, 96, 128])\n",
      "After output layer:  torch.Size([1, 1, 96, 128])\n",
      "Final out torch.Size([1, 1, 768, 1024])\n"
     ]
    },
    {
     "name": "stderr",
     "output_type": "stream",
     "text": [
      "\r",
      " 22%|██▏       | 65/300 [16:17<1:09:16, 17.69s/it]"
     ]
    },
    {
     "name": "stdout",
     "output_type": "stream",
     "text": [
      "Before backend torch.Size([1, 512, 50, 70])\n",
      "After backend torch.Size([1, 64, 50, 70])\n",
      "After output layer:  torch.Size([1, 1, 50, 70])\n",
      "Final out torch.Size([1, 1, 400, 560])\n"
     ]
    },
    {
     "name": "stderr",
     "output_type": "stream",
     "text": [
      "\r",
      " 22%|██▏       | 66/300 [16:23<55:16, 14.17s/it]  "
     ]
    },
    {
     "name": "stdout",
     "output_type": "stream",
     "text": [
      "Before backend torch.Size([1, 512, 96, 128])\n",
      "After backend torch.Size([1, 64, 96, 128])\n",
      "After output layer:  torch.Size([1, 1, 96, 128])\n",
      "Final out torch.Size([1, 1, 768, 1024])\n"
     ]
    },
    {
     "name": "stderr",
     "output_type": "stream",
     "text": [
      "\r",
      " 22%|██▏       | 67/300 [16:44<1:02:36, 16.12s/it]"
     ]
    },
    {
     "name": "stdout",
     "output_type": "stream",
     "text": [
      "Before backend torch.Size([1, 512, 42, 70])\n",
      "After backend torch.Size([1, 64, 42, 70])\n",
      "After output layer:  torch.Size([1, 1, 42, 70])\n",
      "Final out torch.Size([1, 1, 336, 560])\n"
     ]
    },
    {
     "name": "stderr",
     "output_type": "stream",
     "text": [
      "\r",
      " 23%|██▎       | 68/300 [16:49<49:09, 12.71s/it]  "
     ]
    },
    {
     "name": "stdout",
     "output_type": "stream",
     "text": [
      "Before backend torch.Size([1, 512, 84, 128])\n",
      "After backend torch.Size([1, 64, 84, 128])\n",
      "After output layer:  torch.Size([1, 1, 84, 128])\n",
      "Final out torch.Size([1, 1, 672, 1024])\n"
     ]
    },
    {
     "name": "stderr",
     "output_type": "stream",
     "text": [
      "\r",
      " 23%|██▎       | 69/300 [17:06<54:49, 14.24s/it]"
     ]
    },
    {
     "name": "stdout",
     "output_type": "stream",
     "text": [
      "Before backend torch.Size([1, 512, 46, 68])\n",
      "After backend torch.Size([1, 64, 46, 68])\n",
      "After output layer:  torch.Size([1, 1, 46, 68])\n",
      "Final out torch.Size([1, 1, 368, 544])\n"
     ]
    },
    {
     "name": "stderr",
     "output_type": "stream",
     "text": [
      "\r",
      " 23%|██▎       | 70/300 [17:12<44:20, 11.57s/it]"
     ]
    },
    {
     "name": "stdout",
     "output_type": "stream",
     "text": [
      "Before backend torch.Size([1, 512, 86, 128])\n",
      "After backend torch.Size([1, 64, 86, 128])\n",
      "After output layer:  torch.Size([1, 1, 86, 128])\n",
      "Final out torch.Size([1, 1, 688, 1024])\n"
     ]
    },
    {
     "name": "stderr",
     "output_type": "stream",
     "text": [
      "\r",
      " 24%|██▎       | 71/300 [17:31<52:50, 13.85s/it]"
     ]
    },
    {
     "name": "stdout",
     "output_type": "stream",
     "text": [
      "Before backend torch.Size([1, 512, 46, 62])\n",
      "After backend torch.Size([1, 64, 46, 62])\n",
      "After output layer:  torch.Size([1, 1, 46, 62])\n",
      "Final out torch.Size([1, 1, 368, 496])\n"
     ]
    },
    {
     "name": "stderr",
     "output_type": "stream",
     "text": [
      "\r",
      " 24%|██▍       | 72/300 [17:36<42:25, 11.17s/it]"
     ]
    },
    {
     "name": "stdout",
     "output_type": "stream",
     "text": [
      "Before backend torch.Size([1, 512, 80, 100])\n",
      "After backend torch.Size([1, 64, 80, 100])\n",
      "After output layer:  torch.Size([1, 1, 80, 100])\n",
      "Final out torch.Size([1, 1, 640, 800])\n"
     ]
    },
    {
     "name": "stderr",
     "output_type": "stream",
     "text": [
      "\r",
      " 24%|██▍       | 73/300 [17:49<44:30, 11.77s/it]"
     ]
    },
    {
     "name": "stdout",
     "output_type": "stream",
     "text": [
      "Before backend torch.Size([1, 512, 84, 128])\n",
      "After backend torch.Size([1, 64, 84, 128])\n",
      "After output layer:  torch.Size([1, 1, 84, 128])\n",
      "Final out torch.Size([1, 1, 672, 1024])\n"
     ]
    },
    {
     "name": "stderr",
     "output_type": "stream",
     "text": [
      "\r",
      " 25%|██▍       | 74/300 [18:07<51:43, 13.73s/it]"
     ]
    },
    {
     "name": "stdout",
     "output_type": "stream",
     "text": [
      "Before backend torch.Size([1, 512, 84, 128])\n",
      "After backend torch.Size([1, 64, 84, 128])\n",
      "After output layer:  torch.Size([1, 1, 84, 128])\n",
      "Final out torch.Size([1, 1, 672, 1024])\n"
     ]
    },
    {
     "name": "stderr",
     "output_type": "stream",
     "text": [
      "\r",
      " 25%|██▌       | 75/300 [18:25<56:05, 14.96s/it]"
     ]
    },
    {
     "name": "stdout",
     "output_type": "stream",
     "text": [
      "Before backend torch.Size([1, 512, 70, 128])\n",
      "After backend torch.Size([1, 64, 70, 128])\n",
      "After output layer:  torch.Size([1, 1, 70, 128])\n",
      "Final out torch.Size([1, 1, 560, 1024])\n"
     ]
    },
    {
     "name": "stderr",
     "output_type": "stream",
     "text": [
      "\r",
      " 25%|██▌       | 76/300 [18:40<55:58, 14.99s/it]"
     ]
    },
    {
     "name": "stdout",
     "output_type": "stream",
     "text": [
      "Before backend torch.Size([1, 512, 84, 128])\n",
      "After backend torch.Size([1, 64, 84, 128])\n",
      "After output layer:  torch.Size([1, 1, 84, 128])\n",
      "Final out torch.Size([1, 1, 672, 1024])\n"
     ]
    },
    {
     "name": "stderr",
     "output_type": "stream",
     "text": [
      "\r",
      " 26%|██▌       | 77/300 [18:58<59:11, 15.92s/it]"
     ]
    },
    {
     "name": "stdout",
     "output_type": "stream",
     "text": [
      "Before backend torch.Size([1, 512, 76, 128])\n",
      "After backend torch.Size([1, 64, 76, 128])\n",
      "After output layer:  torch.Size([1, 1, 76, 128])\n",
      "Final out torch.Size([1, 1, 608, 1024])\n"
     ]
    },
    {
     "name": "stderr",
     "output_type": "stream",
     "text": [
      "\r",
      " 26%|██▌       | 78/300 [19:16<1:00:37, 16.39s/it]"
     ]
    },
    {
     "name": "stdout",
     "output_type": "stream",
     "text": [
      "Before backend torch.Size([1, 512, 34, 50])\n",
      "After backend torch.Size([1, 64, 34, 50])\n",
      "After output layer:  torch.Size([1, 1, 34, 50])\n",
      "Final out torch.Size([1, 1, 272, 400])\n"
     ]
    },
    {
     "name": "stderr",
     "output_type": "stream",
     "text": [
      "\r",
      " 26%|██▋       | 79/300 [19:19<45:26, 12.34s/it]  "
     ]
    },
    {
     "name": "stdout",
     "output_type": "stream",
     "text": [
      "Before backend torch.Size([1, 512, 54, 128])\n",
      "After backend torch.Size([1, 64, 54, 128])\n",
      "After output layer:  torch.Size([1, 1, 54, 128])\n",
      "Final out torch.Size([1, 1, 432, 1024])\n"
     ]
    },
    {
     "name": "stderr",
     "output_type": "stream",
     "text": [
      "\r",
      " 27%|██▋       | 80/300 [19:30<44:35, 12.16s/it]"
     ]
    },
    {
     "name": "stdout",
     "output_type": "stream",
     "text": [
      "Before backend torch.Size([1, 512, 86, 128])\n",
      "After backend torch.Size([1, 64, 86, 128])\n",
      "After output layer:  torch.Size([1, 1, 86, 128])\n",
      "Final out torch.Size([1, 1, 688, 1024])\n"
     ]
    },
    {
     "name": "stderr",
     "output_type": "stream",
     "text": [
      "\r",
      " 27%|██▋       | 81/300 [19:49<51:36, 14.14s/it]"
     ]
    },
    {
     "name": "stdout",
     "output_type": "stream",
     "text": [
      "Before backend torch.Size([1, 512, 56, 96])\n",
      "After backend torch.Size([1, 64, 56, 96])\n",
      "After output layer:  torch.Size([1, 1, 56, 96])\n",
      "Final out torch.Size([1, 1, 448, 768])\n"
     ]
    },
    {
     "name": "stderr",
     "output_type": "stream",
     "text": [
      "\r",
      " 27%|██▋       | 82/300 [19:58<46:00, 12.66s/it]"
     ]
    },
    {
     "name": "stdout",
     "output_type": "stream",
     "text": [
      "Before backend torch.Size([1, 512, 84, 128])\n",
      "After backend torch.Size([1, 64, 84, 128])\n",
      "After output layer:  torch.Size([1, 1, 84, 128])\n",
      "Final out torch.Size([1, 1, 672, 1024])\n"
     ]
    },
    {
     "name": "stderr",
     "output_type": "stream",
     "text": [
      "\r",
      " 28%|██▊       | 83/300 [20:17<52:09, 14.42s/it]"
     ]
    },
    {
     "name": "stdout",
     "output_type": "stream",
     "text": [
      "Before backend torch.Size([1, 512, 70, 104])\n",
      "After backend torch.Size([1, 64, 70, 104])\n",
      "After output layer:  torch.Size([1, 1, 70, 104])\n",
      "Final out torch.Size([1, 1, 560, 832])\n"
     ]
    },
    {
     "name": "stderr",
     "output_type": "stream",
     "text": [
      "\r",
      " 28%|██▊       | 84/300 [20:28<48:21, 13.43s/it]"
     ]
    },
    {
     "name": "stdout",
     "output_type": "stream",
     "text": [
      "Before backend torch.Size([1, 512, 56, 100])\n",
      "After backend torch.Size([1, 64, 56, 100])\n",
      "After output layer:  torch.Size([1, 1, 56, 100])\n",
      "Final out torch.Size([1, 1, 448, 800])\n"
     ]
    },
    {
     "name": "stderr",
     "output_type": "stream",
     "text": [
      "\r",
      " 28%|██▊       | 85/300 [20:37<43:31, 12.15s/it]"
     ]
    },
    {
     "name": "stdout",
     "output_type": "stream",
     "text": [
      "Before backend torch.Size([1, 512, 84, 128])\n",
      "After backend torch.Size([1, 64, 84, 128])\n",
      "After output layer:  torch.Size([1, 1, 84, 128])\n",
      "Final out torch.Size([1, 1, 672, 1024])\n"
     ]
    },
    {
     "name": "stderr",
     "output_type": "stream",
     "text": [
      "\r",
      " 29%|██▊       | 86/300 [20:57<51:40, 14.49s/it]"
     ]
    },
    {
     "name": "stdout",
     "output_type": "stream",
     "text": [
      "Before backend torch.Size([1, 512, 96, 128])\n",
      "After backend torch.Size([1, 64, 96, 128])\n",
      "After output layer:  torch.Size([1, 1, 96, 128])\n",
      "Final out torch.Size([1, 1, 768, 1024])\n"
     ]
    },
    {
     "name": "stderr",
     "output_type": "stream",
     "text": [
      "\r",
      " 29%|██▉       | 87/300 [21:19<59:04, 16.64s/it]"
     ]
    },
    {
     "name": "stdout",
     "output_type": "stream",
     "text": [
      "Before backend torch.Size([1, 512, 84, 128])\n",
      "After backend torch.Size([1, 64, 84, 128])\n",
      "After output layer:  torch.Size([1, 1, 84, 128])\n",
      "Final out torch.Size([1, 1, 672, 1024])\n"
     ]
    },
    {
     "name": "stderr",
     "output_type": "stream",
     "text": [
      "\r",
      " 29%|██▉       | 88/300 [21:38<1:01:08, 17.30s/it]"
     ]
    },
    {
     "name": "stdout",
     "output_type": "stream",
     "text": [
      "Before backend torch.Size([1, 512, 96, 128])\n",
      "After backend torch.Size([1, 64, 96, 128])\n",
      "After output layer:  torch.Size([1, 1, 96, 128])\n",
      "Final out torch.Size([1, 1, 768, 1024])\n"
     ]
    },
    {
     "name": "stderr",
     "output_type": "stream",
     "text": [
      "\r",
      " 30%|██▉       | 89/300 [21:58<1:03:42, 18.12s/it]"
     ]
    },
    {
     "name": "stdout",
     "output_type": "stream",
     "text": [
      "Before backend torch.Size([1, 512, 96, 128])\n",
      "After backend torch.Size([1, 64, 96, 128])\n",
      "After output layer:  torch.Size([1, 1, 96, 128])\n",
      "Final out torch.Size([1, 1, 768, 1024])\n"
     ]
    },
    {
     "name": "stderr",
     "output_type": "stream",
     "text": [
      "\r",
      " 30%|███       | 90/300 [22:18<1:05:36, 18.74s/it]"
     ]
    },
    {
     "name": "stdout",
     "output_type": "stream",
     "text": [
      "Before backend torch.Size([1, 512, 102, 128])\n"
     ]
    }
   ],
   "source": [
    "cfg = Config()                                                          # configuration\n",
    "continue_training = False\n",
    "\n",
    "model = CSRNet().to(cfg.device) \n",
    "\n",
    "if continue_training:\n",
    "    model.load_state_dict(torch.load('checkpoints/shaghai_tech_a_best.pth') )                                        # GPU\n",
    "    # torch.load('checkpoints/shaghai_tech_a_best.pth', map_location=lambda storage, loc: storage)  # CPU\n",
    "                                                                        # model\n",
    "criterion = nn.MSELoss(size_average=False)                              # objective\n",
    "optimizer = torch.optim.Adam(model.parameters(),lr=cfg.lr)              # optimizer\n",
    "train_dataloader = create_train_dataloader(cfg.dataset_root, use_flip=True, batch_size=cfg.batch_size)\n",
    "test_dataloader  = create_test_dataloader(cfg.dataset_root)             # dataloader\n",
    "\n",
    "min_mae = sys.maxsize\n",
    "min_mae_epoch = -1\n",
    "for epoch in range(1, cfg.epochs):                                      # start training\n",
    "    model.train()\n",
    "    epoch_loss = 0.0\n",
    "    for i, data in enumerate(tqdm(train_dataloader)):\n",
    "        image = data['image'].to(cfg.device)\n",
    "        gt_densitymap = data['densitymap'].to(cfg.device)\n",
    "        et_densitymap = model(image)                        # forward propagation\n",
    "        loss = criterion(et_densitymap,gt_densitymap)       # calculate loss\n",
    "        epoch_loss += loss.item()\n",
    "        optimizer.zero_grad()\n",
    "        loss.backward()                                     # back propagation\n",
    "        optimizer.step()                                    # update network parameters\n",
    "    cfg.writer.add_scalar('Train_Loss', epoch_loss/len(train_dataloader), epoch)\n",
    "\n",
    "    model.eval()\n",
    "    with torch.no_grad():\n",
    "        epoch_mae = 0.0\n",
    "        for i, data in enumerate(tqdm(test_dataloader)):\n",
    "            image = data['image'].to(cfg.device)\n",
    "            gt_densitymap = data['densitymap'].to(cfg.device)\n",
    "            et_densitymap = model(image).detach()           # forward propagation\n",
    "            mae = abs(et_densitymap.data.sum()-gt_densitymap.data.sum())\n",
    "            epoch_mae += mae.item()\n",
    "        epoch_mae /= len(test_dataloader)\n",
    "        if epoch_mae < min_mae:\n",
    "            min_mae, min_mae_epoch = epoch_mae, epoch\n",
    "            torch.save(model.state_dict(), os.path.join(cfg.checkpoints,str(epoch)+\".pth\"))     # save checkpoints\n",
    "        print('Epoch ', epoch, ' MAE: ', epoch_mae, ' Min MAE: ', min_mae, ' Min Epoch: ', min_mae_epoch)   # print information\n",
    "        cfg.writer.add_scalar('Val_MAE', epoch_mae, epoch)\n",
    "        cfg.writer.add_image(str(epoch)+'/Image', denormalize(image[0].cpu()))\n",
    "        cfg.writer.add_image(str(epoch)+'/Estimate density count:'+ str('%.2f'%(et_densitymap[0].cpu().sum())), et_densitymap[0]/torch.max(et_densitymap[0]))\n",
    "        cfg.writer.add_image(str(epoch)+'/Ground Truth count:'+ str('%.2f'%(gt_densitymap[0].cpu().sum())), gt_densitymap[0]/torch.max(gt_densitymap[0]))\n"
   ]
  },
  {
   "cell_type": "code",
   "execution_count": null,
   "metadata": {},
   "outputs": [],
   "source": []
  }
 ],
 "metadata": {
  "kernelspec": {
   "display_name": "Python 3",
   "language": "python",
   "name": "python3"
  },
  "language_info": {
   "codemirror_mode": {
    "name": "ipython",
    "version": 3
   },
   "file_extension": ".py",
   "mimetype": "text/x-python",
   "name": "python",
   "nbconvert_exporter": "python",
   "pygments_lexer": "ipython3",
   "version": "3.7.4"
  }
 },
 "nbformat": 4,
 "nbformat_minor": 2
}
