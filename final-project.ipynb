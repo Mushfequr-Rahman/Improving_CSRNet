{
 "cells": [
  {
   "cell_type": "code",
   "execution_count": 15,
   "metadata": {},
   "outputs": [],
   "source": [
    "import torch\n",
    "import matplotlib.pyplot as plt\n",
    "import matplotlib.cm as CM\n",
    "from tqdm import tqdm\n",
    "\n",
    "from model import CSRNet\n",
    "from dataset import CrowdDataset"
   ]
  },
  {
   "cell_type": "code",
   "execution_count": 23,
   "metadata": {},
   "outputs": [],
   "source": [
    "def cal_mae(img_root,gt_dmap_root,model_param_path):\n",
    "    '''\n",
    "    Calculate the MAE of the test data.\n",
    "    img_root: the root of test image data.\n",
    "    gt_dmap_root: the root of test ground truth density-map data.\n",
    "    model_param_path: the path of specific mcnn parameters.\n",
    "    '''\n",
    "    device=torch.device(\"cuda\")\n",
    "    model=CSRNet()\n",
    "    #model.load_state_dict(torch.load(model_param_path))\n",
    "    model.load_state_dict(model_param_path, map_location=lambda storage, loc: storage)\n",
    "    model.to(device)\n",
    "    dataset=CrowdDataset(img_root,gt_dmap_root,8)\n",
    "    dataloader=torch.utils.data.DataLoader(dataset,batch_size=1,shuffle=False)\n",
    "    model.eval()\n",
    "    mae=0\n",
    "    with torch.no_grad():\n",
    "        for i,(img,gt_dmap) in enumerate(tqdm(dataloader)):\n",
    "            img=img.to(device)\n",
    "            gt_dmap=gt_dmap.to(device)\n",
    "            # forward propagation\n",
    "            et_dmap=model(img)\n",
    "            mae+=abs(et_dmap.data.sum()-gt_dmap.data.sum()).item()\n",
    "            del img,gt_dmap,et_dmap\n",
    "\n",
    "    print(\"model_param_path:\"+model_param_path+\" mae:\"+str(mae/len(dataloader)))"
   ]
  },
  {
   "cell_type": "code",
   "execution_count": 24,
   "metadata": {},
   "outputs": [],
   "source": [
    "def estimate_density_map(img_root,gt_dmap_root,model_param_path,index):\n",
    "    '''\n",
    "    Show one estimated density-map.\n",
    "    img_root: the root of test image data.\n",
    "    gt_dmap_root: the root of test ground truth density-map data.\n",
    "    model_param_path: the path of specific mcnn parameters.\n",
    "    index: the order of the test image in test dataset.\n",
    "    '''\n",
    "    device=torch.device(\"cuda\")\n",
    "    model=CSRNet().to(device)\n",
    "    model.load_state_dict(torch.load(model_param_path))\n",
    "    dataset=CrowdDataset(img_root,gt_dmap_root,8)\n",
    "    dataloader=torch.utils.data.DataLoader(dataset,batch_size=1,shuffle=False)\n",
    "    model.eval()\n",
    "    for i,(img,gt_dmap) in enumerate(dataloader):\n",
    "        if i==index:\n",
    "            img=img.to(device)\n",
    "            gt_dmap=gt_dmap.to(device)\n",
    "            # forward propagation\n",
    "            et_dmap=model(img).detach()\n",
    "            et_dmap=et_dmap.squeeze(0).squeeze(0).cpu().numpy()\n",
    "            print(et_dmap.shape)\n",
    "            plt.imshow(et_dmap,cmap=CM.jet)\n",
    "            break"
   ]
  },
  {
   "cell_type": "code",
   "execution_count": 25,
   "metadata": {},
   "outputs": [
    {
     "ename": "TypeError",
     "evalue": "load_state_dict() got an unexpected keyword argument 'map_location'",
     "output_type": "error",
     "traceback": [
      "\u001b[0;31m---------------------------------------------------------------------------\u001b[0m",
      "\u001b[0;31mTypeError\u001b[0m                                 Traceback (most recent call last)",
      "\u001b[0;32m<ipython-input-25-eda020e68919>\u001b[0m in \u001b[0;36m<module>\u001b[0;34m\u001b[0m\n\u001b[1;32m      3\u001b[0m \u001b[0mgt_dmap_root\u001b[0m\u001b[0;34m=\u001b[0m\u001b[0;34m'./data/part_A_final/test_data/ground_truth'\u001b[0m\u001b[0;34m\u001b[0m\u001b[0;34m\u001b[0m\u001b[0m\n\u001b[1;32m      4\u001b[0m \u001b[0mmodel_param_path\u001b[0m\u001b[0;34m=\u001b[0m\u001b[0;34m'./checkpoints/shaghai_tech_a_best.pth'\u001b[0m\u001b[0;34m\u001b[0m\u001b[0;34m\u001b[0m\u001b[0m\n\u001b[0;32m----> 5\u001b[0;31m \u001b[0mcal_mae\u001b[0m\u001b[0;34m(\u001b[0m\u001b[0mimg_root\u001b[0m\u001b[0;34m,\u001b[0m\u001b[0mgt_dmap_root\u001b[0m\u001b[0;34m,\u001b[0m\u001b[0mmodel_param_path\u001b[0m\u001b[0;34m)\u001b[0m\u001b[0;34m\u001b[0m\u001b[0;34m\u001b[0m\u001b[0m\n\u001b[0m",
      "\u001b[0;32m<ipython-input-23-5d05a11d6f8d>\u001b[0m in \u001b[0;36mcal_mae\u001b[0;34m(img_root, gt_dmap_root, model_param_path)\u001b[0m\n\u001b[1;32m      9\u001b[0m     \u001b[0mmodel\u001b[0m\u001b[0;34m=\u001b[0m\u001b[0mCSRNet\u001b[0m\u001b[0;34m(\u001b[0m\u001b[0;34m)\u001b[0m\u001b[0;34m\u001b[0m\u001b[0;34m\u001b[0m\u001b[0m\n\u001b[1;32m     10\u001b[0m     \u001b[0;31m#model.load_state_dict(torch.load(model_param_path))\u001b[0m\u001b[0;34m\u001b[0m\u001b[0;34m\u001b[0m\u001b[0;34m\u001b[0m\u001b[0m\n\u001b[0;32m---> 11\u001b[0;31m     \u001b[0mmodel\u001b[0m\u001b[0;34m.\u001b[0m\u001b[0mload_state_dict\u001b[0m\u001b[0;34m(\u001b[0m\u001b[0mmodel_param_path\u001b[0m\u001b[0;34m,\u001b[0m \u001b[0mmap_location\u001b[0m\u001b[0;34m=\u001b[0m\u001b[0;32mlambda\u001b[0m \u001b[0mstorage\u001b[0m\u001b[0;34m,\u001b[0m \u001b[0mloc\u001b[0m\u001b[0;34m:\u001b[0m \u001b[0mstorage\u001b[0m\u001b[0;34m)\u001b[0m\u001b[0;34m\u001b[0m\u001b[0;34m\u001b[0m\u001b[0m\n\u001b[0m\u001b[1;32m     12\u001b[0m     \u001b[0mmodel\u001b[0m\u001b[0;34m.\u001b[0m\u001b[0mto\u001b[0m\u001b[0;34m(\u001b[0m\u001b[0mdevice\u001b[0m\u001b[0;34m)\u001b[0m\u001b[0;34m\u001b[0m\u001b[0;34m\u001b[0m\u001b[0m\n\u001b[1;32m     13\u001b[0m     \u001b[0mdataset\u001b[0m\u001b[0;34m=\u001b[0m\u001b[0mCrowdDataset\u001b[0m\u001b[0;34m(\u001b[0m\u001b[0mimg_root\u001b[0m\u001b[0;34m,\u001b[0m\u001b[0mgt_dmap_root\u001b[0m\u001b[0;34m,\u001b[0m\u001b[0;36m8\u001b[0m\u001b[0;34m)\u001b[0m\u001b[0;34m\u001b[0m\u001b[0;34m\u001b[0m\u001b[0m\n",
      "\u001b[0;31mTypeError\u001b[0m: load_state_dict() got an unexpected keyword argument 'map_location'"
     ]
    }
   ],
   "source": [
    "torch.backends.cudnn.enabled=False\n",
    "img_root='./data/part_A_final/test_data/images'\n",
    "gt_dmap_root='./data/part_A_final/test_data/ground_truth'\n",
    "model_param_path='./checkpoints/shaghai_tech_a_best.pth'\n",
    "cal_mae(img_root,gt_dmap_root,model_param_path)"
   ]
  },
  {
   "cell_type": "code",
   "execution_count": null,
   "metadata": {},
   "outputs": [],
   "source": []
  }
 ],
 "metadata": {
  "kernelspec": {
   "display_name": "Python 3",
   "language": "python",
   "name": "python3"
  },
  "language_info": {
   "codemirror_mode": {
    "name": "ipython",
    "version": 3
   },
   "file_extension": ".py",
   "mimetype": "text/x-python",
   "name": "python",
   "nbconvert_exporter": "python",
   "pygments_lexer": "ipython3",
   "version": "3.7.4"
  }
 },
 "nbformat": 4,
 "nbformat_minor": 4
}
